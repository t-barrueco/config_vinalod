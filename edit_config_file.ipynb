{
 "cells": [
  {
   "cell_type": "code",
   "execution_count": 1,
   "metadata": {},
   "outputs": [],
   "source": [
    "import pandas as pd"
   ]
  },
  {
   "cell_type": "markdown",
   "metadata": {},
   "source": [
    "## Basic Mode"
   ]
  },
  {
   "cell_type": "code",
   "execution_count": 11,
   "metadata": {},
   "outputs": [],
   "source": [
    "filename=\"../config_vinalod/config_basicMode.txt\""
   ]
  },
  {
   "cell_type": "code",
   "execution_count": 12,
   "metadata": {},
   "outputs": [],
   "source": [
    "df=pd.read_csv(filename, sep='\\t')"
   ]
  },
  {
   "cell_type": "code",
   "execution_count": 13,
   "metadata": {},
   "outputs": [
    {
     "data": {
      "text/plain": [
       "Index(['CLASS', 'URL', 'QUERY', 'HIERARCHY', 'PROPERTIES', 'OPTION',\n",
       "       'OPTION_TEXT', 'TYPE', 'CLASSES', 'PARAMETERS', 'FILTERS', 'TOOLTIP',\n",
       "       'FUNCTION'],\n",
       "      dtype='object')"
      ]
     },
     "execution_count": 13,
     "metadata": {},
     "output_type": "execute_result"
    }
   ],
   "source": [
    "df.columns"
   ]
  },
  {
   "cell_type": "code",
   "execution_count": 14,
   "metadata": {},
   "outputs": [
    {
     "data": {
      "text/plain": [
       "'corporateBody_country-Country;corporateBody_location-Location'"
      ]
     },
     "execution_count": 14,
     "metadata": {},
     "output_type": "execute_result"
    }
   ],
   "source": [
    "df.iloc[16].TOOLTIP"
   ]
  },
  {
   "cell_type": "code",
   "execution_count": 8,
   "metadata": {},
   "outputs": [],
   "source": [
    "df.at[0, 'OPTION_TEXT'] = \"PUBLICATIONS - Publications by OP Themex\""
   ]
  },
  {
   "cell_type": "code",
   "execution_count": 15,
   "metadata": {},
   "outputs": [
    {
     "data": {
      "text/html": [
       "<div>\n",
       "<style scoped>\n",
       "    .dataframe tbody tr th:only-of-type {\n",
       "        vertical-align: middle;\n",
       "    }\n",
       "\n",
       "    .dataframe tbody tr th {\n",
       "        vertical-align: top;\n",
       "    }\n",
       "\n",
       "    .dataframe thead th {\n",
       "        text-align: right;\n",
       "    }\n",
       "</style>\n",
       "<table border=\"1\" class=\"dataframe\">\n",
       "  <thead>\n",
       "    <tr style=\"text-align: right;\">\n",
       "      <th></th>\n",
       "      <th>CLASS</th>\n",
       "      <th>URL</th>\n",
       "      <th>QUERY</th>\n",
       "      <th>HIERARCHY</th>\n",
       "      <th>PROPERTIES</th>\n",
       "      <th>OPTION</th>\n",
       "      <th>OPTION_TEXT</th>\n",
       "      <th>TYPE</th>\n",
       "      <th>CLASSES</th>\n",
       "      <th>PARAMETERS</th>\n",
       "      <th>FILTERS</th>\n",
       "      <th>TOOLTIP</th>\n",
       "      <th>FUNCTION</th>\n",
       "    </tr>\n",
       "  </thead>\n",
       "  <tbody>\n",
       "    <tr>\n",
       "      <th>0</th>\n",
       "      <td>opThemeMain</td>\n",
       "      <td>https://publications.europa.eu/webapi/rdf/sparql</td>\n",
       "      <td>\\n    PREFIX xsd: &lt;http://www.w3.org/2001/XMLS...</td>\n",
       "      <td>opThemeMain-opTheme</td>\n",
       "      <td>opThemeMain-opThemeMain_uri;opTheme-opTheme_uri</td>\n",
       "      <td>PUBLICATIONS - Publications by OP Theme</td>\n",
       "      <td>PUBLICATIONS - Publications by OP Themex</td>\n",
       "      <td>TREE</td>\n",
       "      <td>opThemeMain-Publications Themes;opTheme-OP Theme</td>\n",
       "      <td>NaN</td>\n",
       "      <td>NaN</td>\n",
       "      <td>NaN</td>\n",
       "      <td>NaN</td>\n",
       "    </tr>\n",
       "    <tr>\n",
       "      <th>1</th>\n",
       "      <td>Membership</td>\n",
       "      <td>https://publications.europa.eu/webapi/rdf/sparql</td>\n",
       "      <td>\\n    PREFIX xsd: &lt;http://www.w3.org/2001/XMLS...</td>\n",
       "      <td>membership-person</td>\n",
       "      <td>person-person_uri;person-person_gender;person-...</td>\n",
       "      <td>WHOISWHO Person</td>\n",
       "      <td>WHOISWHO Person</td>\n",
       "      <td>TREE</td>\n",
       "      <td>membership-Membership;person-Person</td>\n",
       "      <td>NaN</td>\n",
       "      <td>NaN</td>\n",
       "      <td>NaN</td>\n",
       "      <td>NaN</td>\n",
       "    </tr>\n",
       "    <tr>\n",
       "      <th>2</th>\n",
       "      <td>Directory Organization</td>\n",
       "      <td>https://publications.europa.eu/webapi/rdf/sparql</td>\n",
       "      <td>\\nPREFIX xsd: &lt;http://www.w3.org/2001/XMLSchem...</td>\n",
       "      <td>directoryOrg-directoryOrg2</td>\n",
       "      <td>directoryOrg2-directoryOrg2_uri;directoryOrg2-...</td>\n",
       "      <td>WHOISWHO directoryOrg second level</td>\n",
       "      <td>WHOISWHO directoryOrg second level</td>\n",
       "      <td>TREE</td>\n",
       "      <td>directoryOrg-Directory Organization;directoryO...</td>\n",
       "      <td>NaN</td>\n",
       "      <td>NaN</td>\n",
       "      <td>NaN</td>\n",
       "      <td>NaN</td>\n",
       "    </tr>\n",
       "    <tr>\n",
       "      <th>3</th>\n",
       "      <td>OP Theme</td>\n",
       "      <td>https://publications.europa.eu/webapi/rdf/sparql</td>\n",
       "      <td>\\n        PREFIX xsd: &lt;http://www.w3.org/2001/...</td>\n",
       "      <td>opTheme-corporateBody</td>\n",
       "      <td>opTheme-opTheme_uri;corporateBody-corporateBod...</td>\n",
       "      <td>OP Themes and publication author</td>\n",
       "      <td>OP Themes and publication author</td>\n",
       "      <td>TREE</td>\n",
       "      <td>opTheme-OP Theme;corporateBody-corporateBody</td>\n",
       "      <td>NaN</td>\n",
       "      <td>NaN</td>\n",
       "      <td>NaN</td>\n",
       "      <td>NaN</td>\n",
       "    </tr>\n",
       "    <tr>\n",
       "      <th>4</th>\n",
       "      <td>eurovoc</td>\n",
       "      <td>https://publications.europa.eu/webapi/rdf/sparql</td>\n",
       "      <td>PREFIX xsd: &lt;http://www.w3.org/2001/XMLSchema#...</td>\n",
       "      <td>eurovoc-eurovocDomain-eurovocThesauri-eurovocC...</td>\n",
       "      <td>eurovoc-eurovoc_uri;eurovocDomain-eurovocDomai...</td>\n",
       "      <td>Eurovoc domains, thesauri and concepts</td>\n",
       "      <td>Eurovoc concepts by thesauri and domain</td>\n",
       "      <td>TREE</td>\n",
       "      <td>eurovoc-Eurovoc;eurovocDomain-Eurovoc Domain;e...</td>\n",
       "      <td>NaN</td>\n",
       "      <td>NaN</td>\n",
       "      <td>NaN</td>\n",
       "      <td>NaN</td>\n",
       "    </tr>\n",
       "    <tr>\n",
       "      <th>5</th>\n",
       "      <td>Eurovoc Concept</td>\n",
       "      <td>https://publications.europa.eu/webapi/rdf/sparql</td>\n",
       "      <td>PREFIX rdfs: &lt;http://www.w3.org/2000/01/rdf-sc...</td>\n",
       "      <td>eurovocConcept-aligment</td>\n",
       "      <td>eurovocConcept-eurovocConcept_uri</td>\n",
       "      <td>Eurovoc concept and aligments</td>\n",
       "      <td>Eurovoc concepts and external aligments</td>\n",
       "      <td>TREE</td>\n",
       "      <td>eurovocConcept-Eurovoc Concept;aligment-Aligment</td>\n",
       "      <td>NaN</td>\n",
       "      <td>NaN</td>\n",
       "      <td>NaN</td>\n",
       "      <td>NaN</td>\n",
       "    </tr>\n",
       "    <tr>\n",
       "      <th>6</th>\n",
       "      <td>nuts</td>\n",
       "      <td>https://publications.europa.eu/webapi/rdf/sparql</td>\n",
       "      <td>PREFIX xsd: &lt;http://www.w3.org/2001/XMLSchema#...</td>\n",
       "      <td>nuts-nutsLevel0-nutsLevel1-nutsLevel2-nutsLevel3</td>\n",
       "      <td>nutsLevel0-nutsLevel0_uri;nutsLevel1-nutsLevel...</td>\n",
       "      <td>NUTS Tree</td>\n",
       "      <td>NUTS Tree</td>\n",
       "      <td>TREE</td>\n",
       "      <td>nuts-NUTS Classification;nutsLevel0-NUTS Level...</td>\n",
       "      <td>NaN</td>\n",
       "      <td>NaN</td>\n",
       "      <td>NaN</td>\n",
       "      <td>NaN</td>\n",
       "    </tr>\n",
       "    <tr>\n",
       "      <th>7</th>\n",
       "      <td>taxonomy</td>\n",
       "      <td>https://publications.europa.eu/webapi/rdf/sparql</td>\n",
       "      <td>PREFIX skos: &lt;http://www.w3.org/2004/02/skos/c...</td>\n",
       "      <td>taxonomy-taxonomyType-taxonomyLevel1</td>\n",
       "      <td>taxonomy-taxonomy_def;taxonomyType-taxonomyTyp...</td>\n",
       "      <td>Taxonomies</td>\n",
       "      <td>Taxonomies</td>\n",
       "      <td>TREE</td>\n",
       "      <td>taxonomy-Taxonomies Classification;taxonomyTyp...</td>\n",
       "      <td>NaN</td>\n",
       "      <td>NaN</td>\n",
       "      <td>NaN</td>\n",
       "      <td>NaN</td>\n",
       "    </tr>\n",
       "    <tr>\n",
       "      <th>8</th>\n",
       "      <td>Taxonomy Level</td>\n",
       "      <td>https://publications.europa.eu/webapi/rdf/sparql</td>\n",
       "      <td>PREFIX xsd: &lt;http://www.w3.org/2001/XMLSchema#...</td>\n",
       "      <td>taxonomyLevel1-taxonomyLevel2</td>\n",
       "      <td>taxonomyLevel1-taxonomyLevel1_uri;taxonomyLeve...</td>\n",
       "      <td>Taxonomy Level Children</td>\n",
       "      <td>Taxonomy Level Children</td>\n",
       "      <td>TREE</td>\n",
       "      <td>taxonomyLevel1-Taxonomy Level;taxonomyLevel2-T...</td>\n",
       "      <td>NaN</td>\n",
       "      <td>NaN</td>\n",
       "      <td>NaN</td>\n",
       "      <td>NaN</td>\n",
       "    </tr>\n",
       "    <tr>\n",
       "      <th>9</th>\n",
       "      <td>det</td>\n",
       "      <td>https://publications.europa.eu/webapi/rdf/sparql</td>\n",
       "      <td>PREFIX skos: &lt;http://www.w3.org/2004/02/skos/c...</td>\n",
       "      <td>det-detLevel1-detLevel2</td>\n",
       "      <td>det-det_uri;detLevel1-detLevel1_uri;detLevel2-...</td>\n",
       "      <td>Digital Europa Thesaurus</td>\n",
       "      <td>Digital Europa Thesaurus</td>\n",
       "      <td>TREE</td>\n",
       "      <td>det-DET;detLevel1-DET Level;detLevel2-DET Level</td>\n",
       "      <td>NaN</td>\n",
       "      <td>NaN</td>\n",
       "      <td>NaN</td>\n",
       "      <td>NaN</td>\n",
       "    </tr>\n",
       "    <tr>\n",
       "      <th>10</th>\n",
       "      <td>Eurovoc Concept</td>\n",
       "      <td>https://publications.europa.eu/webapi/rdf/sparql</td>\n",
       "      <td>PREFIX xsd: &lt;http://www.w3.org/2001/XMLSchema#...</td>\n",
       "      <td>eurovocConcept-workType-work</td>\n",
       "      <td>eurovocConcept-eurovocConcept_uri;workType-wor...</td>\n",
       "      <td>Eurovoc concept and work types</td>\n",
       "      <td>Eurovoc concepts and works by type</td>\n",
       "      <td>TREE</td>\n",
       "      <td>eurovocConcept-Eurovoc Concept;workType-Work T...</td>\n",
       "      <td>NaN</td>\n",
       "      <td>NaN</td>\n",
       "      <td>NaN</td>\n",
       "      <td>NaN</td>\n",
       "    </tr>\n",
       "    <tr>\n",
       "      <th>11</th>\n",
       "      <td>DET Level</td>\n",
       "      <td>https://publications.europa.eu/webapi/rdf/sparql</td>\n",
       "      <td>PREFIX xsd: &lt;http://www.w3.org/2001/XMLSchema#...</td>\n",
       "      <td>detLevel2-detLevel3</td>\n",
       "      <td>detLevel2-detLevel2_uri;detLevel3-detLevel3_uri</td>\n",
       "      <td>DET Children Level</td>\n",
       "      <td>DET Children Level</td>\n",
       "      <td>TREE</td>\n",
       "      <td>detLevel2-DET Level;detLevel3-DET Level</td>\n",
       "      <td>NaN</td>\n",
       "      <td>NaN</td>\n",
       "      <td>NaN</td>\n",
       "      <td>NaN</td>\n",
       "    </tr>\n",
       "    <tr>\n",
       "      <th>12</th>\n",
       "      <td>DET Level</td>\n",
       "      <td>https://publications.europa.eu/webapi/rdf/sparql</td>\n",
       "      <td>\\n    PREFIX xsd: &lt;http://www.w3.org/2001/XMLS...</td>\n",
       "      <td>detLevel1-eurovocConcept</td>\n",
       "      <td>detLevel1-detLevel1_uri;eurovocConcept-eurovoc...</td>\n",
       "      <td>DET Level to Eurovoc Concept</td>\n",
       "      <td>DET Level to Eurovoc Concept</td>\n",
       "      <td>TREE</td>\n",
       "      <td>detLevel1-DET Level;eurovocConcept-Eurovoc Con...</td>\n",
       "      <td>NaN</td>\n",
       "      <td>NaN</td>\n",
       "      <td>NaN</td>\n",
       "      <td>NaN</td>\n",
       "    </tr>\n",
       "    <tr>\n",
       "      <th>13</th>\n",
       "      <td>Continents</td>\n",
       "      <td>https://publications.europa.eu/webapi/rdf/sparql</td>\n",
       "      <td>\\n    PREFIX xsd: &lt;http://www.w3.org/2001/XMLS...</td>\n",
       "      <td>continent-continentName-country-language</td>\n",
       "      <td>continent-continent_uri;continentName-continen...</td>\n",
       "      <td>Languages by country and continent</td>\n",
       "      <td>Languages by country and continent</td>\n",
       "      <td>TREE</td>\n",
       "      <td>continent-Continents;continentName-Continent;c...</td>\n",
       "      <td>NaN</td>\n",
       "      <td>NaN</td>\n",
       "      <td>NaN</td>\n",
       "      <td>NaN</td>\n",
       "    </tr>\n",
       "    <tr>\n",
       "      <th>14</th>\n",
       "      <td>Continents</td>\n",
       "      <td>https://publications.europa.eu/webapi/rdf/sparql</td>\n",
       "      <td>PREFIX xsd: &lt;http://www.w3.org/2001/XMLSchema#...</td>\n",
       "      <td>continent-continentName-country-org</td>\n",
       "      <td>continent-continent_uri;continentName-continen...</td>\n",
       "      <td>Continents countries and organisations</td>\n",
       "      <td>Continents countries and organisations those c...</td>\n",
       "      <td>TREE</td>\n",
       "      <td>continent-Continents;continentName-Continent;c...</td>\n",
       "      <td>NaN</td>\n",
       "      <td>NaN</td>\n",
       "      <td>NaN</td>\n",
       "      <td>NaN</td>\n",
       "    </tr>\n",
       "    <tr>\n",
       "      <th>15</th>\n",
       "      <td>org</td>\n",
       "      <td>https://publications.europa.eu/webapi/rdf/sparql</td>\n",
       "      <td>PREFIX skos: &lt;http://www.w3.org/2004/02/skos/c...</td>\n",
       "      <td>org</td>\n",
       "      <td>org-org_desc;org-org_code;org-org_startDate;or...</td>\n",
       "      <td>Timeline organisations</td>\n",
       "      <td>Timeline organisations</td>\n",
       "      <td>TIMELINE</td>\n",
       "      <td>org-Organisation</td>\n",
       "      <td>NaN</td>\n",
       "      <td>NaN</td>\n",
       "      <td>NaN</td>\n",
       "      <td>NaN</td>\n",
       "    </tr>\n",
       "    <tr>\n",
       "      <th>16</th>\n",
       "      <td>eurun</td>\n",
       "      <td>https://publications.europa.eu/webapi/rdf/sparql</td>\n",
       "      <td>\\n    PREFIX xsd: &lt;http://www.w3.org/2001/XMLS...</td>\n",
       "      <td>eurun-corporateBody</td>\n",
       "      <td>eurun-eurun_uri;eurun-eurun_image;corporateBod...</td>\n",
       "      <td>WHOISWHO EURUN Suborganizations</td>\n",
       "      <td>WHOISWHO EURUN Suborganizations</td>\n",
       "      <td>TREE</td>\n",
       "      <td>eurun-European Union;corporateBody-corporateBody</td>\n",
       "      <td>NaN</td>\n",
       "      <td>corporateBody_country-dropdown;corporateBody_l...</td>\n",
       "      <td>corporateBody_country-Country;corporateBody_lo...</td>\n",
       "      <td>NaN</td>\n",
       "    </tr>\n",
       "    <tr>\n",
       "      <th>17</th>\n",
       "      <td>corporateBody</td>\n",
       "      <td>https://publications.europa.eu/webapi/rdf/sparql</td>\n",
       "      <td>\\nPREFIX xsd: &lt;http://www.w3.org/2001/XMLSchem...</td>\n",
       "      <td>corporateBody-directoryOrg</td>\n",
       "      <td>directoryOrg-directoryOrg_uri;directoryOrg-dir...</td>\n",
       "      <td>WHOISWHO Suborganizations</td>\n",
       "      <td>WHOISWHO Suborganizations</td>\n",
       "      <td>TREE</td>\n",
       "      <td>corporateBody-corporateBody;directoryOrg-Direc...</td>\n",
       "      <td>NaN</td>\n",
       "      <td>NaN</td>\n",
       "      <td>NaN</td>\n",
       "      <td>NaN</td>\n",
       "    </tr>\n",
       "    <tr>\n",
       "      <th>18</th>\n",
       "      <td>Directory Organization</td>\n",
       "      <td>https://publications.europa.eu/webapi/rdf/sparql</td>\n",
       "      <td>\\nPREFIX xsd: &lt;http://www.w3.org/2001/XMLSchem...</td>\n",
       "      <td>directoryOrg-membership</td>\n",
       "      <td>membership-membership_directoryOrg</td>\n",
       "      <td>WHOISWHO Membership</td>\n",
       "      <td>WHOISWHO Membership</td>\n",
       "      <td>TREE</td>\n",
       "      <td>directoryOrg-Directory Organization;membership...</td>\n",
       "      <td>NaN</td>\n",
       "      <td>NaN</td>\n",
       "      <td>NaN</td>\n",
       "      <td>NaN</td>\n",
       "    </tr>\n",
       "    <tr>\n",
       "      <th>19</th>\n",
       "      <td>Membership Type</td>\n",
       "      <td>https://publications.europa.eu/webapi/rdf/sparql</td>\n",
       "      <td>\\nPREFIX xsd: &lt;http://www.w3.org/2001/XMLSchem...</td>\n",
       "      <td>membership-person</td>\n",
       "      <td>membership-membership_uri;membership-membershi...</td>\n",
       "      <td>WHOISWHO Membership Type</td>\n",
       "      <td>WHOISWHO Membership Type</td>\n",
       "      <td>TREE</td>\n",
       "      <td>membership-Membership Type;person-Person</td>\n",
       "      <td>membership_directoryOrg</td>\n",
       "      <td>NaN</td>\n",
       "      <td>NaN</td>\n",
       "      <td>NaN</td>\n",
       "    </tr>\n",
       "    <tr>\n",
       "      <th>20</th>\n",
       "      <td>Person</td>\n",
       "      <td>https://query.wikidata.org/sparql</td>\n",
       "      <td>\\n    PREFIX xsd: &lt;http://www.w3.org/2001/XMLS...</td>\n",
       "      <td>person-article</td>\n",
       "      <td>article</td>\n",
       "      <td>WHOISWHO Wikipedia page</td>\n",
       "      <td>WHOISWHO Wikipedia page</td>\n",
       "      <td>WEBPAGE</td>\n",
       "      <td>article-Wikipedia Article</td>\n",
       "      <td>person_id</td>\n",
       "      <td>NaN</td>\n",
       "      <td>NaN</td>\n",
       "      <td>showWikipediaPage</td>\n",
       "    </tr>\n",
       "    <tr>\n",
       "      <th>21</th>\n",
       "      <td>OP Theme</td>\n",
       "      <td>https://publications.europa.eu/webapi/rdf/sparql</td>\n",
       "      <td>\\n        PREFIX xsd: &lt;http://www.w3.org/2001/...</td>\n",
       "      <td>opThemeParent-opThemeChild</td>\n",
       "      <td>opThemeParent-opThemeParent_uri;opThemeChild-o...</td>\n",
       "      <td>OP Themes children</td>\n",
       "      <td>OP Themes children</td>\n",
       "      <td>TREE</td>\n",
       "      <td>opThemeParent-OP Theme;opThemeChild-OP Theme</td>\n",
       "      <td>NaN</td>\n",
       "      <td>NaN</td>\n",
       "      <td>NaN</td>\n",
       "      <td>NaN</td>\n",
       "    </tr>\n",
       "    <tr>\n",
       "      <th>22</th>\n",
       "      <td>Publication Document</td>\n",
       "      <td>https://publications.europa.eu/webapi/rdf/sparql</td>\n",
       "      <td>\\nPREFIX xsd: &lt;http://www.w3.org/2001/XMLSchem...</td>\n",
       "      <td>expression-manifestation</td>\n",
       "      <td>expression-expression_uri;manifestation-manife...</td>\n",
       "      <td>Manifestation by Expression</td>\n",
       "      <td>Manifestation by Expression</td>\n",
       "      <td>TREE</td>\n",
       "      <td>expression-Publication Document;manifestation-...</td>\n",
       "      <td>NaN</td>\n",
       "      <td>NaN</td>\n",
       "      <td>manifestation_type-Manifestation Type</td>\n",
       "      <td>NaN</td>\n",
       "    </tr>\n",
       "    <tr>\n",
       "      <th>23</th>\n",
       "      <td>corporateBody</td>\n",
       "      <td>https://publications.europa.eu/webapi/rdf/sparql</td>\n",
       "      <td>\\nPREFIX xsd: &lt;http://www.w3.org/2001/XMLSchem...</td>\n",
       "      <td>corporateBody-publicationDocument</td>\n",
       "      <td>corporateBody-corporateBody_uri;publicationDoc...</td>\n",
       "      <td>Publications by CorporateBody</td>\n",
       "      <td>Publications by CorporateBody</td>\n",
       "      <td>TREE</td>\n",
       "      <td>corporateBody-corporateBody;publicationDocumen...</td>\n",
       "      <td>corporateBody_opTheme</td>\n",
       "      <td>NaN</td>\n",
       "      <td>NaN</td>\n",
       "      <td>NaN</td>\n",
       "    </tr>\n",
       "  </tbody>\n",
       "</table>\n",
       "</div>"
      ],
      "text/plain": [
       "                     CLASS                                               URL  \\\n",
       "0              opThemeMain  https://publications.europa.eu/webapi/rdf/sparql   \n",
       "1               Membership  https://publications.europa.eu/webapi/rdf/sparql   \n",
       "2   Directory Organization  https://publications.europa.eu/webapi/rdf/sparql   \n",
       "3                 OP Theme  https://publications.europa.eu/webapi/rdf/sparql   \n",
       "4                  eurovoc  https://publications.europa.eu/webapi/rdf/sparql   \n",
       "5          Eurovoc Concept  https://publications.europa.eu/webapi/rdf/sparql   \n",
       "6                     nuts  https://publications.europa.eu/webapi/rdf/sparql   \n",
       "7                 taxonomy  https://publications.europa.eu/webapi/rdf/sparql   \n",
       "8           Taxonomy Level  https://publications.europa.eu/webapi/rdf/sparql   \n",
       "9                      det  https://publications.europa.eu/webapi/rdf/sparql   \n",
       "10         Eurovoc Concept  https://publications.europa.eu/webapi/rdf/sparql   \n",
       "11               DET Level  https://publications.europa.eu/webapi/rdf/sparql   \n",
       "12               DET Level  https://publications.europa.eu/webapi/rdf/sparql   \n",
       "13              Continents  https://publications.europa.eu/webapi/rdf/sparql   \n",
       "14              Continents  https://publications.europa.eu/webapi/rdf/sparql   \n",
       "15                     org  https://publications.europa.eu/webapi/rdf/sparql   \n",
       "16                   eurun  https://publications.europa.eu/webapi/rdf/sparql   \n",
       "17           corporateBody  https://publications.europa.eu/webapi/rdf/sparql   \n",
       "18  Directory Organization  https://publications.europa.eu/webapi/rdf/sparql   \n",
       "19         Membership Type  https://publications.europa.eu/webapi/rdf/sparql   \n",
       "20                  Person                 https://query.wikidata.org/sparql   \n",
       "21                OP Theme  https://publications.europa.eu/webapi/rdf/sparql   \n",
       "22    Publication Document  https://publications.europa.eu/webapi/rdf/sparql   \n",
       "23           corporateBody  https://publications.europa.eu/webapi/rdf/sparql   \n",
       "\n",
       "                                                QUERY  \\\n",
       "0   \\n    PREFIX xsd: <http://www.w3.org/2001/XMLS...   \n",
       "1   \\n    PREFIX xsd: <http://www.w3.org/2001/XMLS...   \n",
       "2   \\nPREFIX xsd: <http://www.w3.org/2001/XMLSchem...   \n",
       "3   \\n        PREFIX xsd: <http://www.w3.org/2001/...   \n",
       "4   PREFIX xsd: <http://www.w3.org/2001/XMLSchema#...   \n",
       "5   PREFIX rdfs: <http://www.w3.org/2000/01/rdf-sc...   \n",
       "6   PREFIX xsd: <http://www.w3.org/2001/XMLSchema#...   \n",
       "7   PREFIX skos: <http://www.w3.org/2004/02/skos/c...   \n",
       "8   PREFIX xsd: <http://www.w3.org/2001/XMLSchema#...   \n",
       "9   PREFIX skos: <http://www.w3.org/2004/02/skos/c...   \n",
       "10  PREFIX xsd: <http://www.w3.org/2001/XMLSchema#...   \n",
       "11  PREFIX xsd: <http://www.w3.org/2001/XMLSchema#...   \n",
       "12  \\n    PREFIX xsd: <http://www.w3.org/2001/XMLS...   \n",
       "13  \\n    PREFIX xsd: <http://www.w3.org/2001/XMLS...   \n",
       "14  PREFIX xsd: <http://www.w3.org/2001/XMLSchema#...   \n",
       "15  PREFIX skos: <http://www.w3.org/2004/02/skos/c...   \n",
       "16  \\n    PREFIX xsd: <http://www.w3.org/2001/XMLS...   \n",
       "17  \\nPREFIX xsd: <http://www.w3.org/2001/XMLSchem...   \n",
       "18  \\nPREFIX xsd: <http://www.w3.org/2001/XMLSchem...   \n",
       "19  \\nPREFIX xsd: <http://www.w3.org/2001/XMLSchem...   \n",
       "20  \\n    PREFIX xsd: <http://www.w3.org/2001/XMLS...   \n",
       "21  \\n        PREFIX xsd: <http://www.w3.org/2001/...   \n",
       "22  \\nPREFIX xsd: <http://www.w3.org/2001/XMLSchem...   \n",
       "23  \\nPREFIX xsd: <http://www.w3.org/2001/XMLSchem...   \n",
       "\n",
       "                                            HIERARCHY  \\\n",
       "0                                 opThemeMain-opTheme   \n",
       "1                                   membership-person   \n",
       "2                          directoryOrg-directoryOrg2   \n",
       "3                               opTheme-corporateBody   \n",
       "4   eurovoc-eurovocDomain-eurovocThesauri-eurovocC...   \n",
       "5                             eurovocConcept-aligment   \n",
       "6    nuts-nutsLevel0-nutsLevel1-nutsLevel2-nutsLevel3   \n",
       "7                taxonomy-taxonomyType-taxonomyLevel1   \n",
       "8                       taxonomyLevel1-taxonomyLevel2   \n",
       "9                             det-detLevel1-detLevel2   \n",
       "10                       eurovocConcept-workType-work   \n",
       "11                                detLevel2-detLevel3   \n",
       "12                           detLevel1-eurovocConcept   \n",
       "13           continent-continentName-country-language   \n",
       "14                continent-continentName-country-org   \n",
       "15                                                org   \n",
       "16                                eurun-corporateBody   \n",
       "17                         corporateBody-directoryOrg   \n",
       "18                            directoryOrg-membership   \n",
       "19                                  membership-person   \n",
       "20                                     person-article   \n",
       "21                         opThemeParent-opThemeChild   \n",
       "22                           expression-manifestation   \n",
       "23                  corporateBody-publicationDocument   \n",
       "\n",
       "                                           PROPERTIES  \\\n",
       "0     opThemeMain-opThemeMain_uri;opTheme-opTheme_uri   \n",
       "1   person-person_uri;person-person_gender;person-...   \n",
       "2   directoryOrg2-directoryOrg2_uri;directoryOrg2-...   \n",
       "3   opTheme-opTheme_uri;corporateBody-corporateBod...   \n",
       "4   eurovoc-eurovoc_uri;eurovocDomain-eurovocDomai...   \n",
       "5                   eurovocConcept-eurovocConcept_uri   \n",
       "6   nutsLevel0-nutsLevel0_uri;nutsLevel1-nutsLevel...   \n",
       "7   taxonomy-taxonomy_def;taxonomyType-taxonomyTyp...   \n",
       "8   taxonomyLevel1-taxonomyLevel1_uri;taxonomyLeve...   \n",
       "9   det-det_uri;detLevel1-detLevel1_uri;detLevel2-...   \n",
       "10  eurovocConcept-eurovocConcept_uri;workType-wor...   \n",
       "11    detLevel2-detLevel2_uri;detLevel3-detLevel3_uri   \n",
       "12  detLevel1-detLevel1_uri;eurovocConcept-eurovoc...   \n",
       "13  continent-continent_uri;continentName-continen...   \n",
       "14  continent-continent_uri;continentName-continen...   \n",
       "15  org-org_desc;org-org_code;org-org_startDate;or...   \n",
       "16  eurun-eurun_uri;eurun-eurun_image;corporateBod...   \n",
       "17  directoryOrg-directoryOrg_uri;directoryOrg-dir...   \n",
       "18                 membership-membership_directoryOrg   \n",
       "19  membership-membership_uri;membership-membershi...   \n",
       "20                                            article   \n",
       "21  opThemeParent-opThemeParent_uri;opThemeChild-o...   \n",
       "22  expression-expression_uri;manifestation-manife...   \n",
       "23  corporateBody-corporateBody_uri;publicationDoc...   \n",
       "\n",
       "                                     OPTION  \\\n",
       "0   PUBLICATIONS - Publications by OP Theme   \n",
       "1                           WHOISWHO Person   \n",
       "2        WHOISWHO directoryOrg second level   \n",
       "3          OP Themes and publication author   \n",
       "4    Eurovoc domains, thesauri and concepts   \n",
       "5             Eurovoc concept and aligments   \n",
       "6                                 NUTS Tree   \n",
       "7                                Taxonomies   \n",
       "8                   Taxonomy Level Children   \n",
       "9                  Digital Europa Thesaurus   \n",
       "10           Eurovoc concept and work types   \n",
       "11                       DET Children Level   \n",
       "12             DET Level to Eurovoc Concept   \n",
       "13       Languages by country and continent   \n",
       "14   Continents countries and organisations   \n",
       "15                   Timeline organisations   \n",
       "16          WHOISWHO EURUN Suborganizations   \n",
       "17                WHOISWHO Suborganizations   \n",
       "18                      WHOISWHO Membership   \n",
       "19                 WHOISWHO Membership Type   \n",
       "20                  WHOISWHO Wikipedia page   \n",
       "21                       OP Themes children   \n",
       "22              Manifestation by Expression   \n",
       "23            Publications by CorporateBody   \n",
       "\n",
       "                                          OPTION_TEXT      TYPE  \\\n",
       "0            PUBLICATIONS - Publications by OP Themex      TREE   \n",
       "1                                     WHOISWHO Person      TREE   \n",
       "2                  WHOISWHO directoryOrg second level      TREE   \n",
       "3                    OP Themes and publication author      TREE   \n",
       "4             Eurovoc concepts by thesauri and domain      TREE   \n",
       "5             Eurovoc concepts and external aligments      TREE   \n",
       "6                                           NUTS Tree      TREE   \n",
       "7                                          Taxonomies      TREE   \n",
       "8                             Taxonomy Level Children      TREE   \n",
       "9                            Digital Europa Thesaurus      TREE   \n",
       "10                 Eurovoc concepts and works by type      TREE   \n",
       "11                                 DET Children Level      TREE   \n",
       "12                       DET Level to Eurovoc Concept      TREE   \n",
       "13                 Languages by country and continent      TREE   \n",
       "14  Continents countries and organisations those c...      TREE   \n",
       "15                             Timeline organisations  TIMELINE   \n",
       "16                    WHOISWHO EURUN Suborganizations      TREE   \n",
       "17                          WHOISWHO Suborganizations      TREE   \n",
       "18                                WHOISWHO Membership      TREE   \n",
       "19                           WHOISWHO Membership Type      TREE   \n",
       "20                            WHOISWHO Wikipedia page   WEBPAGE   \n",
       "21                                 OP Themes children      TREE   \n",
       "22                        Manifestation by Expression      TREE   \n",
       "23                      Publications by CorporateBody      TREE   \n",
       "\n",
       "                                              CLASSES  \\\n",
       "0    opThemeMain-Publications Themes;opTheme-OP Theme   \n",
       "1                 membership-Membership;person-Person   \n",
       "2   directoryOrg-Directory Organization;directoryO...   \n",
       "3        opTheme-OP Theme;corporateBody-corporateBody   \n",
       "4   eurovoc-Eurovoc;eurovocDomain-Eurovoc Domain;e...   \n",
       "5    eurovocConcept-Eurovoc Concept;aligment-Aligment   \n",
       "6   nuts-NUTS Classification;nutsLevel0-NUTS Level...   \n",
       "7   taxonomy-Taxonomies Classification;taxonomyTyp...   \n",
       "8   taxonomyLevel1-Taxonomy Level;taxonomyLevel2-T...   \n",
       "9     det-DET;detLevel1-DET Level;detLevel2-DET Level   \n",
       "10  eurovocConcept-Eurovoc Concept;workType-Work T...   \n",
       "11            detLevel2-DET Level;detLevel3-DET Level   \n",
       "12  detLevel1-DET Level;eurovocConcept-Eurovoc Con...   \n",
       "13  continent-Continents;continentName-Continent;c...   \n",
       "14  continent-Continents;continentName-Continent;c...   \n",
       "15                                   org-Organisation   \n",
       "16   eurun-European Union;corporateBody-corporateBody   \n",
       "17  corporateBody-corporateBody;directoryOrg-Direc...   \n",
       "18  directoryOrg-Directory Organization;membership...   \n",
       "19           membership-Membership Type;person-Person   \n",
       "20                          article-Wikipedia Article   \n",
       "21       opThemeParent-OP Theme;opThemeChild-OP Theme   \n",
       "22  expression-Publication Document;manifestation-...   \n",
       "23  corporateBody-corporateBody;publicationDocumen...   \n",
       "\n",
       "                 PARAMETERS  \\\n",
       "0                       NaN   \n",
       "1                       NaN   \n",
       "2                       NaN   \n",
       "3                       NaN   \n",
       "4                       NaN   \n",
       "5                       NaN   \n",
       "6                       NaN   \n",
       "7                       NaN   \n",
       "8                       NaN   \n",
       "9                       NaN   \n",
       "10                      NaN   \n",
       "11                      NaN   \n",
       "12                      NaN   \n",
       "13                      NaN   \n",
       "14                      NaN   \n",
       "15                      NaN   \n",
       "16                      NaN   \n",
       "17                      NaN   \n",
       "18                      NaN   \n",
       "19  membership_directoryOrg   \n",
       "20                person_id   \n",
       "21                      NaN   \n",
       "22                      NaN   \n",
       "23    corporateBody_opTheme   \n",
       "\n",
       "                                              FILTERS  \\\n",
       "0                                                 NaN   \n",
       "1                                                 NaN   \n",
       "2                                                 NaN   \n",
       "3                                                 NaN   \n",
       "4                                                 NaN   \n",
       "5                                                 NaN   \n",
       "6                                                 NaN   \n",
       "7                                                 NaN   \n",
       "8                                                 NaN   \n",
       "9                                                 NaN   \n",
       "10                                                NaN   \n",
       "11                                                NaN   \n",
       "12                                                NaN   \n",
       "13                                                NaN   \n",
       "14                                                NaN   \n",
       "15                                                NaN   \n",
       "16  corporateBody_country-dropdown;corporateBody_l...   \n",
       "17                                                NaN   \n",
       "18                                                NaN   \n",
       "19                                                NaN   \n",
       "20                                                NaN   \n",
       "21                                                NaN   \n",
       "22                                                NaN   \n",
       "23                                                NaN   \n",
       "\n",
       "                                              TOOLTIP           FUNCTION  \n",
       "0                                                 NaN                NaN  \n",
       "1                                                 NaN                NaN  \n",
       "2                                                 NaN                NaN  \n",
       "3                                                 NaN                NaN  \n",
       "4                                                 NaN                NaN  \n",
       "5                                                 NaN                NaN  \n",
       "6                                                 NaN                NaN  \n",
       "7                                                 NaN                NaN  \n",
       "8                                                 NaN                NaN  \n",
       "9                                                 NaN                NaN  \n",
       "10                                                NaN                NaN  \n",
       "11                                                NaN                NaN  \n",
       "12                                                NaN                NaN  \n",
       "13                                                NaN                NaN  \n",
       "14                                                NaN                NaN  \n",
       "15                                                NaN                NaN  \n",
       "16  corporateBody_country-Country;corporateBody_lo...                NaN  \n",
       "17                                                NaN                NaN  \n",
       "18                                                NaN                NaN  \n",
       "19                                                NaN                NaN  \n",
       "20                                                NaN  showWikipediaPage  \n",
       "21                                                NaN                NaN  \n",
       "22              manifestation_type-Manifestation Type                NaN  \n",
       "23                                                NaN                NaN  "
      ]
     },
     "execution_count": 15,
     "metadata": {},
     "output_type": "execute_result"
    }
   ],
   "source": [
    "df"
   ]
  },
  {
   "cell_type": "code",
   "execution_count": 501,
   "metadata": {},
   "outputs": [],
   "source": [
    "#df[:22]"
   ]
  },
  {
   "cell_type": "code",
   "execution_count": 97,
   "metadata": {},
   "outputs": [],
   "source": [
    "#df=pd.concat([df[22:],df[:22]])"
   ]
  },
  {
   "cell_type": "markdown",
   "metadata": {},
   "source": [
    "### Eurovoc domains, thesauri and concepts"
   ]
  },
  {
   "cell_type": "code",
   "execution_count": 49,
   "metadata": {},
   "outputs": [],
   "source": [
    "df=df[df[\"OPTION\"]!=\"Eurovoc domains, thesauri and concepts\"]"
   ]
  },
  {
   "cell_type": "code",
   "execution_count": 50,
   "metadata": {},
   "outputs": [],
   "source": [
    "url=\"https://publications.europa.eu/webapi/rdf/sparql\""
   ]
  },
  {
   "cell_type": "code",
   "execution_count": 51,
   "metadata": {},
   "outputs": [],
   "source": [
    "className=\"eurovoc\""
   ]
  },
  {
   "cell_type": "code",
   "execution_count": 52,
   "metadata": {},
   "outputs": [],
   "source": [
    "hierarchy=\"eurovoc-eurovocDomain-eurovocThesauri-eurovocConcept\""
   ]
  },
  {
   "cell_type": "code",
   "execution_count": 53,
   "metadata": {},
   "outputs": [],
   "source": [
    "properties=\"eurovoc-eurovoc_uri;eurovocDomain-eurovocDomain_uri;eurovocThesauri-eurovocThesauri_uri;eurovocConcept-eurovocConcept_uri\"\n"
   ]
  },
  {
   "cell_type": "code",
   "execution_count": 54,
   "metadata": {},
   "outputs": [],
   "source": [
    "option=\"Eurovoc domains, thesauri and concepts\""
   ]
  },
  {
   "cell_type": "code",
   "execution_count": 55,
   "metadata": {},
   "outputs": [],
   "source": [
    "option_text=\"Eurovoc concepts by thesauri and domain\""
   ]
  },
  {
   "cell_type": "code",
   "execution_count": 56,
   "metadata": {},
   "outputs": [],
   "source": [
    "query=\"\"\"PREFIX xsd: <http://www.w3.org/2001/XMLSchema#> \n",
    "    PREFIX skos: <http://www.w3.org/2004/02/skos/core#>\n",
    "    PREFIX dcterms: <http://purl.org/dc/terms/>\n",
    "    PREFIX euvoc: <http://publications.europa.eu/ontology/euvoc#>\n",
    "            SELECT DISTINCT ?eurovoc ?eurovoc_uri ?eurovocDomain ?eurovocDomain_uri ?eurovocThesauri ?eurovocThesauri_uri ?eurovocConcept ?eurovocConcept_uri\n",
    "            where {{?eurovoc_uri dcterms:hasPart ?eurovocThesauri_uri;\n",
    "                       skos:prefLabel ?eurovoc.\n",
    "                    ?eurovocThesauri_uri skos:prefLabel ?eurovocThesauri;\n",
    "                       euvoc:domain ?eurovocDomain_uri.\n",
    "                    ?eurovocDomain_uri skos:prefLabel ?eurovocDomain.\n",
    "                    ?eurovocConcept_uri skos:inScheme ?eurovocThesauri_uri;\n",
    "                             skos:prefLabel ?eurovocConcept.\n",
    "                    } \n",
    "                   filter(?eurovoc_uri=<http://eurovoc.europa.eu/100141>).\n",
    "                   FILTER(langMatches(lang(?eurovocDomain), \"en\")) \n",
    "                   FILTER(langMatches(lang(?eurovocThesauri), \"en\"))\n",
    "                   FILTER(langMatches(lang(?eurovoc), \"en\"))\n",
    "                   FILTER(langMatches(lang(?eurovocConcept), \"en\"))\n",
    "\n",
    "                   }ORDER BY ?eurovoc ?eurovocDomain ?eurovocThesauri ?eurovocConcept\"\"\""
   ]
  },
  {
   "cell_type": "code",
   "execution_count": 57,
   "metadata": {},
   "outputs": [],
   "source": [
    "rowType=\"TREE\""
   ]
  },
  {
   "cell_type": "code",
   "execution_count": 58,
   "metadata": {},
   "outputs": [],
   "source": [
    "classes=\"eurovoc-Eurovoc;eurovocDomain-Eurovoc Domain;eurovocThesauri-Eurovoc Thesauri;eurovocConcept-Eurovoc Concept\""
   ]
  },
  {
   "cell_type": "code",
   "execution_count": 59,
   "metadata": {},
   "outputs": [],
   "source": [
    "parameters=\"\""
   ]
  },
  {
   "cell_type": "code",
   "execution_count": 60,
   "metadata": {},
   "outputs": [],
   "source": [
    "tooltip=\"\""
   ]
  },
  {
   "cell_type": "code",
   "execution_count": 61,
   "metadata": {},
   "outputs": [],
   "source": [
    "filters=\"\""
   ]
  },
  {
   "cell_type": "code",
   "execution_count": 62,
   "metadata": {},
   "outputs": [],
   "source": [
    "function=\"\""
   ]
  },
  {
   "cell_type": "code",
   "execution_count": 63,
   "metadata": {},
   "outputs": [],
   "source": [
    "record={'CLASS':className, 'URL':url, 'QUERY':query, 'HIERARCHY':hierarchy, 'PROPERTIES':properties,\n",
    "        'OPTION':option,'OPTION_TEXT':option_text,'TYPE':rowType, 'CLASSES':classes, 'PARAMETERS':parameters, 'FILTERS':filters, 'TOOLTIP':tooltip,\n",
    "       'FUNCTION':function}"
   ]
  },
  {
   "cell_type": "code",
   "execution_count": 64,
   "metadata": {},
   "outputs": [],
   "source": [
    "df_record=pd.DataFrame([record])"
   ]
  },
  {
   "cell_type": "code",
   "execution_count": 65,
   "metadata": {},
   "outputs": [
    {
     "data": {
      "text/html": [
       "<div>\n",
       "<style scoped>\n",
       "    .dataframe tbody tr th:only-of-type {\n",
       "        vertical-align: middle;\n",
       "    }\n",
       "\n",
       "    .dataframe tbody tr th {\n",
       "        vertical-align: top;\n",
       "    }\n",
       "\n",
       "    .dataframe thead th {\n",
       "        text-align: right;\n",
       "    }\n",
       "</style>\n",
       "<table border=\"1\" class=\"dataframe\">\n",
       "  <thead>\n",
       "    <tr style=\"text-align: right;\">\n",
       "      <th></th>\n",
       "      <th>CLASS</th>\n",
       "      <th>URL</th>\n",
       "      <th>QUERY</th>\n",
       "      <th>HIERARCHY</th>\n",
       "      <th>PROPERTIES</th>\n",
       "      <th>OPTION</th>\n",
       "      <th>OPTION_TEXT</th>\n",
       "      <th>TYPE</th>\n",
       "      <th>CLASSES</th>\n",
       "      <th>PARAMETERS</th>\n",
       "      <th>FILTERS</th>\n",
       "      <th>TOOLTIP</th>\n",
       "      <th>FUNCTION</th>\n",
       "    </tr>\n",
       "  </thead>\n",
       "  <tbody>\n",
       "    <tr>\n",
       "      <th>0</th>\n",
       "      <td>eurovoc</td>\n",
       "      <td>https://publications.europa.eu/webapi/rdf/sparql</td>\n",
       "      <td>PREFIX xsd: &lt;http://www.w3.org/2001/XMLSchema#...</td>\n",
       "      <td>eurovoc-eurovocDomain-eurovocThesauri-eurovocC...</td>\n",
       "      <td>eurovoc-eurovoc_uri;eurovocDomain-eurovocDomai...</td>\n",
       "      <td>Eurovoc domains, thesauri and concepts</td>\n",
       "      <td>Eurovoc concepts by thesauri and domain</td>\n",
       "      <td>TREE</td>\n",
       "      <td>eurovoc-Eurovoc;eurovocDomain-Eurovoc Domain;e...</td>\n",
       "      <td></td>\n",
       "      <td></td>\n",
       "      <td></td>\n",
       "      <td></td>\n",
       "    </tr>\n",
       "  </tbody>\n",
       "</table>\n",
       "</div>"
      ],
      "text/plain": [
       "     CLASS                                               URL  \\\n",
       "0  eurovoc  https://publications.europa.eu/webapi/rdf/sparql   \n",
       "\n",
       "                                               QUERY  \\\n",
       "0  PREFIX xsd: <http://www.w3.org/2001/XMLSchema#...   \n",
       "\n",
       "                                           HIERARCHY  \\\n",
       "0  eurovoc-eurovocDomain-eurovocThesauri-eurovocC...   \n",
       "\n",
       "                                          PROPERTIES  \\\n",
       "0  eurovoc-eurovoc_uri;eurovocDomain-eurovocDomai...   \n",
       "\n",
       "                                   OPTION  \\\n",
       "0  Eurovoc domains, thesauri and concepts   \n",
       "\n",
       "                               OPTION_TEXT  TYPE  \\\n",
       "0  Eurovoc concepts by thesauri and domain  TREE   \n",
       "\n",
       "                                             CLASSES PARAMETERS FILTERS  \\\n",
       "0  eurovoc-Eurovoc;eurovocDomain-Eurovoc Domain;e...                      \n",
       "\n",
       "  TOOLTIP FUNCTION  \n",
       "0                   "
      ]
     },
     "execution_count": 65,
     "metadata": {},
     "output_type": "execute_result"
    }
   ],
   "source": [
    "df_record"
   ]
  },
  {
   "cell_type": "code",
   "execution_count": 66,
   "metadata": {},
   "outputs": [],
   "source": [
    "df=pd.concat([df,df_record])"
   ]
  },
  {
   "cell_type": "code",
   "execution_count": 67,
   "metadata": {},
   "outputs": [],
   "source": [
    "#df=df[df[\"OPTION_TEXT\"]!=\"Eurovoc thesauri by domain\"]"
   ]
  },
  {
   "cell_type": "code",
   "execution_count": 68,
   "metadata": {},
   "outputs": [
    {
     "data": {
      "text/plain": [
       "Index(['CLASS', 'URL', 'QUERY', 'HIERARCHY', 'PROPERTIES', 'OPTION',\n",
       "       'OPTION_TEXT', 'TYPE', 'CLASSES', 'PARAMETERS', 'FILTERS', 'TOOLTIP',\n",
       "       'FUNCTION'],\n",
       "      dtype='object')"
      ]
     },
     "execution_count": 68,
     "metadata": {},
     "output_type": "execute_result"
    }
   ],
   "source": [
    "df.columns"
   ]
  },
  {
   "cell_type": "markdown",
   "metadata": {},
   "source": [
    "### Eurovoc concepts and aligments"
   ]
  },
  {
   "cell_type": "code",
   "execution_count": 70,
   "metadata": {},
   "outputs": [],
   "source": [
    "#df=df[df[\"OPTION\"]!=\"Eurovoc concept and aligments\"]"
   ]
  },
  {
   "cell_type": "code",
   "execution_count": 71,
   "metadata": {},
   "outputs": [],
   "source": [
    "url=\"https://publications.europa.eu/webapi/rdf/sparql\""
   ]
  },
  {
   "cell_type": "code",
   "execution_count": 72,
   "metadata": {},
   "outputs": [],
   "source": [
    "className=\"Eurovoc Concept\""
   ]
  },
  {
   "cell_type": "code",
   "execution_count": 73,
   "metadata": {},
   "outputs": [],
   "source": [
    "hierarchy=\"eurovocConcept-aligment\""
   ]
  },
  {
   "cell_type": "code",
   "execution_count": 74,
   "metadata": {},
   "outputs": [],
   "source": [
    "properties=\"eurovocConcept-eurovocConcept_uri\""
   ]
  },
  {
   "cell_type": "code",
   "execution_count": 75,
   "metadata": {},
   "outputs": [],
   "source": [
    "option=\"Eurovoc concept and aligments\""
   ]
  },
  {
   "cell_type": "code",
   "execution_count": 76,
   "metadata": {},
   "outputs": [],
   "source": [
    "option_text=\"Eurovoc concepts and external aligments\""
   ]
  },
  {
   "cell_type": "code",
   "execution_count": 77,
   "metadata": {},
   "outputs": [],
   "source": [
    "query=\"\"\"PREFIX rdfs: <http://www.w3.org/2000/01/rdf-schema#>\n",
    "PREFIX foaf: <http://xmlns.com/foaf/0.1/>\n",
    "PREFIX skos: <http://www.w3.org/2004/02/skos/core#>\n",
    "    \n",
    "SELECT ?eurovocConcept ?eurovocConcept_uri ?aligment WHERE\n",
    "{\n",
    "    ?eurovocConcept_uri skos:inScheme <http://eurovoc.europa.eu/100141> ;\n",
    "    skos:prefLabel ?eurovocConcept\n",
    "    {?eurovocConcept_uri skos:exactMatch ?aligment}\n",
    "    UNION\n",
    "    {?eurovocConcept_uri skos:closeMatch ?aligment}\n",
    "    #filter (strStarts(str(?aligment), 'https://en.wikipedia.org/')).\n",
    "    FILTER(langMatches(lang(?eurovocConcept), \"en\")).\n",
    "    filter(?eurovocConcept_uri=<PARAMETER>).\n",
    "}ORDER BY ?eurovocConcept ?aligment\"\"\""
   ]
  },
  {
   "cell_type": "code",
   "execution_count": 78,
   "metadata": {},
   "outputs": [],
   "source": [
    "rowType=\"TREE\""
   ]
  },
  {
   "cell_type": "code",
   "execution_count": 79,
   "metadata": {},
   "outputs": [],
   "source": [
    "classes=\"eurovocConcept-Eurovoc Concept;aligment-Aligment\""
   ]
  },
  {
   "cell_type": "code",
   "execution_count": 80,
   "metadata": {},
   "outputs": [],
   "source": [
    "parameters=\"\""
   ]
  },
  {
   "cell_type": "code",
   "execution_count": 81,
   "metadata": {},
   "outputs": [],
   "source": [
    "tooltip=\"\""
   ]
  },
  {
   "cell_type": "code",
   "execution_count": 82,
   "metadata": {},
   "outputs": [],
   "source": [
    "filters=\"\""
   ]
  },
  {
   "cell_type": "code",
   "execution_count": 83,
   "metadata": {},
   "outputs": [],
   "source": [
    "function=\"\""
   ]
  },
  {
   "cell_type": "code",
   "execution_count": 84,
   "metadata": {},
   "outputs": [],
   "source": [
    "record={'CLASS':className, 'URL':url, 'QUERY':query, 'HIERARCHY':hierarchy, 'PROPERTIES':properties,\n",
    "        'OPTION':option,'OPTION_TEXT':option_text,'TYPE':rowType, 'CLASSES':classes, 'PARAMETERS':parameters, 'FILTERS':filters, 'TOOLTIP':tooltip,\n",
    "       'FUNCTION':function}"
   ]
  },
  {
   "cell_type": "code",
   "execution_count": 85,
   "metadata": {},
   "outputs": [],
   "source": [
    "df_record=pd.DataFrame([record])"
   ]
  },
  {
   "cell_type": "code",
   "execution_count": 86,
   "metadata": {},
   "outputs": [
    {
     "data": {
      "text/html": [
       "<div>\n",
       "<style scoped>\n",
       "    .dataframe tbody tr th:only-of-type {\n",
       "        vertical-align: middle;\n",
       "    }\n",
       "\n",
       "    .dataframe tbody tr th {\n",
       "        vertical-align: top;\n",
       "    }\n",
       "\n",
       "    .dataframe thead th {\n",
       "        text-align: right;\n",
       "    }\n",
       "</style>\n",
       "<table border=\"1\" class=\"dataframe\">\n",
       "  <thead>\n",
       "    <tr style=\"text-align: right;\">\n",
       "      <th></th>\n",
       "      <th>CLASS</th>\n",
       "      <th>URL</th>\n",
       "      <th>QUERY</th>\n",
       "      <th>HIERARCHY</th>\n",
       "      <th>PROPERTIES</th>\n",
       "      <th>OPTION</th>\n",
       "      <th>OPTION_TEXT</th>\n",
       "      <th>TYPE</th>\n",
       "      <th>CLASSES</th>\n",
       "      <th>PARAMETERS</th>\n",
       "      <th>FILTERS</th>\n",
       "      <th>TOOLTIP</th>\n",
       "      <th>FUNCTION</th>\n",
       "    </tr>\n",
       "  </thead>\n",
       "  <tbody>\n",
       "    <tr>\n",
       "      <th>0</th>\n",
       "      <td>Eurovoc Concept</td>\n",
       "      <td>https://publications.europa.eu/webapi/rdf/sparql</td>\n",
       "      <td>PREFIX rdfs: &lt;http://www.w3.org/2000/01/rdf-sc...</td>\n",
       "      <td>eurovocConcept-aligment</td>\n",
       "      <td>eurovocConcept-eurovocConcept_uri</td>\n",
       "      <td>Eurovoc concept and aligments</td>\n",
       "      <td>Eurovoc concepts and external aligments</td>\n",
       "      <td>TREE</td>\n",
       "      <td>eurovocConcept-Eurovoc Concept;aligment-Aligment</td>\n",
       "      <td></td>\n",
       "      <td></td>\n",
       "      <td></td>\n",
       "      <td></td>\n",
       "    </tr>\n",
       "  </tbody>\n",
       "</table>\n",
       "</div>"
      ],
      "text/plain": [
       "             CLASS                                               URL  \\\n",
       "0  Eurovoc Concept  https://publications.europa.eu/webapi/rdf/sparql   \n",
       "\n",
       "                                               QUERY                HIERARCHY  \\\n",
       "0  PREFIX rdfs: <http://www.w3.org/2000/01/rdf-sc...  eurovocConcept-aligment   \n",
       "\n",
       "                          PROPERTIES                         OPTION  \\\n",
       "0  eurovocConcept-eurovocConcept_uri  Eurovoc concept and aligments   \n",
       "\n",
       "                               OPTION_TEXT  TYPE  \\\n",
       "0  Eurovoc concepts and external aligments  TREE   \n",
       "\n",
       "                                            CLASSES PARAMETERS FILTERS  \\\n",
       "0  eurovocConcept-Eurovoc Concept;aligment-Aligment                      \n",
       "\n",
       "  TOOLTIP FUNCTION  \n",
       "0                   "
      ]
     },
     "execution_count": 86,
     "metadata": {},
     "output_type": "execute_result"
    }
   ],
   "source": [
    "df_record"
   ]
  },
  {
   "cell_type": "code",
   "execution_count": 87,
   "metadata": {},
   "outputs": [],
   "source": [
    "df=pd.concat([df,df_record])"
   ]
  },
  {
   "cell_type": "code",
   "execution_count": 88,
   "metadata": {},
   "outputs": [],
   "source": [
    "#df=df[df[\"OPTION_TEXT\"]!=\"Eurovoc thesauri by domain\"]"
   ]
  },
  {
   "cell_type": "code",
   "execution_count": 89,
   "metadata": {},
   "outputs": [
    {
     "data": {
      "text/plain": [
       "Index(['CLASS', 'URL', 'QUERY', 'HIERARCHY', 'PROPERTIES', 'OPTION',\n",
       "       'OPTION_TEXT', 'TYPE', 'CLASSES', 'PARAMETERS', 'FILTERS', 'TOOLTIP',\n",
       "       'FUNCTION'],\n",
       "      dtype='object')"
      ]
     },
     "execution_count": 89,
     "metadata": {},
     "output_type": "execute_result"
    }
   ],
   "source": [
    "df.columns"
   ]
  },
  {
   "cell_type": "markdown",
   "metadata": {},
   "source": [
    "### Eurovoc concepts and work types"
   ]
  },
  {
   "cell_type": "code",
   "execution_count": 91,
   "metadata": {},
   "outputs": [],
   "source": [
    "#df=df[df[\"OPTION\"]!=\"Eurovoc concept and work types\"]"
   ]
  },
  {
   "cell_type": "code",
   "execution_count": 306,
   "metadata": {},
   "outputs": [],
   "source": [
    "url=\"https://publications.europa.eu/webapi/rdf/sparql\""
   ]
  },
  {
   "cell_type": "code",
   "execution_count": 307,
   "metadata": {},
   "outputs": [],
   "source": [
    "className=\"Eurovoc Concept\""
   ]
  },
  {
   "cell_type": "code",
   "execution_count": 308,
   "metadata": {},
   "outputs": [],
   "source": [
    "hierarchy=\"eurovocConcept-workType-work\""
   ]
  },
  {
   "cell_type": "code",
   "execution_count": 309,
   "metadata": {},
   "outputs": [],
   "source": [
    "properties=\"eurovocConcept-eurovocConcept_uri;workType-workType_uri;work-work_uri\""
   ]
  },
  {
   "cell_type": "code",
   "execution_count": 310,
   "metadata": {},
   "outputs": [],
   "source": [
    "option=\"Eurovoc concept and work types\""
   ]
  },
  {
   "cell_type": "code",
   "execution_count": 311,
   "metadata": {},
   "outputs": [],
   "source": [
    "option_text=\"Eurovoc concepts and works by type\""
   ]
  },
  {
   "cell_type": "code",
   "execution_count": 312,
   "metadata": {},
   "outputs": [],
   "source": [
    "query=\"\"\"PREFIX xsd: <http://www.w3.org/2001/XMLSchema#> \n",
    "    PREFIX skos: <http://www.w3.org/2004/02/skos/core#>\n",
    "    PREFIX purl: <http://purl.org/dc/terms/>\n",
    "    PREFIX rdfs: <http://www.w3.org/1999/02/22-rdf-syntax-ns#>\n",
    "    PREFIX cdm: <http://publications.europa.eu/ontology/cdm#>\n",
    "    PREFIX rdf: <http://www.w3.org/2000/01/rdf-schema#>\n",
    "            SELECT DISTINCT ?eurovocConcept ?eurovocConcept_uri ?workType ?workType_uri ?work ?work_uri\n",
    "            where {{?eurovocConcept_uri skos:prefLabel ?eurovocConcept.\n",
    "                    ?work_uri cdm:work_is_about_concept_eurovoc ?eurovocConcept_uri;\n",
    "                          rdfs:type ?workType_uri;\n",
    "                          cdm:work_title ?work.\n",
    "                    ?workType_uri rdf:label ?workType\n",
    "                    }\n",
    "                   FILTER(langMatches(lang(?eurovocConcept), \"en\")) \n",
    "                   FILTER(?eurovocConcept_uri=<PARAMETER>)\n",
    "                   FILTER (isLiteral(?workType) && lcase(str(?workType)) != \"work\")\n",
    "                   }\n",
    "                   ORDER BY ?eurovocConcept ?workType ?work\"\"\""
   ]
  },
  {
   "cell_type": "code",
   "execution_count": 313,
   "metadata": {},
   "outputs": [],
   "source": [
    "rowType=\"TREE\""
   ]
  },
  {
   "cell_type": "code",
   "execution_count": 314,
   "metadata": {},
   "outputs": [],
   "source": [
    "classes=\"eurovocConcept-Eurovoc Concept;workType-Work Type;work-Work\""
   ]
  },
  {
   "cell_type": "code",
   "execution_count": 315,
   "metadata": {},
   "outputs": [],
   "source": [
    "parameters=\"\""
   ]
  },
  {
   "cell_type": "code",
   "execution_count": 316,
   "metadata": {},
   "outputs": [],
   "source": [
    "tooltip=\"\""
   ]
  },
  {
   "cell_type": "code",
   "execution_count": 317,
   "metadata": {},
   "outputs": [],
   "source": [
    "filters=\"\""
   ]
  },
  {
   "cell_type": "code",
   "execution_count": 318,
   "metadata": {},
   "outputs": [],
   "source": [
    "function=\"\""
   ]
  },
  {
   "cell_type": "code",
   "execution_count": 319,
   "metadata": {},
   "outputs": [],
   "source": [
    "record={'CLASS':className, 'URL':url, 'QUERY':query, 'HIERARCHY':hierarchy, 'PROPERTIES':properties,\n",
    "        'OPTION':option,'OPTION_TEXT':option_text,'TYPE':rowType, 'CLASSES':classes, 'PARAMETERS':parameters, 'FILTERS':filters, 'TOOLTIP':tooltip,\n",
    "       'FUNCTION':function}"
   ]
  },
  {
   "cell_type": "code",
   "execution_count": 320,
   "metadata": {},
   "outputs": [],
   "source": [
    "df_record=pd.DataFrame([record])"
   ]
  },
  {
   "cell_type": "code",
   "execution_count": 321,
   "metadata": {},
   "outputs": [
    {
     "data": {
      "text/html": [
       "<div>\n",
       "<style scoped>\n",
       "    .dataframe tbody tr th:only-of-type {\n",
       "        vertical-align: middle;\n",
       "    }\n",
       "\n",
       "    .dataframe tbody tr th {\n",
       "        vertical-align: top;\n",
       "    }\n",
       "\n",
       "    .dataframe thead th {\n",
       "        text-align: right;\n",
       "    }\n",
       "</style>\n",
       "<table border=\"1\" class=\"dataframe\">\n",
       "  <thead>\n",
       "    <tr style=\"text-align: right;\">\n",
       "      <th></th>\n",
       "      <th>CLASS</th>\n",
       "      <th>URL</th>\n",
       "      <th>QUERY</th>\n",
       "      <th>HIERARCHY</th>\n",
       "      <th>PROPERTIES</th>\n",
       "      <th>OPTION</th>\n",
       "      <th>OPTION_TEXT</th>\n",
       "      <th>TYPE</th>\n",
       "      <th>CLASSES</th>\n",
       "      <th>PARAMETERS</th>\n",
       "      <th>FILTERS</th>\n",
       "      <th>TOOLTIP</th>\n",
       "      <th>FUNCTION</th>\n",
       "    </tr>\n",
       "  </thead>\n",
       "  <tbody>\n",
       "    <tr>\n",
       "      <th>0</th>\n",
       "      <td>Eurovoc Concept</td>\n",
       "      <td>https://publications.europa.eu/webapi/rdf/sparql</td>\n",
       "      <td>PREFIX xsd: &lt;http://www.w3.org/2001/XMLSchema#...</td>\n",
       "      <td>eurovocConcept-workType-work</td>\n",
       "      <td>eurovocConcept-eurovocConcept_uri;workType-wor...</td>\n",
       "      <td>Eurovoc concept and work types</td>\n",
       "      <td>Eurovoc concepts and works by type</td>\n",
       "      <td>TREE</td>\n",
       "      <td>eurovocConcept-Eurovoc Concept;workType-Work T...</td>\n",
       "      <td></td>\n",
       "      <td></td>\n",
       "      <td></td>\n",
       "      <td></td>\n",
       "    </tr>\n",
       "  </tbody>\n",
       "</table>\n",
       "</div>"
      ],
      "text/plain": [
       "             CLASS                                               URL  \\\n",
       "0  Eurovoc Concept  https://publications.europa.eu/webapi/rdf/sparql   \n",
       "\n",
       "                                               QUERY  \\\n",
       "0  PREFIX xsd: <http://www.w3.org/2001/XMLSchema#...   \n",
       "\n",
       "                      HIERARCHY  \\\n",
       "0  eurovocConcept-workType-work   \n",
       "\n",
       "                                          PROPERTIES  \\\n",
       "0  eurovocConcept-eurovocConcept_uri;workType-wor...   \n",
       "\n",
       "                           OPTION                         OPTION_TEXT  TYPE  \\\n",
       "0  Eurovoc concept and work types  Eurovoc concepts and works by type  TREE   \n",
       "\n",
       "                                             CLASSES PARAMETERS FILTERS  \\\n",
       "0  eurovocConcept-Eurovoc Concept;workType-Work T...                      \n",
       "\n",
       "  TOOLTIP FUNCTION  \n",
       "0                   "
      ]
     },
     "execution_count": 321,
     "metadata": {},
     "output_type": "execute_result"
    }
   ],
   "source": [
    "df_record"
   ]
  },
  {
   "cell_type": "code",
   "execution_count": 322,
   "metadata": {},
   "outputs": [],
   "source": [
    "df=pd.concat([df,df_record])"
   ]
  },
  {
   "cell_type": "code",
   "execution_count": 109,
   "metadata": {},
   "outputs": [],
   "source": [
    "#df=df[df[\"OPTION_TEXT\"]!=\"Eurovoc concepts and works by type\"]"
   ]
  },
  {
   "cell_type": "code",
   "execution_count": 110,
   "metadata": {},
   "outputs": [
    {
     "data": {
      "text/plain": [
       "Index(['CLASS', 'URL', 'QUERY', 'HIERARCHY', 'PROPERTIES', 'OPTION',\n",
       "       'OPTION_TEXT', 'TYPE', 'CLASSES', 'PARAMETERS', 'FILTERS', 'TOOLTIP',\n",
       "       'FUNCTION'],\n",
       "      dtype='object')"
      ]
     },
     "execution_count": 110,
     "metadata": {},
     "output_type": "execute_result"
    }
   ],
   "source": [
    "df.columns"
   ]
  },
  {
   "cell_type": "markdown",
   "metadata": {},
   "source": [
    "### NUTS Tree"
   ]
  },
  {
   "cell_type": "code",
   "execution_count": 112,
   "metadata": {},
   "outputs": [],
   "source": [
    "df=df[df[\"OPTION\"]!=\"NUTS Tree\"]"
   ]
  },
  {
   "cell_type": "code",
   "execution_count": 113,
   "metadata": {},
   "outputs": [],
   "source": [
    "url=\"https://publications.europa.eu/webapi/rdf/sparql\""
   ]
  },
  {
   "cell_type": "code",
   "execution_count": 114,
   "metadata": {},
   "outputs": [],
   "source": [
    "className=\"nuts\""
   ]
  },
  {
   "cell_type": "code",
   "execution_count": 115,
   "metadata": {},
   "outputs": [],
   "source": [
    "hierarchy=\"nuts-nutsLevel0-nutsLevel1-nutsLevel2-nutsLevel3\""
   ]
  },
  {
   "cell_type": "code",
   "execution_count": 116,
   "metadata": {},
   "outputs": [],
   "source": [
    "properties=\"nutsLevel0-nutsLevel0_uri;nutsLevel1-nutsLevel1_uri;nutsLevel2-nutsLevel2_uri;nutsLevel3-nutsLevel3_uri\""
   ]
  },
  {
   "cell_type": "code",
   "execution_count": 117,
   "metadata": {},
   "outputs": [],
   "source": [
    "option=\"NUTS Tree\""
   ]
  },
  {
   "cell_type": "code",
   "execution_count": 118,
   "metadata": {},
   "outputs": [],
   "source": [
    "option_text=\"NUTS Tree\""
   ]
  },
  {
   "cell_type": "code",
   "execution_count": 119,
   "metadata": {},
   "outputs": [],
   "source": [
    "query=\"\"\"PREFIX xsd: <http://www.w3.org/2001/XMLSchema#> \n",
    "    PREFIX skos: <http://www.w3.org/2004/02/skos/core#>\n",
    "    PREFIX dcterms: <http://purl.org/dc/terms/>\n",
    "\n",
    "    SELECT DISTINCT ?nuts ?nutsLevel0 ?nutsLevel0_uri ?nutsLevel1 ?nutsLevel1_uri ?nutsLevel2 ?nutsLevel2_uri ?nutsLevel3 ?nutsLevel3_uri\n",
    "    where {{?nutsLevel3_uri ?p ?o;\n",
    "               skos:prefLabel ?nutsLevel3;\n",
    "               skos:broader ?nutsLevel2_uri.\n",
    "            ?nutsLevel2_uri skos:prefLabel ?nutsLevel2;\n",
    "                             skos:broader ?nutsLevel1_uri.\n",
    "            ?nutsLevel1_uri skos:prefLabel ?nutsLevel1;\n",
    "                             skos:broader ?nutsLevel0_uri.\n",
    "            ?nutsLevel0_uri skos:prefLabel ?nutsLevel0;\n",
    "                             skos:inScheme <http://data.europa.eu/nuts>.\n",
    "            <http://data.europa.eu/nuts> skos:prefLabel ?nuts\n",
    "            } \n",
    "           FILTER(?p=<http://data.europa.eu/nuts/level>).\n",
    "           FILTER(?o=3) \n",
    "           }ORDER BY ?nuts ?nutsLevel0 ?nutsLevel1 ?nutsLevel2 ?nutsLevel3\"\"\""
   ]
  },
  {
   "cell_type": "code",
   "execution_count": 120,
   "metadata": {},
   "outputs": [],
   "source": [
    "rowType=\"TREE\""
   ]
  },
  {
   "cell_type": "code",
   "execution_count": 121,
   "metadata": {},
   "outputs": [],
   "source": [
    "classes=\"nuts-NUTS Classification;nutsLevel0-NUTS Level 0;nutsLevel1-NUTS Level 1;nutsLevel2-NUTS Level 2;;nutsLevel3-NUTS Level 3\"\n"
   ]
  },
  {
   "cell_type": "code",
   "execution_count": 122,
   "metadata": {},
   "outputs": [],
   "source": [
    "parameters=\"\""
   ]
  },
  {
   "cell_type": "code",
   "execution_count": 123,
   "metadata": {},
   "outputs": [],
   "source": [
    "tooltip=\"\""
   ]
  },
  {
   "cell_type": "code",
   "execution_count": 124,
   "metadata": {},
   "outputs": [],
   "source": [
    "filters=\"\""
   ]
  },
  {
   "cell_type": "code",
   "execution_count": 125,
   "metadata": {},
   "outputs": [],
   "source": [
    "function=\"\""
   ]
  },
  {
   "cell_type": "code",
   "execution_count": 126,
   "metadata": {},
   "outputs": [],
   "source": [
    "record={'CLASS':className, 'URL':url, 'QUERY':query, 'HIERARCHY':hierarchy, 'PROPERTIES':properties,\n",
    "        'OPTION':option,'OPTION_TEXT':option_text,'TYPE':rowType, 'CLASSES':classes, 'PARAMETERS':parameters, 'FILTERS':filters, 'TOOLTIP':tooltip,\n",
    "       'FUNCTION':function}"
   ]
  },
  {
   "cell_type": "code",
   "execution_count": 127,
   "metadata": {},
   "outputs": [],
   "source": [
    "df_record=pd.DataFrame([record])"
   ]
  },
  {
   "cell_type": "code",
   "execution_count": 128,
   "metadata": {},
   "outputs": [],
   "source": [
    "df=pd.concat([df,df_record])"
   ]
  },
  {
   "cell_type": "code",
   "execution_count": 129,
   "metadata": {},
   "outputs": [],
   "source": [
    "#df=df[df[\"OPTION_TEXT\"]!=\"NUTS Tree\"]"
   ]
  },
  {
   "cell_type": "code",
   "execution_count": 130,
   "metadata": {},
   "outputs": [
    {
     "data": {
      "text/plain": [
       "Index(['CLASS', 'URL', 'QUERY', 'HIERARCHY', 'PROPERTIES', 'OPTION',\n",
       "       'OPTION_TEXT', 'TYPE', 'CLASSES', 'PARAMETERS', 'FILTERS', 'TOOLTIP',\n",
       "       'FUNCTION'],\n",
       "      dtype='object')"
      ]
     },
     "execution_count": 130,
     "metadata": {},
     "output_type": "execute_result"
    }
   ],
   "source": [
    "df.columns"
   ]
  },
  {
   "cell_type": "markdown",
   "metadata": {},
   "source": [
    "### TAXONOMY"
   ]
  },
  {
   "cell_type": "code",
   "execution_count": 157,
   "metadata": {},
   "outputs": [],
   "source": [
    "df=df[df[\"OPTION\"]!=\"Taxonomies\"]"
   ]
  },
  {
   "cell_type": "code",
   "execution_count": 158,
   "metadata": {},
   "outputs": [],
   "source": [
    "url=\"https://publications.europa.eu/webapi/rdf/sparql\""
   ]
  },
  {
   "cell_type": "code",
   "execution_count": 159,
   "metadata": {},
   "outputs": [],
   "source": [
    "className=\"taxonomy\""
   ]
  },
  {
   "cell_type": "code",
   "execution_count": 160,
   "metadata": {},
   "outputs": [],
   "source": [
    "hierarchy=\"taxonomy-taxonomyType-taxonomyLevel1\""
   ]
  },
  {
   "cell_type": "code",
   "execution_count": 161,
   "metadata": {},
   "outputs": [],
   "source": [
    "properties=\"taxonomy-taxonomy_def;taxonomyType-taxonomyType_uri;taxonomyType-taxonomyType_desc;taxonomyLevel1-taxonomyLevel1_uri;taxonomyLevel1-taxonomyLevel1_definition\"\n"
   ]
  },
  {
   "cell_type": "code",
   "execution_count": 162,
   "metadata": {},
   "outputs": [],
   "source": [
    "option=\"Taxonomies\""
   ]
  },
  {
   "cell_type": "code",
   "execution_count": 163,
   "metadata": {},
   "outputs": [],
   "source": [
    "option_text=\"Taxonomies\""
   ]
  },
  {
   "cell_type": "code",
   "execution_count": 164,
   "metadata": {},
   "outputs": [],
   "source": [
    "query=\"\"\"PREFIX skos: <http://www.w3.org/2004/02/skos/core#>\n",
    "    PREFIX owl: <http://www.w3.org/2002/07/owl#>\n",
    "    PREFIX cdm: <http://publications.europa.eu/ontology/cdm#>\n",
    "            SELECT DISTINCT ?taxonomy ?taxonomy_def ?taxonomyType ?taxonomyType_uri ?taxonomyType_desc ?taxonomyLevel1 ?taxonomyLevel1_uri ?taxonomyLevel1_definition\n",
    "            where {{<http://publications.europa.eu/resource/authority/dataset-type/TAXONOMY> skos:prefLabel ?taxonomy;\n",
    "                       skos:definition ?taxonomy_def.\n",
    "                    ?s cdm:work_dataset_has_type_concept_type_dataset <http://publications.europa.eu/resource/authority/dataset-type/TAXONOMY>;\n",
    "                       cdm:work_id ?taxonomyType_uri;\n",
    "                       cdm:work_dataset_description_editorial ?taxonomyType_desc;\n",
    "                       cdm:work_title ?taxonomyType.\n",
    "                    BIND(IRI(?taxonomyType_uri) as ?idUri)\n",
    "                    ?idUri skos:hasTopconcept ?taxonomyLevel1_uri.\n",
    "                    ?taxonomyLevel1_uri skos:prefLabel ?taxonomyLevel1.\n",
    "                    OPTIONAL {?taxonomyLevel1_uri skos:definition ?taxonomyLevel1_definition }\n",
    "                    #?idUri skos:prefLabel ?label\n",
    "                    FILTER(langMatches(lang(?taxonomy), \"en\")).\n",
    "                    FILTER(langMatches(lang(?taxonomyLevel1), \"en\")).\n",
    "                    #FILTER(langMatches(lang(?label), \"en\")).\n",
    "                       }\n",
    "                   } ORDER BY ?taxonomy ?taxonomyType ?taxonomyLevel1\"\"\""
   ]
  },
  {
   "cell_type": "code",
   "execution_count": 165,
   "metadata": {},
   "outputs": [],
   "source": [
    "rowType=\"TREE\""
   ]
  },
  {
   "cell_type": "code",
   "execution_count": 166,
   "metadata": {},
   "outputs": [],
   "source": [
    "classes=\"taxonomy-Taxonomies Classification;taxonomyType-Taxonomy Type;taxonomyLevel1-Taxonomy Level\"\n"
   ]
  },
  {
   "cell_type": "code",
   "execution_count": 167,
   "metadata": {},
   "outputs": [],
   "source": [
    "parameters=\"\""
   ]
  },
  {
   "cell_type": "code",
   "execution_count": 168,
   "metadata": {},
   "outputs": [],
   "source": [
    "tooltip=\"\""
   ]
  },
  {
   "cell_type": "code",
   "execution_count": 169,
   "metadata": {},
   "outputs": [],
   "source": [
    "filters=\"\""
   ]
  },
  {
   "cell_type": "code",
   "execution_count": 170,
   "metadata": {},
   "outputs": [],
   "source": [
    "function=\"\""
   ]
  },
  {
   "cell_type": "code",
   "execution_count": 171,
   "metadata": {},
   "outputs": [],
   "source": [
    "record={'CLASS':className, 'URL':url, 'QUERY':query, 'HIERARCHY':hierarchy, 'PROPERTIES':properties,\n",
    "        'OPTION':option,'OPTION_TEXT':option_text,'TYPE':rowType, 'CLASSES':classes, 'PARAMETERS':parameters, 'FILTERS':filters, 'TOOLTIP':tooltip,\n",
    "       'FUNCTION':function}"
   ]
  },
  {
   "cell_type": "code",
   "execution_count": 172,
   "metadata": {},
   "outputs": [],
   "source": [
    "df_record=pd.DataFrame([record])"
   ]
  },
  {
   "cell_type": "code",
   "execution_count": 173,
   "metadata": {},
   "outputs": [
    {
     "data": {
      "text/html": [
       "<div>\n",
       "<style scoped>\n",
       "    .dataframe tbody tr th:only-of-type {\n",
       "        vertical-align: middle;\n",
       "    }\n",
       "\n",
       "    .dataframe tbody tr th {\n",
       "        vertical-align: top;\n",
       "    }\n",
       "\n",
       "    .dataframe thead th {\n",
       "        text-align: right;\n",
       "    }\n",
       "</style>\n",
       "<table border=\"1\" class=\"dataframe\">\n",
       "  <thead>\n",
       "    <tr style=\"text-align: right;\">\n",
       "      <th></th>\n",
       "      <th>CLASS</th>\n",
       "      <th>URL</th>\n",
       "      <th>QUERY</th>\n",
       "      <th>HIERARCHY</th>\n",
       "      <th>PROPERTIES</th>\n",
       "      <th>OPTION</th>\n",
       "      <th>OPTION_TEXT</th>\n",
       "      <th>TYPE</th>\n",
       "      <th>CLASSES</th>\n",
       "      <th>PARAMETERS</th>\n",
       "      <th>FILTERS</th>\n",
       "      <th>TOOLTIP</th>\n",
       "      <th>FUNCTION</th>\n",
       "    </tr>\n",
       "  </thead>\n",
       "  <tbody>\n",
       "    <tr>\n",
       "      <th>0</th>\n",
       "      <td>taxonomy</td>\n",
       "      <td>https://publications.europa.eu/webapi/rdf/sparql</td>\n",
       "      <td>PREFIX skos: &lt;http://www.w3.org/2004/02/skos/c...</td>\n",
       "      <td>taxonomy-taxonomyType-taxonomyLevel1</td>\n",
       "      <td>taxonomy-taxonomy_def;taxonomyType-taxonomyTyp...</td>\n",
       "      <td>Taxonomies</td>\n",
       "      <td>Taxonomies</td>\n",
       "      <td>TREE</td>\n",
       "      <td>taxonomy-Taxonomies Classification;taxonomyTyp...</td>\n",
       "      <td></td>\n",
       "      <td></td>\n",
       "      <td></td>\n",
       "      <td></td>\n",
       "    </tr>\n",
       "  </tbody>\n",
       "</table>\n",
       "</div>"
      ],
      "text/plain": [
       "      CLASS                                               URL  \\\n",
       "0  taxonomy  https://publications.europa.eu/webapi/rdf/sparql   \n",
       "\n",
       "                                               QUERY  \\\n",
       "0  PREFIX skos: <http://www.w3.org/2004/02/skos/c...   \n",
       "\n",
       "                              HIERARCHY  \\\n",
       "0  taxonomy-taxonomyType-taxonomyLevel1   \n",
       "\n",
       "                                          PROPERTIES      OPTION OPTION_TEXT  \\\n",
       "0  taxonomy-taxonomy_def;taxonomyType-taxonomyTyp...  Taxonomies  Taxonomies   \n",
       "\n",
       "   TYPE                                            CLASSES PARAMETERS FILTERS  \\\n",
       "0  TREE  taxonomy-Taxonomies Classification;taxonomyTyp...                      \n",
       "\n",
       "  TOOLTIP FUNCTION  \n",
       "0                   "
      ]
     },
     "execution_count": 173,
     "metadata": {},
     "output_type": "execute_result"
    }
   ],
   "source": [
    "df_record"
   ]
  },
  {
   "cell_type": "code",
   "execution_count": 174,
   "metadata": {},
   "outputs": [],
   "source": [
    "df=pd.concat([df,df_record])"
   ]
  },
  {
   "cell_type": "code",
   "execution_count": 175,
   "metadata": {},
   "outputs": [],
   "source": [
    "#df=df[df[\"OPTION_TEXT\"]!=\"Eurovoc concepts and works by type\"]"
   ]
  },
  {
   "cell_type": "code",
   "execution_count": 176,
   "metadata": {},
   "outputs": [
    {
     "data": {
      "text/plain": [
       "Index(['CLASS', 'URL', 'QUERY', 'HIERARCHY', 'PROPERTIES', 'OPTION',\n",
       "       'OPTION_TEXT', 'TYPE', 'CLASSES', 'PARAMETERS', 'FILTERS', 'TOOLTIP',\n",
       "       'FUNCTION'],\n",
       "      dtype='object')"
      ]
     },
     "execution_count": 176,
     "metadata": {},
     "output_type": "execute_result"
    }
   ],
   "source": [
    "df.columns"
   ]
  },
  {
   "cell_type": "markdown",
   "metadata": {},
   "source": [
    "### TAXONOMY Level Children"
   ]
  },
  {
   "cell_type": "code",
   "execution_count": 201,
   "metadata": {},
   "outputs": [],
   "source": [
    "#df=df[df[\"OPTION\"]!=\"Taxonomy Level Children\"]"
   ]
  },
  {
   "cell_type": "code",
   "execution_count": 202,
   "metadata": {},
   "outputs": [],
   "source": [
    "url=\"https://publications.europa.eu/webapi/rdf/sparql\""
   ]
  },
  {
   "cell_type": "code",
   "execution_count": 203,
   "metadata": {},
   "outputs": [],
   "source": [
    "className=\"Taxonomy Level\""
   ]
  },
  {
   "cell_type": "code",
   "execution_count": 204,
   "metadata": {},
   "outputs": [],
   "source": [
    "hierarchy=\"taxonomyLevel1-taxonomyLevel2\""
   ]
  },
  {
   "cell_type": "code",
   "execution_count": 205,
   "metadata": {},
   "outputs": [],
   "source": [
    "properties=\"taxonomyLevel1-taxonomyLevel1_uri;taxonomyLevel2-taxonomyLevel2_uri\""
   ]
  },
  {
   "cell_type": "code",
   "execution_count": 206,
   "metadata": {},
   "outputs": [],
   "source": [
    "option=\"Taxonomy Level Children\""
   ]
  },
  {
   "cell_type": "code",
   "execution_count": 207,
   "metadata": {},
   "outputs": [],
   "source": [
    "option_text=\"Taxonomy Level Children\""
   ]
  },
  {
   "cell_type": "code",
   "execution_count": 208,
   "metadata": {},
   "outputs": [],
   "source": [
    "query=\"\"\"PREFIX xsd: <http://www.w3.org/2001/XMLSchema#> \n",
    "    PREFIX skos: <http://www.w3.org/2004/02/skos/core#>\n",
    "            SELECT DISTINCT ?taxonomyLevel1 ?taxonomyLevel1_uri ?taxonomyLevel2 ?taxonomyLevel2_uri\n",
    "                    WHERE{{\n",
    "                    ?taxonomyLevel1_uri skos:prefLabel ?taxonomyLevel1;\n",
    "                                         skos:narrower ?taxonomyLevel2_uri.\n",
    "                    ?taxonomyLevel2_uri skos:prefLabel ?taxonomyLevel2\n",
    "                    } \n",
    "                   filter(?taxonomyLevel1_uri=<PARAMETER>).\n",
    "                   FILTER(langMatches(lang(?taxonomyLevel2), \"en\"))\n",
    "                   FILTER(langMatches(lang(?taxonomyLevel1), \"en\"))\n",
    "                   }ORDER BY ?taxonomyLevel1 ?taxonomyLevel2\"\"\""
   ]
  },
  {
   "cell_type": "code",
   "execution_count": 209,
   "metadata": {},
   "outputs": [],
   "source": [
    "rowType=\"TREE\""
   ]
  },
  {
   "cell_type": "code",
   "execution_count": 210,
   "metadata": {},
   "outputs": [],
   "source": [
    "classes=\"taxonomyLevel1-Taxonomy Level;taxonomyLevel2-Taxonomy Level\"\n"
   ]
  },
  {
   "cell_type": "code",
   "execution_count": 211,
   "metadata": {},
   "outputs": [],
   "source": [
    "parameters=\"\""
   ]
  },
  {
   "cell_type": "code",
   "execution_count": 212,
   "metadata": {},
   "outputs": [],
   "source": [
    "tooltip=\"\""
   ]
  },
  {
   "cell_type": "code",
   "execution_count": 213,
   "metadata": {},
   "outputs": [],
   "source": [
    "filters=\"\""
   ]
  },
  {
   "cell_type": "code",
   "execution_count": 214,
   "metadata": {},
   "outputs": [],
   "source": [
    "function=\"\""
   ]
  },
  {
   "cell_type": "code",
   "execution_count": 215,
   "metadata": {},
   "outputs": [],
   "source": [
    "record={'CLASS':className, 'URL':url, 'QUERY':query, 'HIERARCHY':hierarchy, 'PROPERTIES':properties,\n",
    "        'OPTION':option,'OPTION_TEXT':option_text,'TYPE':rowType, 'CLASSES':classes, 'PARAMETERS':parameters, 'FILTERS':filters, 'TOOLTIP':tooltip,\n",
    "       'FUNCTION':function}"
   ]
  },
  {
   "cell_type": "code",
   "execution_count": 216,
   "metadata": {},
   "outputs": [],
   "source": [
    "df_record=pd.DataFrame([record])"
   ]
  },
  {
   "cell_type": "code",
   "execution_count": 217,
   "metadata": {},
   "outputs": [],
   "source": [
    "df=pd.concat([df,df_record])"
   ]
  },
  {
   "cell_type": "code",
   "execution_count": 218,
   "metadata": {},
   "outputs": [],
   "source": [
    "#df=df[df[\"OPTION_TEXT\"]!=\"Works for eurovoc concept electronic voting\"]"
   ]
  },
  {
   "cell_type": "code",
   "execution_count": 219,
   "metadata": {},
   "outputs": [
    {
     "data": {
      "text/plain": [
       "Index(['CLASS', 'URL', 'QUERY', 'HIERARCHY', 'PROPERTIES', 'OPTION',\n",
       "       'OPTION_TEXT', 'TYPE', 'CLASSES', 'PARAMETERS', 'FILTERS', 'TOOLTIP',\n",
       "       'FUNCTION'],\n",
       "      dtype='object')"
      ]
     },
     "execution_count": 219,
     "metadata": {},
     "output_type": "execute_result"
    }
   ],
   "source": [
    "df.columns"
   ]
  },
  {
   "cell_type": "code",
   "execution_count": 228,
   "metadata": {},
   "outputs": [],
   "source": [
    "#df=df[df[\"OPTION\"]!=\"Taxonomy Level 5\"]"
   ]
  },
  {
   "cell_type": "markdown",
   "metadata": {},
   "source": [
    "### Digital Europa Thesaurus DET"
   ]
  },
  {
   "cell_type": "code",
   "execution_count": 262,
   "metadata": {},
   "outputs": [],
   "source": [
    "#df=df[df[\"OPTION\"]!=\"Digital Europa Thesaurus\"]"
   ]
  },
  {
   "cell_type": "code",
   "execution_count": 271,
   "metadata": {},
   "outputs": [],
   "source": [
    "url=\"https://publications.europa.eu/webapi/rdf/sparql\""
   ]
  },
  {
   "cell_type": "code",
   "execution_count": 272,
   "metadata": {},
   "outputs": [],
   "source": [
    "className=\"det\""
   ]
  },
  {
   "cell_type": "code",
   "execution_count": 273,
   "metadata": {},
   "outputs": [],
   "source": [
    "hierarchy=\"det-detLevel1-detLevel2\""
   ]
  },
  {
   "cell_type": "code",
   "execution_count": 274,
   "metadata": {},
   "outputs": [],
   "source": [
    "properties=\"det-det_uri;detLevel1-detLevel1_uri;detLevel2-detLevel2_uri\"\n"
   ]
  },
  {
   "cell_type": "code",
   "execution_count": 275,
   "metadata": {},
   "outputs": [],
   "source": [
    "option=\"Digital Europa Thesaurus\""
   ]
  },
  {
   "cell_type": "code",
   "execution_count": 276,
   "metadata": {},
   "outputs": [],
   "source": [
    "option_text=\"Digital Europa Thesaurus\""
   ]
  },
  {
   "cell_type": "code",
   "execution_count": 277,
   "metadata": {},
   "outputs": [],
   "source": [
    "query=\"\"\"PREFIX skos: <http://www.w3.org/2004/02/skos/core#>\n",
    "    PREFIX owl: <http://www.w3.org/2002/07/owl#>\n",
    "    PREFIX cdm: <http://publications.europa.eu/ontology/cdm#>\n",
    "            SELECT DISTINCT ?det ?det_uri ?detLevel1 ?detLevel1_uri ?detLevel2 ?detLevel2_uri\n",
    "            where {{ ?det_uri skos:prefLabel ?det;\n",
    "                               skos:hasTopConcept ?detLevel1_uri.\n",
    "                    ?detLevel1_uri skos:prefLabel ?detLevel1;\n",
    "                               skos:narrower ?detLevel2_uri.\n",
    "                    ?detLevel2_uri skos:prefLabel ?detLevel2.\n",
    "                    FILTER(langMatches(lang(?detLevel1), \"en\")).\n",
    "                    FILTER(langMatches(lang(?detLevel2), \"en\")).\n",
    "                    #FILTER(langMatches(lang(?taxonomyLevel1), \"en\")).\n",
    "                    #FILTER(langMatches(lang(?label), \"en\")).\n",
    "                    FILTER(?det_uri=<http://data.europa.eu/uxp/det>)\n",
    "                       }\n",
    "                   } ORDER BY ?det ?det ?detLevel1\"\"\""
   ]
  },
  {
   "cell_type": "code",
   "execution_count": 278,
   "metadata": {},
   "outputs": [],
   "source": [
    "classes=\"det-DET;detLevel1-DET Level;detLevel2-DET Level\""
   ]
  },
  {
   "cell_type": "code",
   "execution_count": 279,
   "metadata": {},
   "outputs": [],
   "source": [
    "parameters=\"\""
   ]
  },
  {
   "cell_type": "code",
   "execution_count": 280,
   "metadata": {},
   "outputs": [],
   "source": [
    "tooltip=\"\""
   ]
  },
  {
   "cell_type": "code",
   "execution_count": 281,
   "metadata": {},
   "outputs": [],
   "source": [
    "filters=\"\""
   ]
  },
  {
   "cell_type": "code",
   "execution_count": 282,
   "metadata": {},
   "outputs": [],
   "source": [
    "function=\"\""
   ]
  },
  {
   "cell_type": "code",
   "execution_count": 283,
   "metadata": {},
   "outputs": [],
   "source": [
    "record={'CLASS':className, 'URL':url, 'QUERY':query, 'HIERARCHY':hierarchy, 'PROPERTIES':properties,\n",
    "        'OPTION':option,'OPTION_TEXT':option_text,'TYPE':rowType, 'CLASSES':classes, 'PARAMETERS':parameters, 'FILTERS':filters, 'TOOLTIP':tooltip,\n",
    "       'FUNCTION':function}"
   ]
  },
  {
   "cell_type": "code",
   "execution_count": 284,
   "metadata": {},
   "outputs": [],
   "source": [
    "df_record=pd.DataFrame([record])"
   ]
  },
  {
   "cell_type": "code",
   "execution_count": 285,
   "metadata": {},
   "outputs": [],
   "source": [
    "df=pd.concat([df,df_record])"
   ]
  },
  {
   "cell_type": "code",
   "execution_count": 431,
   "metadata": {},
   "outputs": [],
   "source": [
    "#df=df[df[\"OPTION_TEXT\"]!=\"Eurovoc concepts and works by type\"]"
   ]
  },
  {
   "cell_type": "markdown",
   "metadata": {},
   "source": [
    "### DET Children Level"
   ]
  },
  {
   "cell_type": "code",
   "execution_count": 345,
   "metadata": {},
   "outputs": [],
   "source": [
    "df=df[df[\"OPTION_TEXT\"]!=\"DET Level 2\"]"
   ]
  },
  {
   "cell_type": "code",
   "execution_count": 367,
   "metadata": {},
   "outputs": [
    {
     "data": {
      "text/html": [
       "<div>\n",
       "<style scoped>\n",
       "    .dataframe tbody tr th:only-of-type {\n",
       "        vertical-align: middle;\n",
       "    }\n",
       "\n",
       "    .dataframe tbody tr th {\n",
       "        vertical-align: top;\n",
       "    }\n",
       "\n",
       "    .dataframe thead th {\n",
       "        text-align: right;\n",
       "    }\n",
       "</style>\n",
       "<table border=\"1\" class=\"dataframe\">\n",
       "  <thead>\n",
       "    <tr style=\"text-align: right;\">\n",
       "      <th></th>\n",
       "      <th>CLASS</th>\n",
       "      <th>URL</th>\n",
       "      <th>QUERY</th>\n",
       "      <th>HIERARCHY</th>\n",
       "      <th>PROPERTIES</th>\n",
       "      <th>OPTION</th>\n",
       "      <th>OPTION_TEXT</th>\n",
       "      <th>TYPE</th>\n",
       "      <th>CLASSES</th>\n",
       "      <th>PARAMETERS</th>\n",
       "      <th>FILTERS</th>\n",
       "      <th>TOOLTIP</th>\n",
       "      <th>FUNCTION</th>\n",
       "    </tr>\n",
       "  </thead>\n",
       "  <tbody>\n",
       "    <tr>\n",
       "      <th>0</th>\n",
       "      <td>eurun</td>\n",
       "      <td>https://publications.europa.eu/webapi/rdf/sparql</td>\n",
       "      <td>\\n    PREFIX xsd: &lt;http://www.w3.org/2001/XMLS...</td>\n",
       "      <td>eurun-corporateBody</td>\n",
       "      <td>eurun-eurun_uri;eurun-eurun_image;corporateBod...</td>\n",
       "      <td>WHOISWHO EURUN Suborganizations</td>\n",
       "      <td>WHOISWHO EURUN Suborganizations</td>\n",
       "      <td>TREE</td>\n",
       "      <td>eurun-European Union;corporateBody-corporateBody</td>\n",
       "      <td>NaN</td>\n",
       "      <td>corporateBody_country-dropdown;corporateBody_l...</td>\n",
       "      <td>corporateBody_country-Country;corporateBody_lo...</td>\n",
       "      <td>NaN</td>\n",
       "    </tr>\n",
       "    <tr>\n",
       "      <th>1</th>\n",
       "      <td>corporateBody</td>\n",
       "      <td>https://publications.europa.eu/webapi/rdf/sparql</td>\n",
       "      <td>\\nPREFIX xsd: &lt;http://www.w3.org/2001/XMLSchem...</td>\n",
       "      <td>corporateBody-directoryOrg</td>\n",
       "      <td>directoryOrg-directoryOrg_uri;directoryOrg-dir...</td>\n",
       "      <td>WHOISWHO Suborganizations</td>\n",
       "      <td>WHOISWHO Suborganizations</td>\n",
       "      <td>TREE</td>\n",
       "      <td>corporateBody-corporateBody;directoryOrg-Direc...</td>\n",
       "      <td>NaN</td>\n",
       "      <td>NaN</td>\n",
       "      <td>NaN</td>\n",
       "      <td>NaN</td>\n",
       "    </tr>\n",
       "    <tr>\n",
       "      <th>2</th>\n",
       "      <td>Membership</td>\n",
       "      <td>https://publications.europa.eu/webapi/rdf/sparql</td>\n",
       "      <td>\\n    PREFIX xsd: &lt;http://www.w3.org/2001/XMLS...</td>\n",
       "      <td>membership-person</td>\n",
       "      <td>person-person_uri;person-person_gender;person-...</td>\n",
       "      <td>WHOISWHO Person</td>\n",
       "      <td>WHOISWHO Person</td>\n",
       "      <td>TREE</td>\n",
       "      <td>membership-Membership;person-Person</td>\n",
       "      <td>NaN</td>\n",
       "      <td>NaN</td>\n",
       "      <td>NaN</td>\n",
       "      <td>NaN</td>\n",
       "    </tr>\n",
       "    <tr>\n",
       "      <th>3</th>\n",
       "      <td>Directory Organization</td>\n",
       "      <td>https://publications.europa.eu/webapi/rdf/sparql</td>\n",
       "      <td>\\nPREFIX xsd: &lt;http://www.w3.org/2001/XMLSchem...</td>\n",
       "      <td>directoryOrg-directoryOrg2</td>\n",
       "      <td>directoryOrg2-directoryOrg2_uri;directoryOrg2-...</td>\n",
       "      <td>WHOISWHO directoryOrg second level</td>\n",
       "      <td>WHOISWHO directoryOrg second level</td>\n",
       "      <td>TREE</td>\n",
       "      <td>directoryOrg-Directory Organization;directoryO...</td>\n",
       "      <td>NaN</td>\n",
       "      <td>NaN</td>\n",
       "      <td>NaN</td>\n",
       "      <td>NaN</td>\n",
       "    </tr>\n",
       "    <tr>\n",
       "      <th>4</th>\n",
       "      <td>Directory Organization</td>\n",
       "      <td>https://publications.europa.eu/webapi/rdf/sparql</td>\n",
       "      <td>\\nPREFIX xsd: &lt;http://www.w3.org/2001/XMLSchem...</td>\n",
       "      <td>directoryOrg-membership</td>\n",
       "      <td>membership-membership_directoryOrg</td>\n",
       "      <td>WHOISWHO Membership</td>\n",
       "      <td>WHOISWHO Membership</td>\n",
       "      <td>TREE</td>\n",
       "      <td>directoryOrg-Directory Organization;membership...</td>\n",
       "      <td>NaN</td>\n",
       "      <td>NaN</td>\n",
       "      <td>NaN</td>\n",
       "      <td>NaN</td>\n",
       "    </tr>\n",
       "    <tr>\n",
       "      <th>5</th>\n",
       "      <td>Membership Type</td>\n",
       "      <td>https://publications.europa.eu/webapi/rdf/sparql</td>\n",
       "      <td>\\nPREFIX xsd: &lt;http://www.w3.org/2001/XMLSchem...</td>\n",
       "      <td>membership-person</td>\n",
       "      <td>membership-membership_uri;membership-membershi...</td>\n",
       "      <td>WHOISWHO Membership Type</td>\n",
       "      <td>WHOISWHO Membership Type</td>\n",
       "      <td>TREE</td>\n",
       "      <td>membership-Membership Type;person-Person</td>\n",
       "      <td>membership_directoryOrg</td>\n",
       "      <td>NaN</td>\n",
       "      <td>NaN</td>\n",
       "      <td>NaN</td>\n",
       "    </tr>\n",
       "    <tr>\n",
       "      <th>6</th>\n",
       "      <td>opThemeMain</td>\n",
       "      <td>https://publications.europa.eu/webapi/rdf/sparql</td>\n",
       "      <td>\\n    PREFIX xsd: &lt;http://www.w3.org/2001/XMLS...</td>\n",
       "      <td>opThemeMain-opTheme</td>\n",
       "      <td>opThemeMain-opThemeMain_uri;opTheme-opTheme_uri</td>\n",
       "      <td>PUBLICATIONS - Publications by OP Theme</td>\n",
       "      <td>PUBLICATIONS - Publications by OP Theme</td>\n",
       "      <td>TREE</td>\n",
       "      <td>opThemeMain-Publications Themes;opTheme-OP Theme</td>\n",
       "      <td>NaN</td>\n",
       "      <td>NaN</td>\n",
       "      <td>NaN</td>\n",
       "      <td>NaN</td>\n",
       "    </tr>\n",
       "    <tr>\n",
       "      <th>23</th>\n",
       "      <td>continent</td>\n",
       "      <td>https://publications.europa.eu/webapi/rdf/sparql</td>\n",
       "      <td>\\n    PREFIX xsd: &lt;http://www.w3.org/2001/XMLS...</td>\n",
       "      <td>continent-continentName-country</td>\n",
       "      <td>continent-continent_uri;continentName-continen...</td>\n",
       "      <td>Countries by continent</td>\n",
       "      <td>Countries by continent</td>\n",
       "      <td>TREE</td>\n",
       "      <td>NaN</td>\n",
       "      <td>NaN</td>\n",
       "      <td>NaN</td>\n",
       "      <td>NaN</td>\n",
       "      <td>NaN</td>\n",
       "    </tr>\n",
       "    <tr>\n",
       "      <th>24</th>\n",
       "      <td>continent</td>\n",
       "      <td>https://publications.europa.eu/webapi/rdf/sparql</td>\n",
       "      <td>\\n    PREFIX xsd: &lt;http://www.w3.org/2001/XMLS...</td>\n",
       "      <td>continent-continentName-country-language</td>\n",
       "      <td>continent-continent_uri;continentName-continen...</td>\n",
       "      <td>Languages by country and continent</td>\n",
       "      <td>Languages by country and continent</td>\n",
       "      <td>TREE</td>\n",
       "      <td>NaN</td>\n",
       "      <td>NaN</td>\n",
       "      <td>NaN</td>\n",
       "      <td>NaN</td>\n",
       "      <td>NaN</td>\n",
       "    </tr>\n",
       "    <tr>\n",
       "      <th>25</th>\n",
       "      <td>continent</td>\n",
       "      <td>https://publications.europa.eu/webapi/rdf/sparql</td>\n",
       "      <td>PREFIX xsd: &lt;http://www.w3.org/2001/XMLSchema#...</td>\n",
       "      <td>continent-continentName-country-org</td>\n",
       "      <td>continent-continent_uri;continentName-continen...</td>\n",
       "      <td>Continents countries and organisations</td>\n",
       "      <td>Continents countries and organisations those c...</td>\n",
       "      <td>TREE</td>\n",
       "      <td>NaN</td>\n",
       "      <td>NaN</td>\n",
       "      <td>NaN</td>\n",
       "      <td>NaN</td>\n",
       "      <td>NaN</td>\n",
       "    </tr>\n",
       "    <tr>\n",
       "      <th>26</th>\n",
       "      <td>org</td>\n",
       "      <td>https://publications.europa.eu/webapi/rdf/sparql</td>\n",
       "      <td>PREFIX skos: &lt;http://www.w3.org/2004/02/skos/c...</td>\n",
       "      <td>org</td>\n",
       "      <td>org-org_desc;org-org_code;org-org_startDate;or...</td>\n",
       "      <td>Timeline organisations</td>\n",
       "      <td>Timeline organisations</td>\n",
       "      <td>TIMELINE</td>\n",
       "      <td>NaN</td>\n",
       "      <td>NaN</td>\n",
       "      <td>NaN</td>\n",
       "      <td>NaN</td>\n",
       "      <td>NaN</td>\n",
       "    </tr>\n",
       "    <tr>\n",
       "      <th>27</th>\n",
       "      <td>orgTypeMain</td>\n",
       "      <td>https://publications.europa.eu/webapi/rdf/sparql</td>\n",
       "      <td>PREFIX authority: &lt;http://publications.europa....</td>\n",
       "      <td>orgTypeMain-orgType-directoryOrg</td>\n",
       "      <td>orgTypeMain-orgTypeMain_uri;orgType-orgType_ur...</td>\n",
       "      <td>WHOISWHO Organisations types</td>\n",
       "      <td>WHOISWHO Organisations types</td>\n",
       "      <td>TREE</td>\n",
       "      <td>NaN</td>\n",
       "      <td>NaN</td>\n",
       "      <td>NaN</td>\n",
       "      <td>NaN</td>\n",
       "      <td>NaN</td>\n",
       "    </tr>\n",
       "    <tr>\n",
       "      <th>28</th>\n",
       "      <td>OP Theme</td>\n",
       "      <td>https://publications.europa.eu/webapi/rdf/sparql</td>\n",
       "      <td>\\n        PREFIX xsd: &lt;http://www.w3.org/2001/...</td>\n",
       "      <td>opTheme-corporateBody</td>\n",
       "      <td>opTheme-opTheme_uri;corporateBody-corporateBod...</td>\n",
       "      <td>OP Themes and publication author</td>\n",
       "      <td>OP Themes and publication author</td>\n",
       "      <td>TREE</td>\n",
       "      <td>opTheme-OP Theme;corporateBody-corporateBody</td>\n",
       "      <td>NaN</td>\n",
       "      <td>NaN</td>\n",
       "      <td>NaN</td>\n",
       "      <td>NaN</td>\n",
       "    </tr>\n",
       "    <tr>\n",
       "      <th>29</th>\n",
       "      <td>Publication Expression</td>\n",
       "      <td>https://publications.europa.eu/webapi/rdf/sparql</td>\n",
       "      <td>\\n    PREFIX xsd: &lt;http://www.w3.org/2001/XMLS...</td>\n",
       "      <td>expression-manifestation</td>\n",
       "      <td>expression-expression_uri;manifestation-manife...</td>\n",
       "      <td>Manifestation by Expression</td>\n",
       "      <td>Manifestation by Expression</td>\n",
       "      <td>TREE</td>\n",
       "      <td>expression-Publication Expression;manifestatio...</td>\n",
       "      <td>NaN</td>\n",
       "      <td>NaN</td>\n",
       "      <td>NaN</td>\n",
       "      <td>NaN</td>\n",
       "    </tr>\n",
       "    <tr>\n",
       "      <th>30</th>\n",
       "      <td>OP Theme</td>\n",
       "      <td>https://publications.europa.eu/webapi/rdf/sparql</td>\n",
       "      <td>\\n        PREFIX xsd: &lt;http://www.w3.org/2001/...</td>\n",
       "      <td>opThemeParent-opThemeChild</td>\n",
       "      <td>opThemeParent-opThemeParent_uri;opThemeChild-o...</td>\n",
       "      <td>OP Themes children</td>\n",
       "      <td>OP Themes children</td>\n",
       "      <td>TREE</td>\n",
       "      <td>opThemeParent-OP Theme;opThemeChild-OP Theme</td>\n",
       "      <td>NaN</td>\n",
       "      <td>NaN</td>\n",
       "      <td>NaN</td>\n",
       "      <td>NaN</td>\n",
       "    </tr>\n",
       "    <tr>\n",
       "      <th>31</th>\n",
       "      <td>corporateBody</td>\n",
       "      <td>https://publications.europa.eu/webapi/rdf/sparql</td>\n",
       "      <td>\\nPREFIX xsd: &lt;http://www.w3.org/2001/XMLSchem...</td>\n",
       "      <td>corporateBody-expression</td>\n",
       "      <td>corporateBody-corporateBody_uri;expression-exp...</td>\n",
       "      <td>Publications by CorporateBody</td>\n",
       "      <td>Publications by CorporateBody</td>\n",
       "      <td>TREE</td>\n",
       "      <td>corporateBody-corporateBody;expression-Publica...</td>\n",
       "      <td>corporateBody_opTheme</td>\n",
       "      <td>NaN</td>\n",
       "      <td>NaN</td>\n",
       "      <td>NaN</td>\n",
       "    </tr>\n",
       "    <tr>\n",
       "      <th>32</th>\n",
       "      <td>Publication Document</td>\n",
       "      <td>https://publications.europa.eu/webapi/rdf/sparql</td>\n",
       "      <td>\\n    PREFIX xsd: &lt;http://www.w3.org/2001/XMLS...</td>\n",
       "      <td>expression-manifestation</td>\n",
       "      <td>expression-expression_uri;manifestation-manife...</td>\n",
       "      <td>Manifestation by Expression</td>\n",
       "      <td>Manifestation by Expression</td>\n",
       "      <td>TREE</td>\n",
       "      <td>expression-Publication Document;manifestation-...</td>\n",
       "      <td>NaN</td>\n",
       "      <td>NaN</td>\n",
       "      <td>NaN</td>\n",
       "      <td>NaN</td>\n",
       "    </tr>\n",
       "    <tr>\n",
       "      <th>33</th>\n",
       "      <td>Person</td>\n",
       "      <td>https://query.wikidata.org/sparql</td>\n",
       "      <td>\\n    PREFIX xsd: &lt;http://www.w3.org/2001/XMLS...</td>\n",
       "      <td>person-article</td>\n",
       "      <td>article</td>\n",
       "      <td>WHOISWHO Wikipedia page</td>\n",
       "      <td>WHOISWHO Wikipedia page</td>\n",
       "      <td>WEBPAGE</td>\n",
       "      <td>article-Wikipedia Article</td>\n",
       "      <td>person_id</td>\n",
       "      <td>NaN</td>\n",
       "      <td>NaN</td>\n",
       "      <td>showWikipediaPage</td>\n",
       "    </tr>\n",
       "    <tr>\n",
       "      <th>0</th>\n",
       "      <td>eurovoc</td>\n",
       "      <td>https://publications.europa.eu/webapi/rdf/sparql</td>\n",
       "      <td>PREFIX xsd: &lt;http://www.w3.org/2001/XMLSchema#...</td>\n",
       "      <td>eurovoc-eurovocDomain-eurovocThesauri-eurovocC...</td>\n",
       "      <td>eurovoc-eurovoc_uri;eurovocDomain-eurovocDomai...</td>\n",
       "      <td>Eurovoc domains, thesauri and concepts</td>\n",
       "      <td>Eurovoc concepts by thesauri and domain</td>\n",
       "      <td>TREE</td>\n",
       "      <td>eurovoc-Eurovoc;eurovocDomain-Eurovoc Domain;e...</td>\n",
       "      <td></td>\n",
       "      <td></td>\n",
       "      <td></td>\n",
       "      <td></td>\n",
       "    </tr>\n",
       "    <tr>\n",
       "      <th>0</th>\n",
       "      <td>Eurovoc Concept</td>\n",
       "      <td>https://publications.europa.eu/webapi/rdf/sparql</td>\n",
       "      <td>PREFIX rdfs: &lt;http://www.w3.org/2000/01/rdf-sc...</td>\n",
       "      <td>eurovocConcept-aligment</td>\n",
       "      <td>eurovocConcept-eurovocConcept_uri</td>\n",
       "      <td>Eurovoc concept and aligments</td>\n",
       "      <td>Eurovoc concepts and external aligments</td>\n",
       "      <td>TREE</td>\n",
       "      <td>eurovocConcept-Eurovoc Concept;aligment-Aligment</td>\n",
       "      <td></td>\n",
       "      <td></td>\n",
       "      <td></td>\n",
       "      <td></td>\n",
       "    </tr>\n",
       "    <tr>\n",
       "      <th>0</th>\n",
       "      <td>nuts</td>\n",
       "      <td>https://publications.europa.eu/webapi/rdf/sparql</td>\n",
       "      <td>PREFIX xsd: &lt;http://www.w3.org/2001/XMLSchema#...</td>\n",
       "      <td>nuts-nutsLevel0-nutsLevel1-nutsLevel2-nutsLevel3</td>\n",
       "      <td>nutsLevel0-nutsLevel0_uri;nutsLevel1-nutsLevel...</td>\n",
       "      <td>NUTS Tree</td>\n",
       "      <td>NUTS Tree</td>\n",
       "      <td>TREE</td>\n",
       "      <td>nuts-NUTS Classification;nutsLevel0-NUTS Level...</td>\n",
       "      <td></td>\n",
       "      <td></td>\n",
       "      <td></td>\n",
       "      <td></td>\n",
       "    </tr>\n",
       "    <tr>\n",
       "      <th>0</th>\n",
       "      <td>taxonomy</td>\n",
       "      <td>https://publications.europa.eu/webapi/rdf/sparql</td>\n",
       "      <td>PREFIX skos: &lt;http://www.w3.org/2004/02/skos/c...</td>\n",
       "      <td>taxonomy-taxonomyType-taxonomyLevel1</td>\n",
       "      <td>taxonomy-taxonomy_def;taxonomyType-taxonomyTyp...</td>\n",
       "      <td>Taxonomies</td>\n",
       "      <td>Taxonomies</td>\n",
       "      <td>TREE</td>\n",
       "      <td>taxonomy-Taxonomies Classification;taxonomyTyp...</td>\n",
       "      <td></td>\n",
       "      <td></td>\n",
       "      <td></td>\n",
       "      <td></td>\n",
       "    </tr>\n",
       "    <tr>\n",
       "      <th>0</th>\n",
       "      <td>Taxonomy Level</td>\n",
       "      <td>https://publications.europa.eu/webapi/rdf/sparql</td>\n",
       "      <td>PREFIX xsd: &lt;http://www.w3.org/2001/XMLSchema#...</td>\n",
       "      <td>taxonomyLevel1-taxonomyLevel2</td>\n",
       "      <td>taxonomyLevel1-taxonomyLevel1_uri;taxonomyLeve...</td>\n",
       "      <td>Taxonomy Level Children</td>\n",
       "      <td>Taxonomy Level Children</td>\n",
       "      <td>TREE</td>\n",
       "      <td>taxonomyLevel1-Taxonomy Level;taxonomyLevel2-T...</td>\n",
       "      <td></td>\n",
       "      <td></td>\n",
       "      <td></td>\n",
       "      <td></td>\n",
       "    </tr>\n",
       "    <tr>\n",
       "      <th>0</th>\n",
       "      <td>det</td>\n",
       "      <td>https://publications.europa.eu/webapi/rdf/sparql</td>\n",
       "      <td>PREFIX skos: &lt;http://www.w3.org/2004/02/skos/c...</td>\n",
       "      <td>det-detLevel1-detLevel2</td>\n",
       "      <td>det-det_uri;detLevel1-detLevel1_uri;detLevel2-...</td>\n",
       "      <td>Digital Europa Thesaurus</td>\n",
       "      <td>Digital Europa Thesaurus</td>\n",
       "      <td>TREE</td>\n",
       "      <td>det-DET;detLevel1-DET Level;detLevel2-DET Level</td>\n",
       "      <td></td>\n",
       "      <td></td>\n",
       "      <td></td>\n",
       "      <td></td>\n",
       "    </tr>\n",
       "    <tr>\n",
       "      <th>0</th>\n",
       "      <td>Eurovoc Concept</td>\n",
       "      <td>https://publications.europa.eu/webapi/rdf/sparql</td>\n",
       "      <td>PREFIX xsd: &lt;http://www.w3.org/2001/XMLSchema#...</td>\n",
       "      <td>eurovocConcept-workType-work</td>\n",
       "      <td>eurovocConcept-eurovocConcept_uri;workType-wor...</td>\n",
       "      <td>Eurovoc concept and work types</td>\n",
       "      <td>Eurovoc concepts and works by type</td>\n",
       "      <td>TREE</td>\n",
       "      <td>eurovocConcept-Eurovoc Concept;workType-Work T...</td>\n",
       "      <td></td>\n",
       "      <td></td>\n",
       "      <td></td>\n",
       "      <td></td>\n",
       "    </tr>\n",
       "    <tr>\n",
       "      <th>0</th>\n",
       "      <td>DET Level</td>\n",
       "      <td>https://publications.europa.eu/webapi/rdf/sparql</td>\n",
       "      <td>PREFIX xsd: &lt;http://www.w3.org/2001/XMLSchema#...</td>\n",
       "      <td>detLevel2-detLevel3</td>\n",
       "      <td>detLevel2-detLevel2_uri;detLevel3-detLevel3_uri</td>\n",
       "      <td>DET Children Level</td>\n",
       "      <td>DET Children Level</td>\n",
       "      <td>TREE</td>\n",
       "      <td>detLevel2-DET Level;detLevel3-DET Level</td>\n",
       "      <td></td>\n",
       "      <td></td>\n",
       "      <td></td>\n",
       "      <td></td>\n",
       "    </tr>\n",
       "    <tr>\n",
       "      <th>0</th>\n",
       "      <td>DET Level</td>\n",
       "      <td>https://publications.europa.eu/webapi/rdf/sparql</td>\n",
       "      <td>\\n    PREFIX xsd: &lt;http://www.w3.org/2001/XMLS...</td>\n",
       "      <td>detLevel1-eurovocConcept</td>\n",
       "      <td>detLevel1-detLevel1_uri;eurovocConcept-eurovoc...</td>\n",
       "      <td>DET Level to Eurovoc Concept</td>\n",
       "      <td>DET Level to Eurovoc Concept</td>\n",
       "      <td>TREE</td>\n",
       "      <td>detLevel1-DET Level;eurovocConcept-Eurovoc Con...</td>\n",
       "      <td></td>\n",
       "      <td></td>\n",
       "      <td></td>\n",
       "      <td></td>\n",
       "    </tr>\n",
       "  </tbody>\n",
       "</table>\n",
       "</div>"
      ],
      "text/plain": [
       "                     CLASS                                               URL  \\\n",
       "0                    eurun  https://publications.europa.eu/webapi/rdf/sparql   \n",
       "1            corporateBody  https://publications.europa.eu/webapi/rdf/sparql   \n",
       "2               Membership  https://publications.europa.eu/webapi/rdf/sparql   \n",
       "3   Directory Organization  https://publications.europa.eu/webapi/rdf/sparql   \n",
       "4   Directory Organization  https://publications.europa.eu/webapi/rdf/sparql   \n",
       "5          Membership Type  https://publications.europa.eu/webapi/rdf/sparql   \n",
       "6              opThemeMain  https://publications.europa.eu/webapi/rdf/sparql   \n",
       "23               continent  https://publications.europa.eu/webapi/rdf/sparql   \n",
       "24               continent  https://publications.europa.eu/webapi/rdf/sparql   \n",
       "25               continent  https://publications.europa.eu/webapi/rdf/sparql   \n",
       "26                     org  https://publications.europa.eu/webapi/rdf/sparql   \n",
       "27             orgTypeMain  https://publications.europa.eu/webapi/rdf/sparql   \n",
       "28                OP Theme  https://publications.europa.eu/webapi/rdf/sparql   \n",
       "29  Publication Expression  https://publications.europa.eu/webapi/rdf/sparql   \n",
       "30                OP Theme  https://publications.europa.eu/webapi/rdf/sparql   \n",
       "31           corporateBody  https://publications.europa.eu/webapi/rdf/sparql   \n",
       "32    Publication Document  https://publications.europa.eu/webapi/rdf/sparql   \n",
       "33                  Person                 https://query.wikidata.org/sparql   \n",
       "0                  eurovoc  https://publications.europa.eu/webapi/rdf/sparql   \n",
       "0          Eurovoc Concept  https://publications.europa.eu/webapi/rdf/sparql   \n",
       "0                     nuts  https://publications.europa.eu/webapi/rdf/sparql   \n",
       "0                 taxonomy  https://publications.europa.eu/webapi/rdf/sparql   \n",
       "0           Taxonomy Level  https://publications.europa.eu/webapi/rdf/sparql   \n",
       "0                      det  https://publications.europa.eu/webapi/rdf/sparql   \n",
       "0          Eurovoc Concept  https://publications.europa.eu/webapi/rdf/sparql   \n",
       "0                DET Level  https://publications.europa.eu/webapi/rdf/sparql   \n",
       "0                DET Level  https://publications.europa.eu/webapi/rdf/sparql   \n",
       "\n",
       "                                                QUERY  \\\n",
       "0   \\n    PREFIX xsd: <http://www.w3.org/2001/XMLS...   \n",
       "1   \\nPREFIX xsd: <http://www.w3.org/2001/XMLSchem...   \n",
       "2   \\n    PREFIX xsd: <http://www.w3.org/2001/XMLS...   \n",
       "3   \\nPREFIX xsd: <http://www.w3.org/2001/XMLSchem...   \n",
       "4   \\nPREFIX xsd: <http://www.w3.org/2001/XMLSchem...   \n",
       "5   \\nPREFIX xsd: <http://www.w3.org/2001/XMLSchem...   \n",
       "6   \\n    PREFIX xsd: <http://www.w3.org/2001/XMLS...   \n",
       "23  \\n    PREFIX xsd: <http://www.w3.org/2001/XMLS...   \n",
       "24  \\n    PREFIX xsd: <http://www.w3.org/2001/XMLS...   \n",
       "25  PREFIX xsd: <http://www.w3.org/2001/XMLSchema#...   \n",
       "26  PREFIX skos: <http://www.w3.org/2004/02/skos/c...   \n",
       "27  PREFIX authority: <http://publications.europa....   \n",
       "28  \\n        PREFIX xsd: <http://www.w3.org/2001/...   \n",
       "29  \\n    PREFIX xsd: <http://www.w3.org/2001/XMLS...   \n",
       "30  \\n        PREFIX xsd: <http://www.w3.org/2001/...   \n",
       "31  \\nPREFIX xsd: <http://www.w3.org/2001/XMLSchem...   \n",
       "32  \\n    PREFIX xsd: <http://www.w3.org/2001/XMLS...   \n",
       "33  \\n    PREFIX xsd: <http://www.w3.org/2001/XMLS...   \n",
       "0   PREFIX xsd: <http://www.w3.org/2001/XMLSchema#...   \n",
       "0   PREFIX rdfs: <http://www.w3.org/2000/01/rdf-sc...   \n",
       "0   PREFIX xsd: <http://www.w3.org/2001/XMLSchema#...   \n",
       "0   PREFIX skos: <http://www.w3.org/2004/02/skos/c...   \n",
       "0   PREFIX xsd: <http://www.w3.org/2001/XMLSchema#...   \n",
       "0   PREFIX skos: <http://www.w3.org/2004/02/skos/c...   \n",
       "0   PREFIX xsd: <http://www.w3.org/2001/XMLSchema#...   \n",
       "0   PREFIX xsd: <http://www.w3.org/2001/XMLSchema#...   \n",
       "0   \\n    PREFIX xsd: <http://www.w3.org/2001/XMLS...   \n",
       "\n",
       "                                            HIERARCHY  \\\n",
       "0                                 eurun-corporateBody   \n",
       "1                          corporateBody-directoryOrg   \n",
       "2                                   membership-person   \n",
       "3                          directoryOrg-directoryOrg2   \n",
       "4                             directoryOrg-membership   \n",
       "5                                   membership-person   \n",
       "6                                 opThemeMain-opTheme   \n",
       "23                    continent-continentName-country   \n",
       "24           continent-continentName-country-language   \n",
       "25                continent-continentName-country-org   \n",
       "26                                                org   \n",
       "27                   orgTypeMain-orgType-directoryOrg   \n",
       "28                              opTheme-corporateBody   \n",
       "29                           expression-manifestation   \n",
       "30                         opThemeParent-opThemeChild   \n",
       "31                           corporateBody-expression   \n",
       "32                           expression-manifestation   \n",
       "33                                     person-article   \n",
       "0   eurovoc-eurovocDomain-eurovocThesauri-eurovocC...   \n",
       "0                             eurovocConcept-aligment   \n",
       "0    nuts-nutsLevel0-nutsLevel1-nutsLevel2-nutsLevel3   \n",
       "0                taxonomy-taxonomyType-taxonomyLevel1   \n",
       "0                       taxonomyLevel1-taxonomyLevel2   \n",
       "0                             det-detLevel1-detLevel2   \n",
       "0                        eurovocConcept-workType-work   \n",
       "0                                 detLevel2-detLevel3   \n",
       "0                            detLevel1-eurovocConcept   \n",
       "\n",
       "                                           PROPERTIES  \\\n",
       "0   eurun-eurun_uri;eurun-eurun_image;corporateBod...   \n",
       "1   directoryOrg-directoryOrg_uri;directoryOrg-dir...   \n",
       "2   person-person_uri;person-person_gender;person-...   \n",
       "3   directoryOrg2-directoryOrg2_uri;directoryOrg2-...   \n",
       "4                  membership-membership_directoryOrg   \n",
       "5   membership-membership_uri;membership-membershi...   \n",
       "6     opThemeMain-opThemeMain_uri;opTheme-opTheme_uri   \n",
       "23  continent-continent_uri;continentName-continen...   \n",
       "24  continent-continent_uri;continentName-continen...   \n",
       "25  continent-continent_uri;continentName-continen...   \n",
       "26  org-org_desc;org-org_code;org-org_startDate;or...   \n",
       "27  orgTypeMain-orgTypeMain_uri;orgType-orgType_ur...   \n",
       "28  opTheme-opTheme_uri;corporateBody-corporateBod...   \n",
       "29  expression-expression_uri;manifestation-manife...   \n",
       "30  opThemeParent-opThemeParent_uri;opThemeChild-o...   \n",
       "31  corporateBody-corporateBody_uri;expression-exp...   \n",
       "32  expression-expression_uri;manifestation-manife...   \n",
       "33                                            article   \n",
       "0   eurovoc-eurovoc_uri;eurovocDomain-eurovocDomai...   \n",
       "0                   eurovocConcept-eurovocConcept_uri   \n",
       "0   nutsLevel0-nutsLevel0_uri;nutsLevel1-nutsLevel...   \n",
       "0   taxonomy-taxonomy_def;taxonomyType-taxonomyTyp...   \n",
       "0   taxonomyLevel1-taxonomyLevel1_uri;taxonomyLeve...   \n",
       "0   det-det_uri;detLevel1-detLevel1_uri;detLevel2-...   \n",
       "0   eurovocConcept-eurovocConcept_uri;workType-wor...   \n",
       "0     detLevel2-detLevel2_uri;detLevel3-detLevel3_uri   \n",
       "0   detLevel1-detLevel1_uri;eurovocConcept-eurovoc...   \n",
       "\n",
       "                                     OPTION  \\\n",
       "0           WHOISWHO EURUN Suborganizations   \n",
       "1                 WHOISWHO Suborganizations   \n",
       "2                           WHOISWHO Person   \n",
       "3        WHOISWHO directoryOrg second level   \n",
       "4                       WHOISWHO Membership   \n",
       "5                  WHOISWHO Membership Type   \n",
       "6   PUBLICATIONS - Publications by OP Theme   \n",
       "23                   Countries by continent   \n",
       "24       Languages by country and continent   \n",
       "25   Continents countries and organisations   \n",
       "26                   Timeline organisations   \n",
       "27             WHOISWHO Organisations types   \n",
       "28         OP Themes and publication author   \n",
       "29              Manifestation by Expression   \n",
       "30                       OP Themes children   \n",
       "31            Publications by CorporateBody   \n",
       "32              Manifestation by Expression   \n",
       "33                  WHOISWHO Wikipedia page   \n",
       "0    Eurovoc domains, thesauri and concepts   \n",
       "0             Eurovoc concept and aligments   \n",
       "0                                 NUTS Tree   \n",
       "0                                Taxonomies   \n",
       "0                   Taxonomy Level Children   \n",
       "0                  Digital Europa Thesaurus   \n",
       "0            Eurovoc concept and work types   \n",
       "0                        DET Children Level   \n",
       "0              DET Level to Eurovoc Concept   \n",
       "\n",
       "                                          OPTION_TEXT      TYPE  \\\n",
       "0                     WHOISWHO EURUN Suborganizations      TREE   \n",
       "1                           WHOISWHO Suborganizations      TREE   \n",
       "2                                     WHOISWHO Person      TREE   \n",
       "3                  WHOISWHO directoryOrg second level      TREE   \n",
       "4                                 WHOISWHO Membership      TREE   \n",
       "5                            WHOISWHO Membership Type      TREE   \n",
       "6             PUBLICATIONS - Publications by OP Theme      TREE   \n",
       "23                             Countries by continent      TREE   \n",
       "24                 Languages by country and continent      TREE   \n",
       "25  Continents countries and organisations those c...      TREE   \n",
       "26                             Timeline organisations  TIMELINE   \n",
       "27                       WHOISWHO Organisations types      TREE   \n",
       "28                   OP Themes and publication author      TREE   \n",
       "29                        Manifestation by Expression      TREE   \n",
       "30                                 OP Themes children      TREE   \n",
       "31                      Publications by CorporateBody      TREE   \n",
       "32                        Manifestation by Expression      TREE   \n",
       "33                            WHOISWHO Wikipedia page   WEBPAGE   \n",
       "0             Eurovoc concepts by thesauri and domain      TREE   \n",
       "0             Eurovoc concepts and external aligments      TREE   \n",
       "0                                           NUTS Tree      TREE   \n",
       "0                                          Taxonomies      TREE   \n",
       "0                             Taxonomy Level Children      TREE   \n",
       "0                            Digital Europa Thesaurus      TREE   \n",
       "0                  Eurovoc concepts and works by type      TREE   \n",
       "0                                  DET Children Level      TREE   \n",
       "0                        DET Level to Eurovoc Concept      TREE   \n",
       "\n",
       "                                              CLASSES  \\\n",
       "0    eurun-European Union;corporateBody-corporateBody   \n",
       "1   corporateBody-corporateBody;directoryOrg-Direc...   \n",
       "2                 membership-Membership;person-Person   \n",
       "3   directoryOrg-Directory Organization;directoryO...   \n",
       "4   directoryOrg-Directory Organization;membership...   \n",
       "5            membership-Membership Type;person-Person   \n",
       "6    opThemeMain-Publications Themes;opTheme-OP Theme   \n",
       "23                                                NaN   \n",
       "24                                                NaN   \n",
       "25                                                NaN   \n",
       "26                                                NaN   \n",
       "27                                                NaN   \n",
       "28       opTheme-OP Theme;corporateBody-corporateBody   \n",
       "29  expression-Publication Expression;manifestatio...   \n",
       "30       opThemeParent-OP Theme;opThemeChild-OP Theme   \n",
       "31  corporateBody-corporateBody;expression-Publica...   \n",
       "32  expression-Publication Document;manifestation-...   \n",
       "33                          article-Wikipedia Article   \n",
       "0   eurovoc-Eurovoc;eurovocDomain-Eurovoc Domain;e...   \n",
       "0    eurovocConcept-Eurovoc Concept;aligment-Aligment   \n",
       "0   nuts-NUTS Classification;nutsLevel0-NUTS Level...   \n",
       "0   taxonomy-Taxonomies Classification;taxonomyTyp...   \n",
       "0   taxonomyLevel1-Taxonomy Level;taxonomyLevel2-T...   \n",
       "0     det-DET;detLevel1-DET Level;detLevel2-DET Level   \n",
       "0   eurovocConcept-Eurovoc Concept;workType-Work T...   \n",
       "0             detLevel2-DET Level;detLevel3-DET Level   \n",
       "0   detLevel1-DET Level;eurovocConcept-Eurovoc Con...   \n",
       "\n",
       "                 PARAMETERS  \\\n",
       "0                       NaN   \n",
       "1                       NaN   \n",
       "2                       NaN   \n",
       "3                       NaN   \n",
       "4                       NaN   \n",
       "5   membership_directoryOrg   \n",
       "6                       NaN   \n",
       "23                      NaN   \n",
       "24                      NaN   \n",
       "25                      NaN   \n",
       "26                      NaN   \n",
       "27                      NaN   \n",
       "28                      NaN   \n",
       "29                      NaN   \n",
       "30                      NaN   \n",
       "31    corporateBody_opTheme   \n",
       "32                      NaN   \n",
       "33                person_id   \n",
       "0                             \n",
       "0                             \n",
       "0                             \n",
       "0                             \n",
       "0                             \n",
       "0                             \n",
       "0                             \n",
       "0                             \n",
       "0                             \n",
       "\n",
       "                                              FILTERS  \\\n",
       "0   corporateBody_country-dropdown;corporateBody_l...   \n",
       "1                                                 NaN   \n",
       "2                                                 NaN   \n",
       "3                                                 NaN   \n",
       "4                                                 NaN   \n",
       "5                                                 NaN   \n",
       "6                                                 NaN   \n",
       "23                                                NaN   \n",
       "24                                                NaN   \n",
       "25                                                NaN   \n",
       "26                                                NaN   \n",
       "27                                                NaN   \n",
       "28                                                NaN   \n",
       "29                                                NaN   \n",
       "30                                                NaN   \n",
       "31                                                NaN   \n",
       "32                                                NaN   \n",
       "33                                                NaN   \n",
       "0                                                       \n",
       "0                                                       \n",
       "0                                                       \n",
       "0                                                       \n",
       "0                                                       \n",
       "0                                                       \n",
       "0                                                       \n",
       "0                                                       \n",
       "0                                                       \n",
       "\n",
       "                                              TOOLTIP           FUNCTION  \n",
       "0   corporateBody_country-Country;corporateBody_lo...                NaN  \n",
       "1                                                 NaN                NaN  \n",
       "2                                                 NaN                NaN  \n",
       "3                                                 NaN                NaN  \n",
       "4                                                 NaN                NaN  \n",
       "5                                                 NaN                NaN  \n",
       "6                                                 NaN                NaN  \n",
       "23                                                NaN                NaN  \n",
       "24                                                NaN                NaN  \n",
       "25                                                NaN                NaN  \n",
       "26                                                NaN                NaN  \n",
       "27                                                NaN                NaN  \n",
       "28                                                NaN                NaN  \n",
       "29                                                NaN                NaN  \n",
       "30                                                NaN                NaN  \n",
       "31                                                NaN                NaN  \n",
       "32                                                NaN                NaN  \n",
       "33                                                NaN  showWikipediaPage  \n",
       "0                                                                         \n",
       "0                                                                         \n",
       "0                                                                         \n",
       "0                                                                         \n",
       "0                                                                         \n",
       "0                                                                         \n",
       "0                                                                         \n",
       "0                                                                         \n",
       "0                                                                         "
      ]
     },
     "execution_count": 367,
     "metadata": {},
     "output_type": "execute_result"
    }
   ],
   "source": [
    "df"
   ]
  },
  {
   "cell_type": "code",
   "execution_count": 325,
   "metadata": {},
   "outputs": [],
   "source": [
    "url=\"https://publications.europa.eu/webapi/rdf/sparql\""
   ]
  },
  {
   "cell_type": "code",
   "execution_count": 326,
   "metadata": {},
   "outputs": [],
   "source": [
    "className=\"DET Level\""
   ]
  },
  {
   "cell_type": "code",
   "execution_count": 327,
   "metadata": {},
   "outputs": [],
   "source": [
    "hierarchy=\"detLevel2-detLevel3\""
   ]
  },
  {
   "cell_type": "code",
   "execution_count": 328,
   "metadata": {},
   "outputs": [],
   "source": [
    "properties=\"detLevel2-detLevel2_uri;detLevel3-detLevel3_uri\""
   ]
  },
  {
   "cell_type": "code",
   "execution_count": 329,
   "metadata": {},
   "outputs": [],
   "source": [
    "option=\"DET Children Level\""
   ]
  },
  {
   "cell_type": "code",
   "execution_count": 330,
   "metadata": {},
   "outputs": [],
   "source": [
    "option_text=\"DET Children Level\""
   ]
  },
  {
   "cell_type": "code",
   "execution_count": 331,
   "metadata": {},
   "outputs": [],
   "source": [
    "query=\"\"\"PREFIX xsd: <http://www.w3.org/2001/XMLSchema#> \n",
    "    PREFIX skos: <http://www.w3.org/2004/02/skos/core#>\n",
    "            SELECT DISTINCT ?detLevel2 ?detLevel2_uri ?detLevel3 ?detLevel3_uri\n",
    "                    WHERE{{\n",
    "                    ?detLevel2_uri skos:prefLabel ?detLevel2;\n",
    "                                         skos:narrower ?detLevel3_uri.\n",
    "                    ?detLevel3_uri skos:prefLabel ?detLevel3\n",
    "                    } \n",
    "                   filter(?detLevel2_uri=<PARAMETER>).\n",
    "                   FILTER(langMatches(lang(?detLevel2), \"en\"))\n",
    "                   FILTER(langMatches(lang(?detLevel3), \"en\"))\n",
    "                   }ORDER BY ?detLevel2 ?detLevel3\"\"\""
   ]
  },
  {
   "cell_type": "code",
   "execution_count": 332,
   "metadata": {},
   "outputs": [],
   "source": [
    "classes=\"detLevel2-DET Level;detLevel3-DET Level\""
   ]
  },
  {
   "cell_type": "code",
   "execution_count": 333,
   "metadata": {},
   "outputs": [],
   "source": [
    "parameters=\"\""
   ]
  },
  {
   "cell_type": "code",
   "execution_count": 334,
   "metadata": {},
   "outputs": [],
   "source": [
    "tooltip=\"\""
   ]
  },
  {
   "cell_type": "code",
   "execution_count": 335,
   "metadata": {},
   "outputs": [],
   "source": [
    "filters=\"\""
   ]
  },
  {
   "cell_type": "code",
   "execution_count": 336,
   "metadata": {},
   "outputs": [],
   "source": [
    "function=\"\""
   ]
  },
  {
   "cell_type": "code",
   "execution_count": 337,
   "metadata": {},
   "outputs": [],
   "source": [
    "record={'CLASS':className, 'URL':url, 'QUERY':query, 'HIERARCHY':hierarchy, 'PROPERTIES':properties,\n",
    "        'OPTION':option,'OPTION_TEXT':option_text,'TYPE':rowType, 'CLASSES':classes, 'PARAMETERS':parameters, 'FILTERS':filters, 'TOOLTIP':tooltip,\n",
    "       'FUNCTION':function}"
   ]
  },
  {
   "cell_type": "code",
   "execution_count": 338,
   "metadata": {},
   "outputs": [],
   "source": [
    "df_record=pd.DataFrame([record])"
   ]
  },
  {
   "cell_type": "code",
   "execution_count": 339,
   "metadata": {},
   "outputs": [],
   "source": [
    "df=pd.concat([df,df_record])"
   ]
  },
  {
   "cell_type": "code",
   "execution_count": 451,
   "metadata": {},
   "outputs": [],
   "source": [
    "#df=df[df[\"OPTION_TEXT\"]!=\"Eurovoc concepts and works by type\"]"
   ]
  },
  {
   "cell_type": "markdown",
   "metadata": {},
   "source": [
    "### DET Level TO eurovocConcept"
   ]
  },
  {
   "cell_type": "code",
   "execution_count": 348,
   "metadata": {},
   "outputs": [],
   "source": [
    "url=\"https://publications.europa.eu/webapi/rdf/sparql\""
   ]
  },
  {
   "cell_type": "code",
   "execution_count": 349,
   "metadata": {},
   "outputs": [],
   "source": [
    "className=\"DET Level\""
   ]
  },
  {
   "cell_type": "code",
   "execution_count": 350,
   "metadata": {},
   "outputs": [],
   "source": [
    "hierarchy=\"detLevel1-eurovocConcept\""
   ]
  },
  {
   "cell_type": "code",
   "execution_count": 351,
   "metadata": {},
   "outputs": [],
   "source": [
    "properties=\"detLevel1-detLevel1_uri;eurovocConcept-eurovocConcept_uri\""
   ]
  },
  {
   "cell_type": "code",
   "execution_count": 352,
   "metadata": {},
   "outputs": [],
   "source": [
    "option=\"DET Level to Eurovoc Concept\""
   ]
  },
  {
   "cell_type": "code",
   "execution_count": 353,
   "metadata": {},
   "outputs": [],
   "source": [
    "option_text=\"DET Level to Eurovoc Concept\""
   ]
  },
  {
   "cell_type": "code",
   "execution_count": 354,
   "metadata": {},
   "outputs": [],
   "source": [
    "query=\"\"\"\n",
    "    PREFIX xsd: <http://www.w3.org/2001/XMLSchema#> \n",
    "    PREFIX skos: <http://www.w3.org/2004/02/skos/core#>\n",
    "            SELECT DISTINCT ?detLevel1 ?detLevel1_uri ?eurovocConcept ?eurovocConcept_uri\n",
    "            where {{?detLevel1_uri skos:prefLabel ?detLevel1;\n",
    "                                    skos:exactMatch ?eurovocConcept_uri.\n",
    "                    ?eurovocConcept_uri skos:prefLabel ?eurovocConcept} \n",
    "                   filter(?detLevel1_uri=<PARAMETER>).\n",
    "                   FILTER(langMatches(lang(?detLevel1), \"en\")).\n",
    "                   FILTER(langMatches(lang(?eurovocConcept), \"en\")).\n",
    "                   }\n",
    "    \"\"\""
   ]
  },
  {
   "cell_type": "code",
   "execution_count": 355,
   "metadata": {},
   "outputs": [],
   "source": [
    "classes=\"detLevel1-DET Level;eurovocConcept-Eurovoc Concept\""
   ]
  },
  {
   "cell_type": "code",
   "execution_count": 356,
   "metadata": {},
   "outputs": [],
   "source": [
    "parameters=\"\""
   ]
  },
  {
   "cell_type": "code",
   "execution_count": 357,
   "metadata": {},
   "outputs": [],
   "source": [
    "tooltip=\"\""
   ]
  },
  {
   "cell_type": "code",
   "execution_count": 358,
   "metadata": {},
   "outputs": [],
   "source": [
    "filters=\"\""
   ]
  },
  {
   "cell_type": "code",
   "execution_count": 359,
   "metadata": {},
   "outputs": [],
   "source": [
    "function=\"\""
   ]
  },
  {
   "cell_type": "code",
   "execution_count": 360,
   "metadata": {},
   "outputs": [],
   "source": [
    "record={'CLASS':className, 'URL':url, 'QUERY':query, 'HIERARCHY':hierarchy, 'PROPERTIES':properties,\n",
    "        'OPTION':option,'OPTION_TEXT':option_text,'TYPE':rowType, 'CLASSES':classes, 'PARAMETERS':parameters, 'FILTERS':filters, 'TOOLTIP':tooltip,\n",
    "       'FUNCTION':function}"
   ]
  },
  {
   "cell_type": "code",
   "execution_count": 361,
   "metadata": {},
   "outputs": [],
   "source": [
    "df_record=pd.DataFrame([record])"
   ]
  },
  {
   "cell_type": "code",
   "execution_count": 362,
   "metadata": {},
   "outputs": [],
   "source": [
    "df=pd.concat([df,df_record])"
   ]
  },
  {
   "cell_type": "code",
   "execution_count": 528,
   "metadata": {},
   "outputs": [],
   "source": [
    "#df=df[df[\"OPTION_TEXT\"]!=\"Eurovoc concepts and works by type\"]"
   ]
  },
  {
   "cell_type": "markdown",
   "metadata": {},
   "source": [
    "### Languages by country and continent"
   ]
  },
  {
   "cell_type": "code",
   "execution_count": 369,
   "metadata": {},
   "outputs": [],
   "source": [
    "#df=df[df[\"OPTION_TEXT\"]!=\"Languages by country and continent\"]"
   ]
  },
  {
   "cell_type": "code",
   "execution_count": 377,
   "metadata": {},
   "outputs": [],
   "source": [
    "url=\"https://publications.europa.eu/webapi/rdf/sparql\""
   ]
  },
  {
   "cell_type": "code",
   "execution_count": 378,
   "metadata": {},
   "outputs": [],
   "source": [
    "className=\"Continents\""
   ]
  },
  {
   "cell_type": "code",
   "execution_count": 379,
   "metadata": {},
   "outputs": [],
   "source": [
    "hierarchy=\"continent-continentName-country-language\""
   ]
  },
  {
   "cell_type": "code",
   "execution_count": 380,
   "metadata": {},
   "outputs": [],
   "source": [
    "properties=\"continent-continent_uri;continentName-continentName_uri;country-country_uri;language-language_uri\""
   ]
  },
  {
   "cell_type": "code",
   "execution_count": 381,
   "metadata": {},
   "outputs": [],
   "source": [
    "option=\"Languages by country and continent\""
   ]
  },
  {
   "cell_type": "code",
   "execution_count": 382,
   "metadata": {},
   "outputs": [],
   "source": [
    "option_text=\"Languages by country and continent\""
   ]
  },
  {
   "cell_type": "code",
   "execution_count": 383,
   "metadata": {},
   "outputs": [],
   "source": [
    "query=\"\"\"\n",
    "    PREFIX xsd: <http://www.w3.org/2001/XMLSchema#> \n",
    "            PREFIX skos: <http://www.w3.org/2004/02/skos/core#>\n",
    "            PREFIX rdf: <http://www.w3.org/1999/02/22-rdf-syntax-ns#>\n",
    "            PREFIX cdm: <http://publications.europa.eu/ontology/cdm#>\n",
    "            PREFIX dcterms: <http://purl.org/dc/terms/>\n",
    "            PREFIX geo: <http://www.opengis.net/ont/geosparql#>\n",
    "            PREFIX authority: <http://publications.europa.eu/ontology/authority/>\n",
    "                    SELECT DISTINCT ?continent ?continent_uri ?continentName ?continentName_uri ?country ?country_uri ?language ?language_uri \n",
    "                    where {{?continentName_uri skos:prefLabel ?continentName;\n",
    "                               skos:inScheme ?continent_uri.\n",
    "                            ?continent_uri skos:prefLabel ?continent.\n",
    "                            ?country_uri geo:sfWithin ?continentName_uri;\n",
    "                                         skos:prefLabel ?country;\n",
    "                                         authority:deprecated ?deprecated;\n",
    "                                         dcterms:language ?language_uri.\n",
    "                            ?language_uri skos:prefLabel ?language\n",
    "                            } \n",
    "                           filter(?continent_uri=<http://publications.europa.eu/resource/authority/continent>).\n",
    "                           FILTER(langMatches(lang(?continent), \"en\")).\n",
    "                           FILTER(langMatches(lang(?continentName), \"en\")).\n",
    "                           FILTER(langMatches(lang(?country), \"en\")).\n",
    "                           filter(?deprecated=\"false\").\n",
    "                           FILTER(langMatches(lang(?language), \"en\")).\n",
    "                           }ORDER BY ?continent ?continentName ?country ?language\n",
    "    \"\"\""
   ]
  },
  {
   "cell_type": "code",
   "execution_count": 385,
   "metadata": {},
   "outputs": [],
   "source": [
    "classes=\"continent-Continents;continentName-Continent;country-Country;language-Language\""
   ]
  },
  {
   "cell_type": "code",
   "execution_count": 386,
   "metadata": {},
   "outputs": [],
   "source": [
    "parameters=\"\""
   ]
  },
  {
   "cell_type": "code",
   "execution_count": 387,
   "metadata": {},
   "outputs": [],
   "source": [
    "tooltip=\"\""
   ]
  },
  {
   "cell_type": "code",
   "execution_count": 388,
   "metadata": {},
   "outputs": [],
   "source": [
    "filters=\"\""
   ]
  },
  {
   "cell_type": "code",
   "execution_count": 389,
   "metadata": {},
   "outputs": [],
   "source": [
    "function=\"\""
   ]
  },
  {
   "cell_type": "code",
   "execution_count": 390,
   "metadata": {},
   "outputs": [],
   "source": [
    "record={'CLASS':className, 'URL':url, 'QUERY':query, 'HIERARCHY':hierarchy, 'PROPERTIES':properties,\n",
    "        'OPTION':option,'OPTION_TEXT':option_text,'TYPE':rowType, 'CLASSES':classes, 'PARAMETERS':parameters, 'FILTERS':filters, 'TOOLTIP':tooltip,\n",
    "       'FUNCTION':function}"
   ]
  },
  {
   "cell_type": "code",
   "execution_count": 391,
   "metadata": {},
   "outputs": [],
   "source": [
    "df_record=pd.DataFrame([record])"
   ]
  },
  {
   "cell_type": "code",
   "execution_count": 392,
   "metadata": {},
   "outputs": [],
   "source": [
    "df=pd.concat([df,df_record])"
   ]
  },
  {
   "cell_type": "markdown",
   "metadata": {},
   "source": [
    "### Continent, country and organisations"
   ]
  },
  {
   "cell_type": "code",
   "execution_count": 403,
   "metadata": {},
   "outputs": [],
   "source": [
    "#df=df[df[\"OPTION_TEXT\"]!=\"Continents countries and organisations\"]"
   ]
  },
  {
   "cell_type": "code",
   "execution_count": 404,
   "metadata": {},
   "outputs": [],
   "source": [
    "url=\"https://publications.europa.eu/webapi/rdf/sparql\""
   ]
  },
  {
   "cell_type": "code",
   "execution_count": 405,
   "metadata": {},
   "outputs": [],
   "source": [
    "className=\"Continents\""
   ]
  },
  {
   "cell_type": "code",
   "execution_count": 406,
   "metadata": {},
   "outputs": [],
   "source": [
    "hierarchy=\"continent-continentName-country-org\""
   ]
  },
  {
   "cell_type": "code",
   "execution_count": 407,
   "metadata": {},
   "outputs": [],
   "source": [
    "properties=\"continent-continent_uri;continentName-continentName_uri;country-country_uri;org-org_desc;org-org_code\""
   ]
  },
  {
   "cell_type": "code",
   "execution_count": 408,
   "metadata": {},
   "outputs": [],
   "source": [
    "option=\"Continents countries and organisations\""
   ]
  },
  {
   "cell_type": "code",
   "execution_count": 409,
   "metadata": {},
   "outputs": [],
   "source": [
    "option_text=\"Continents countries and organisations those countries belong to\""
   ]
  },
  {
   "cell_type": "code",
   "execution_count": 410,
   "metadata": {},
   "outputs": [],
   "source": [
    "query=\"\"\"PREFIX xsd: <http://www.w3.org/2001/XMLSchema#> \n",
    "            PREFIX skos: <http://www.w3.org/2004/02/skos/core#>\n",
    "            PREFIX rdf: <http://www.w3.org/1999/02/22-rdf-syntax-ns#>\n",
    "            PREFIX cdm: <http://publications.europa.eu/ontology/cdm#>\n",
    "            PREFIX dcterms: <http://purl.org/dc/terms/>\n",
    "            PREFIX geo: <http://www.opengis.net/ont/geosparql#>\n",
    "            PREFIX authority: <http://publications.europa.eu/ontology/authority/>\n",
    "            PREFIX org: <http://www.w3.org/ns/org#>\n",
    "                    SELECT DISTINCT ?continent ?continent_uri ?continentName ?continentName_uri ?country_uri ?country ?org ?org_code ?org_desc\n",
    "                    where {{?continentName_uri skos:prefLabel ?continentName;\n",
    "                               skos:inScheme ?continent_uri.\n",
    "                            ?continent_uri skos:prefLabel ?continent.\n",
    "                            ?country_uri geo:sfWithin ?continentName_uri;\n",
    "                                         skos:prefLabel ?country;\n",
    "                                         authority:deprecated ?deprecated.\n",
    "                            OPTIONAL {\n",
    "                                    ?country_uri org:hasMembership ?o.\n",
    "                                    ?o org:organization ?org_code.\n",
    "                                    ?org_code authority:deprecated ?deprecated2;\n",
    "                                              authority:authority-code ?org;\n",
    "                                              skos:prefLabel ?org_desc.\n",
    "                                    filter(?deprecated2=\"false\").\n",
    "                                    FILTER(langMatches(lang(?org_desc), \"en\")).\n",
    "                            }\n",
    "                            } \n",
    "                           filter(?continent_uri=<http://publications.europa.eu/resource/authority/continent>).\n",
    "                           FILTER(langMatches(lang(?continent), \"en\")).\n",
    "                           FILTER(langMatches(lang(?continentName), \"en\")).\n",
    "                           FILTER(langMatches(lang(?country), \"en\")).\n",
    "                           filter(?deprecated=\"false\").\n",
    "                           }ORDER BY ?continent ?continentName ?country ?org\"\"\""
   ]
  },
  {
   "cell_type": "code",
   "execution_count": 411,
   "metadata": {},
   "outputs": [],
   "source": [
    "classes=\"continent-Continents;continentName-Continent;country-Country;org-Organisation\""
   ]
  },
  {
   "cell_type": "code",
   "execution_count": 412,
   "metadata": {},
   "outputs": [],
   "source": [
    "parameters=\"\""
   ]
  },
  {
   "cell_type": "code",
   "execution_count": 413,
   "metadata": {},
   "outputs": [],
   "source": [
    "tooltip=\"\""
   ]
  },
  {
   "cell_type": "code",
   "execution_count": 414,
   "metadata": {},
   "outputs": [],
   "source": [
    "filters=\"\""
   ]
  },
  {
   "cell_type": "code",
   "execution_count": 415,
   "metadata": {},
   "outputs": [],
   "source": [
    "function=\"\""
   ]
  },
  {
   "cell_type": "code",
   "execution_count": 416,
   "metadata": {},
   "outputs": [],
   "source": [
    "record={'CLASS':className, 'URL':url, 'QUERY':query, 'HIERARCHY':hierarchy, 'PROPERTIES':properties,\n",
    "        'OPTION':option,'OPTION_TEXT':option_text,'TYPE':rowType, 'CLASSES':classes, 'PARAMETERS':parameters, 'FILTERS':filters, 'TOOLTIP':tooltip,\n",
    "       'FUNCTION':function}"
   ]
  },
  {
   "cell_type": "code",
   "execution_count": 417,
   "metadata": {},
   "outputs": [],
   "source": [
    "df_record=pd.DataFrame([record])"
   ]
  },
  {
   "cell_type": "code",
   "execution_count": 418,
   "metadata": {},
   "outputs": [],
   "source": [
    "df=pd.concat([df,df_record])"
   ]
  },
  {
   "cell_type": "markdown",
   "metadata": {},
   "source": [
    "### Timeline european organisations"
   ]
  },
  {
   "cell_type": "code",
   "execution_count": 421,
   "metadata": {},
   "outputs": [],
   "source": [
    "#df=df[df[\"OPTION_TEXT\"]!=\"Timeline organisations\"]"
   ]
  },
  {
   "cell_type": "code",
   "execution_count": 422,
   "metadata": {},
   "outputs": [],
   "source": [
    "url=\"https://publications.europa.eu/webapi/rdf/sparql\""
   ]
  },
  {
   "cell_type": "code",
   "execution_count": 423,
   "metadata": {},
   "outputs": [],
   "source": [
    "className=\"org\""
   ]
  },
  {
   "cell_type": "code",
   "execution_count": 424,
   "metadata": {},
   "outputs": [],
   "source": [
    "hierarchy=\"org\""
   ]
  },
  {
   "cell_type": "code",
   "execution_count": 425,
   "metadata": {},
   "outputs": [],
   "source": [
    "properties=\"org-org_desc;org-org_code;org-org_startDate;org-org_endDate\""
   ]
  },
  {
   "cell_type": "code",
   "execution_count": 426,
   "metadata": {},
   "outputs": [],
   "source": [
    "option=\"Timeline organisations\""
   ]
  },
  {
   "cell_type": "code",
   "execution_count": 427,
   "metadata": {},
   "outputs": [],
   "source": [
    "option_text=\"Timeline organisations\""
   ]
  },
  {
   "cell_type": "code",
   "execution_count": 428,
   "metadata": {},
   "outputs": [],
   "source": [
    "query=\"\"\"PREFIX skos: <http://www.w3.org/2004/02/skos/core#>\n",
    "            PREFIX dcterms: <http://purl.org/dc/terms/>\n",
    "            PREFIX euvoc: <http://publications.europa.eu/ontology/euvoc#>\n",
    "            PREFIX authority: <http://publications.europa.eu/ontology/authority/>\n",
    "                    SELECT DISTINCT ?org ?org_code ?org_desc ?treaty ?startDate ?endDate ?replaces\n",
    "                    where {{?org_code skos:prefLabel ?org_desc;\n",
    "                                      authority:authority-code ?org;\n",
    "                                      euvoc:startDate ?startDate.\n",
    "                            OPTIONAL {\n",
    "                            ?org_code euvoc:endDate ?endDate.\n",
    "                            }\n",
    "                            OPTIONAL{\n",
    "                            ?org_code euvoc:legallyBasedOnTreaty ?treaty_code.\n",
    "                            ?treaty_code skos:prefLabel ?treaty.\n",
    "                            FILTER(langMatches(lang(?treaty), \"en\")).\n",
    "                            }\n",
    "                            OPTIONAL{\n",
    "                            ?org_code dcterms:replaces ?replaces.\n",
    "                            }\n",
    "                            } \n",
    "                           filter(?org_code=<PARAMETER>).\n",
    "                           FILTER(langMatches(lang(?org_desc), \"en\")).\n",
    "                           }\"\"\""
   ]
  },
  {
   "cell_type": "code",
   "execution_count": 429,
   "metadata": {},
   "outputs": [],
   "source": [
    "rowType=\"TIMELINE\""
   ]
  },
  {
   "cell_type": "code",
   "execution_count": 430,
   "metadata": {},
   "outputs": [],
   "source": [
    "classes=\"org-Organisation\""
   ]
  },
  {
   "cell_type": "code",
   "execution_count": 431,
   "metadata": {},
   "outputs": [],
   "source": [
    "parameters=\"\""
   ]
  },
  {
   "cell_type": "code",
   "execution_count": 432,
   "metadata": {},
   "outputs": [],
   "source": [
    "tooltip=\"\""
   ]
  },
  {
   "cell_type": "code",
   "execution_count": 433,
   "metadata": {},
   "outputs": [],
   "source": [
    "filters=\"\""
   ]
  },
  {
   "cell_type": "code",
   "execution_count": 434,
   "metadata": {},
   "outputs": [],
   "source": [
    "function=\"\""
   ]
  },
  {
   "cell_type": "code",
   "execution_count": 435,
   "metadata": {},
   "outputs": [],
   "source": [
    "record={'CLASS':className, 'URL':url, 'QUERY':query, 'HIERARCHY':hierarchy, 'PROPERTIES':properties,\n",
    "        'OPTION':option,'OPTION_TEXT':option_text,'TYPE':rowType, 'CLASSES':classes, 'PARAMETERS':parameters, 'FILTERS':filters, 'TOOLTIP':tooltip,\n",
    "       'FUNCTION':function}"
   ]
  },
  {
   "cell_type": "code",
   "execution_count": 436,
   "metadata": {},
   "outputs": [],
   "source": [
    "df_record=pd.DataFrame([record])"
   ]
  },
  {
   "cell_type": "code",
   "execution_count": 437,
   "metadata": {},
   "outputs": [],
   "source": [
    "df=pd.concat([df,df_record])"
   ]
  },
  {
   "cell_type": "markdown",
   "metadata": {},
   "source": [
    "### WHO IS WHO - EURUN SUBORGANIZATIONS country as property"
   ]
  },
  {
   "cell_type": "code",
   "execution_count": 458,
   "metadata": {},
   "outputs": [],
   "source": [
    "#df=df[df[\"OPTION\"]!=\"WHOISWHO EURUN Suborganizations\"]"
   ]
  },
  {
   "cell_type": "code",
   "execution_count": 459,
   "metadata": {},
   "outputs": [],
   "source": [
    "url=\"https://publications.europa.eu/webapi/rdf/sparql\""
   ]
  },
  {
   "cell_type": "code",
   "execution_count": 460,
   "metadata": {},
   "outputs": [],
   "source": [
    "className=\"eurun\""
   ]
  },
  {
   "cell_type": "code",
   "execution_count": 461,
   "metadata": {},
   "outputs": [],
   "source": [
    "hierarchy=\"eurun-corporateBody\""
   ]
  },
  {
   "cell_type": "code",
   "execution_count": 462,
   "metadata": {},
   "outputs": [],
   "source": [
    "classes=\"eurun-European Union;corporateBody-corporateBody\""
   ]
  },
  {
   "cell_type": "code",
   "execution_count": 463,
   "metadata": {},
   "outputs": [],
   "source": [
    "properties=\"eurun-eurun_uri;eurun-eurun_image;corporateBody-corporateBody_uri;corporateBody-corporateBody_image;corporateBody-corporateBody_countryUri;corporateBody-corporateBody_country;corporateBody-corporateBody_locationUri;corporateBody-corporateBody_location\"\n"
   ]
  },
  {
   "cell_type": "code",
   "execution_count": 464,
   "metadata": {},
   "outputs": [],
   "source": [
    "tooltip=\"corporateBody_country-Country;corporateBody_location-Location\""
   ]
  },
  {
   "cell_type": "code",
   "execution_count": 465,
   "metadata": {},
   "outputs": [],
   "source": [
    "filters=\"corporateBody_country-dropdown;corporateBody_location-dropdown\""
   ]
  },
  {
   "cell_type": "code",
   "execution_count": 466,
   "metadata": {},
   "outputs": [],
   "source": [
    "option=\"WHOISWHO EURUN Suborganizations\""
   ]
  },
  {
   "cell_type": "code",
   "execution_count": 467,
   "metadata": {},
   "outputs": [],
   "source": [
    "option_text=\"WHOISWHO EURUN Suborganizations\""
   ]
  },
  {
   "cell_type": "code",
   "execution_count": 468,
   "metadata": {},
   "outputs": [],
   "source": [
    "query=\"\"\"\n",
    "    PREFIX xsd: <http://www.w3.org/2001/XMLSchema#> \n",
    "    PREFIX skos: <http://www.w3.org/2004/02/skos/core#>\n",
    "    PREFIX org: <http://www.w3.org/ns/org#>\n",
    "    PREFIX geo: <http://www.w3.org/2003/01/geo/wgs84_pos#>\n",
    "    PREFIX geosparql: <http://www.opengis.net/ont/geosparql#>\n",
    "    PREFIX foaf: <http://xmlns.com/foaf/0.1/>\n",
    "    PREFIX rdf: <http://www.w3.org/1999/02/22-rdf-syntax-ns#>\n",
    "            SELECT DISTINCT ?eurun ?eurun_uri ?eurun_image ?corporateBody ?corporateBody_uri ?corporateBody_image ?corporateBody_country ?corporateBody_countryUri ?corporateBody_location ?corporateBody_locationUri   \n",
    "            where {{?eurun_uri org:hasSubOrganization ?corporateBody_uri;\n",
    "                           skos:prefLabel ?eurun;\n",
    "                           foaf:depiction ?eurun_image.\n",
    "                    ?corporateBody_uri skos:prefLabel ?corporateBody;\n",
    "                       foaf:depiction ?corporateBody_image;\n",
    "                       geo:location ?corporateBody_locationUri.\n",
    "                    ?corporateBody_locationUri skos:prefLabel ?corporateBody_location;\n",
    "                              geosparql:sfWithin ?corporateBody_countryUri.\n",
    "                    ?corporateBody_countryUri skos:prefLabel ?corporateBody_country          \n",
    "                    } \n",
    "                   filter(?eurun_uri=<http://publications.europa.eu/resource/authority/corporate-body/EURUN>).\n",
    "                   FILTER(langMatches(lang(?eurun), \"en\")).\n",
    "                   FILTER(langMatches(lang(?corporateBody), \"en\")).\n",
    "                   FILTER(langMatches(lang(?corporateBody_location), \"en\")).\n",
    "                   FILTER(langMatches(lang(?corporateBody_country), \"en\")).\n",
    "                   }ORDER BY ?eurun ?corporateBody\n",
    "                   #LIMIT 50\n",
    "    \"\"\""
   ]
  },
  {
   "cell_type": "code",
   "execution_count": 469,
   "metadata": {},
   "outputs": [],
   "source": [
    "rowType=\"TREE\""
   ]
  },
  {
   "cell_type": "code",
   "execution_count": 470,
   "metadata": {},
   "outputs": [],
   "source": [
    "parameters=\"\""
   ]
  },
  {
   "cell_type": "code",
   "execution_count": 471,
   "metadata": {},
   "outputs": [],
   "source": [
    "function=\"\""
   ]
  },
  {
   "cell_type": "code",
   "execution_count": 472,
   "metadata": {},
   "outputs": [],
   "source": [
    "record={'CLASS':className, 'URL':url, 'QUERY':query, 'HIERARCHY':hierarchy, 'PROPERTIES':properties,\n",
    "        'OPTION':option,'OPTION_TEXT':option_text,'TYPE':rowType, 'CLASSES':classes, 'PARAMETERS':parameters, 'FILTERS':filters, 'TOOLTIP':tooltip,\n",
    "       'FUNCTION':function}"
   ]
  },
  {
   "cell_type": "code",
   "execution_count": 473,
   "metadata": {},
   "outputs": [],
   "source": [
    "df_record=pd.DataFrame([record])"
   ]
  },
  {
   "cell_type": "code",
   "execution_count": 474,
   "metadata": {},
   "outputs": [],
   "source": [
    "df=pd.concat([df,df_record])"
   ]
  },
  {
   "cell_type": "markdown",
   "metadata": {},
   "source": [
    "### WHO IS WHO - ORGANIZATIONS SUBORGANIZATIONS country as property"
   ]
  },
  {
   "cell_type": "code",
   "execution_count": 477,
   "metadata": {},
   "outputs": [],
   "source": [
    "#df=df[df[\"OPTION\"]!=\"WHOISWHO Suborganizations\"]"
   ]
  },
  {
   "cell_type": "code",
   "execution_count": 478,
   "metadata": {},
   "outputs": [],
   "source": [
    "url=\"https://publications.europa.eu/webapi/rdf/sparql\""
   ]
  },
  {
   "cell_type": "code",
   "execution_count": 479,
   "metadata": {},
   "outputs": [],
   "source": [
    "className=\"corporateBody\""
   ]
  },
  {
   "cell_type": "code",
   "execution_count": 480,
   "metadata": {},
   "outputs": [],
   "source": [
    "hierarchy=\"corporateBody-directoryOrg\""
   ]
  },
  {
   "cell_type": "code",
   "execution_count": 481,
   "metadata": {},
   "outputs": [],
   "source": [
    "properties=\"directoryOrg-directoryOrg_uri;directoryOrg-directoryOrg_order;directoryOrg-directoryOrg_protocolLevel;directoryOrg-directoryOrg_email;directoryOrg-directoryOrg_telephone;directoryOrg-directoryOrg_locality;directoryOrg-directoryOrg_postalCode;directoryOrg-directoryOrg_streetAddress;directoryOrg-directoryOrg_homepage\"\n"
   ]
  },
  {
   "cell_type": "code",
   "execution_count": 482,
   "metadata": {},
   "outputs": [],
   "source": [
    "option=\"WHOISWHO Suborganizations\""
   ]
  },
  {
   "cell_type": "code",
   "execution_count": 483,
   "metadata": {},
   "outputs": [],
   "source": [
    "option_text=\"WHOISWHO Suborganizations\""
   ]
  },
  {
   "cell_type": "code",
   "execution_count": 484,
   "metadata": {},
   "outputs": [],
   "source": [
    "query=\"\"\"\n",
    "PREFIX xsd: <http://www.w3.org/2001/XMLSchema#> \n",
    "    PREFIX skos: <http://www.w3.org/2004/02/skos/core#>\n",
    "    PREFIX org: <http://www.w3.org/ns/org#>\n",
    "    PREFIX geo: <http://www.w3.org/2003/01/geo/wgs84_pos#>\n",
    "    PREFIX geosparql: <http://www.opengis.net/ont/geosparql#>\n",
    "    PREFIX foaf: <http://xmlns.com/foaf/0.1/>\n",
    "    PREFIX euvoc: <http://publications.europa.eu/ontology/euvoc#>\n",
    "    PREFIX vcard: <http://www.w3.org/2006/vcard/ns#>\n",
    "            SELECT DISTINCT ?corporateBody ?directoryOrg ?directoryOrg_uri ?directoryOrg_order ?directoryOrg_protocolLevel ?directoryOrg_email ?directoryOrg_telephone ?directoryOrg_locality ?directoryOrg_postalCode ?directoryOrg_streetAddress ?directoryOrg_homepage\n",
    "            where {{?corporateBody_uri skos:prefLabel ?corporateBody.\n",
    "                    ?corporateBody_uri org:hasSubOrganization ?directoryOrg_uri. \n",
    "                    ?directoryOrg_uri skos:prefLabel ?directoryOrg.\n",
    "                    OPTIONAL {\n",
    "                    ?directoryOrg_uri euvoc:order ?directoryOrg_order.\n",
    "                    }\n",
    "                    OPTIONAL {\n",
    "                    ?directoryOrg_uri euvoc:protocolLevel ?directoryOrg_protocolLevel.\n",
    "                    }\n",
    "                    #OPTIONAL {\n",
    "                    #?directoryOrg_uri euvoc:contactPoint ?directoryOrg_contactPoint.\n",
    "                    #}\n",
    "                    #OPTIONAL {\n",
    "                    #?directoryOrg_contactPoint vcard:hasEmail ?directoryOrg_email.\n",
    "                    #}\n",
    "                    #OPTIONAL {\n",
    "                    #?directoryOrg_contactPoint vcard:hasTelephone ?directoryOrg_telephoneBN.\n",
    "                    #}\n",
    "                    #OPTIONAL {\n",
    "                    #?directoryOrg_contactPoint vcard:locality ?directoryOrg_locality.\n",
    "                    #}\n",
    "                    #OPTIONAL {\n",
    "                    #?directoryOrg_contactPoint vcard:postal-code ?directoryOrg_postalCode.\n",
    "                    #}\n",
    "                    #OPTIONAL {\n",
    "                    #?directoryOrg_contactPoint vcard:street-address ?directoryOrg_streetAddress.\n",
    "                    #}\n",
    "                    #OPTIONAL {\n",
    "                    #?directoryOrg_contactPoint foaf:homepage ?directoryOrg_homepage.\n",
    "                    #}\n",
    "                    #OPTIONAL {\n",
    "                    #?directoryOrg_telephoneBN vcard:hasValue ?directoryOrg_telephone.  \n",
    "                    #}\n",
    "                    } \n",
    "                   filter(?corporateBody_uri=<PARAMETER>).\n",
    "                   FILTER(langMatches(lang(?directoryOrg), \"en\")).\n",
    "                   FILTER(langMatches(lang(?corporateBody), \"en\")).\n",
    "                   }\n",
    "                   #ORDER BY ?whoiswhoOrg ?country ?location\n",
    "                   #LIMIT 50\n",
    "    \"\"\""
   ]
  },
  {
   "cell_type": "code",
   "execution_count": 485,
   "metadata": {},
   "outputs": [],
   "source": [
    "rowType=\"TREE\""
   ]
  },
  {
   "cell_type": "code",
   "execution_count": 486,
   "metadata": {},
   "outputs": [],
   "source": [
    "classes=\"corporateBody-corporateBody;directoryOrg-Directory Organization\""
   ]
  },
  {
   "cell_type": "code",
   "execution_count": 487,
   "metadata": {},
   "outputs": [],
   "source": [
    "parameters=\"\""
   ]
  },
  {
   "cell_type": "code",
   "execution_count": 488,
   "metadata": {},
   "outputs": [],
   "source": [
    "tooltip=\"\""
   ]
  },
  {
   "cell_type": "code",
   "execution_count": 489,
   "metadata": {},
   "outputs": [],
   "source": [
    "filters=\"\""
   ]
  },
  {
   "cell_type": "code",
   "execution_count": 490,
   "metadata": {},
   "outputs": [],
   "source": [
    "function=\"\""
   ]
  },
  {
   "cell_type": "code",
   "execution_count": 491,
   "metadata": {},
   "outputs": [],
   "source": [
    "record={'CLASS':className, 'URL':url, 'QUERY':query, 'HIERARCHY':hierarchy, 'PROPERTIES':properties,\n",
    "        'OPTION':option,'OPTION_TEXT':option_text,'TYPE':rowType, 'CLASSES':classes, 'PARAMETERS':parameters, 'FILTERS':filters, 'TOOLTIP':tooltip,\n",
    "       'FUNCTION':function}"
   ]
  },
  {
   "cell_type": "code",
   "execution_count": 492,
   "metadata": {},
   "outputs": [],
   "source": [
    "df_record=pd.DataFrame([record])"
   ]
  },
  {
   "cell_type": "code",
   "execution_count": 493,
   "metadata": {},
   "outputs": [],
   "source": [
    "df=pd.concat([df,df_record])"
   ]
  },
  {
   "cell_type": "code",
   "execution_count": 171,
   "metadata": {},
   "outputs": [],
   "source": [
    "#df=df[df[\"OPTION\"]!=\"WHOISWHO Suborganizations\"]"
   ]
  },
  {
   "cell_type": "markdown",
   "metadata": {},
   "source": [
    "### WHO IS WHO - Membership type in organization"
   ]
  },
  {
   "cell_type": "code",
   "execution_count": 502,
   "metadata": {},
   "outputs": [],
   "source": [
    "#df=df[df[\"OPTION\"]!=\"WHOISWHO Membership\"]"
   ]
  },
  {
   "cell_type": "code",
   "execution_count": 503,
   "metadata": {},
   "outputs": [],
   "source": [
    "url=\"https://publications.europa.eu/webapi/rdf/sparql\""
   ]
  },
  {
   "cell_type": "code",
   "execution_count": 504,
   "metadata": {},
   "outputs": [],
   "source": [
    "className=\"Directory Organization\""
   ]
  },
  {
   "cell_type": "code",
   "execution_count": 505,
   "metadata": {},
   "outputs": [],
   "source": [
    "hierarchy=\"directoryOrg-membership\""
   ]
  },
  {
   "cell_type": "code",
   "execution_count": 506,
   "metadata": {},
   "outputs": [],
   "source": [
    "properties=\"membership-membership_directoryOrg\""
   ]
  },
  {
   "cell_type": "code",
   "execution_count": 507,
   "metadata": {},
   "outputs": [],
   "source": [
    "option=\"WHOISWHO Membership\""
   ]
  },
  {
   "cell_type": "code",
   "execution_count": 508,
   "metadata": {},
   "outputs": [],
   "source": [
    "option_text=\"WHOISWHO Membership\""
   ]
  },
  {
   "cell_type": "code",
   "execution_count": 509,
   "metadata": {},
   "outputs": [],
   "source": [
    "query=\"\"\"\n",
    "PREFIX xsd: <http://www.w3.org/2001/XMLSchema#> \n",
    "    PREFIX skos: <http://www.w3.org/2004/02/skos/core#>\n",
    "    PREFIX org: <http://www.w3.org/ns/org#>\n",
    "    PREFIX euvoc: <http://publications.europa.eu/ontology/euvoc#>\n",
    "            SELECT DISTINCT ?directoryOrg ?membership ?directoryOrg_uri AS ?membership_directoryOrg\n",
    "            where {{?membership_uri org:organization ?directoryOrg_uri;\n",
    "                                    euvoc:order ?membership_order;\n",
    "                                    euvoc:positionComplement ?membership.\n",
    "                    ?directoryOrg_uri skos:prefLabel ?directoryOrg.\n",
    "                    } \n",
    "                   filter(?directoryOrg_uri=<PARAMETER>).\n",
    "                   FILTER(langMatches(lang(?membership), \"en\")).\n",
    "                   FILTER(langMatches(lang(?directoryOrg), \"en\")).\n",
    "                   }GROUP BY ?membership\n",
    "    \"\"\""
   ]
  },
  {
   "cell_type": "code",
   "execution_count": 510,
   "metadata": {},
   "outputs": [],
   "source": [
    "rowType=\"TREE\""
   ]
  },
  {
   "cell_type": "code",
   "execution_count": 511,
   "metadata": {},
   "outputs": [],
   "source": [
    "classes=\"directoryOrg-Directory Organization;membership-Membership Type\""
   ]
  },
  {
   "cell_type": "code",
   "execution_count": 512,
   "metadata": {},
   "outputs": [],
   "source": [
    "parameters=\"\""
   ]
  },
  {
   "cell_type": "code",
   "execution_count": 513,
   "metadata": {},
   "outputs": [],
   "source": [
    "tooltip=\"\""
   ]
  },
  {
   "cell_type": "code",
   "execution_count": 514,
   "metadata": {},
   "outputs": [],
   "source": [
    "filters=\"\""
   ]
  },
  {
   "cell_type": "code",
   "execution_count": 515,
   "metadata": {},
   "outputs": [],
   "source": [
    "function=\"\""
   ]
  },
  {
   "cell_type": "code",
   "execution_count": 516,
   "metadata": {},
   "outputs": [],
   "source": [
    "record={'CLASS':className, 'URL':url, 'QUERY':query, 'HIERARCHY':hierarchy, 'PROPERTIES':properties,\n",
    "        'OPTION':option,'OPTION_TEXT':option_text,'TYPE':rowType, 'CLASSES':classes, 'PARAMETERS':parameters, 'FILTERS':filters, 'TOOLTIP':tooltip,\n",
    "       'FUNCTION':function}"
   ]
  },
  {
   "cell_type": "code",
   "execution_count": 517,
   "metadata": {},
   "outputs": [],
   "source": [
    "df_record=pd.DataFrame([record])"
   ]
  },
  {
   "cell_type": "code",
   "execution_count": 518,
   "metadata": {},
   "outputs": [],
   "source": [
    "df=pd.concat([df,df_record])"
   ]
  },
  {
   "cell_type": "markdown",
   "metadata": {},
   "source": [
    "### WHO IS WHO - Membership by membership type"
   ]
  },
  {
   "cell_type": "code",
   "execution_count": 520,
   "metadata": {},
   "outputs": [],
   "source": [
    "#df=df[df[\"OPTION\"]!=\"WHOISWHO Membership Type\"]"
   ]
  },
  {
   "cell_type": "code",
   "execution_count": 198,
   "metadata": {},
   "outputs": [],
   "source": [
    "#df[\"PARAMETERS\"]=\"\""
   ]
  },
  {
   "cell_type": "code",
   "execution_count": 521,
   "metadata": {},
   "outputs": [],
   "source": [
    "url=\"https://publications.europa.eu/webapi/rdf/sparql\""
   ]
  },
  {
   "cell_type": "code",
   "execution_count": 522,
   "metadata": {},
   "outputs": [],
   "source": [
    "className=\"Membership Type\""
   ]
  },
  {
   "cell_type": "code",
   "execution_count": 523,
   "metadata": {},
   "outputs": [],
   "source": [
    "hierarchy=\"membership-person\""
   ]
  },
  {
   "cell_type": "code",
   "execution_count": 524,
   "metadata": {},
   "outputs": [],
   "source": [
    "classes=\"membership-Membership Type;person-Person\""
   ]
  },
  {
   "cell_type": "code",
   "execution_count": 525,
   "metadata": {},
   "outputs": [],
   "source": [
    "properties=\"membership-membership_uri;membership-membership_startDate;membership-membership_endDate;membership-membership_order;membership-membership_positionStatusUri;membership-membership_positionStatus;person-person_uri;person-person_gender;person-person_genderUri;person-person_citiz;person-person_image;person-person_id\"\n"
   ]
  },
  {
   "cell_type": "code",
   "execution_count": 526,
   "metadata": {},
   "outputs": [],
   "source": [
    "parameters=\"membership_directoryOrg\""
   ]
  },
  {
   "cell_type": "code",
   "execution_count": 527,
   "metadata": {},
   "outputs": [],
   "source": [
    "option=\"WHOISWHO Membership Type\""
   ]
  },
  {
   "cell_type": "code",
   "execution_count": 528,
   "metadata": {},
   "outputs": [],
   "source": [
    "option_text=\"WHOISWHO Membership Type\""
   ]
  },
  {
   "cell_type": "code",
   "execution_count": 529,
   "metadata": {},
   "outputs": [],
   "source": [
    "query=\"\"\"\n",
    "PREFIX xsd: <http://www.w3.org/2001/XMLSchema#> \n",
    "    PREFIX skos: <http://www.w3.org/2004/02/skos/core#>\n",
    "    PREFIX org: <http://www.w3.org/ns/org#>\n",
    "    PREFIX euvoc: <http://publications.europa.eu/ontology/euvoc#>\n",
    "    PREFIX foaf: <http://xmlns.com/foaf/0.1/>\n",
    "    PREFIX resource: <http://publications.europa.eu/resource/>\n",
    "            SELECT DISTINCT ?membership ?membership_uri ?membership_startDate ?membership_endDate ?membership_order ?membership_positionStatusUri ?membership_positionStatus ?person ?person_uri ?person_id ?person_image ?person_citiz ?person_gender ?person_genderUri\n",
    "            where {{?membership_uri org:organization ?directoryOrg_uri;\n",
    "                       euvoc:startDate ?membership_startDate;\n",
    "                       euvoc:endDate ?membership_endDate;\n",
    "                       euvoc:order ?membership_order;\n",
    "                       euvoc:positionComplement ?membership;\n",
    "                       euvoc:positionStatus ?membership_positionStatusUri.\n",
    "                       #euvoc:roleQualification ?roleQualification_uri;\n",
    "                       #euvoc:contactPoint ?contactPoint.\n",
    "                    ?directoryOrg_uri skos:prefLabel ?directoryOrg.\n",
    "                    ?membership_positionStatusUri skos:prefLabel ?membership_positionStatus.\n",
    "                    ?person_uri org:hasMembership ?membership_uri;\n",
    "                    #            vcard:hasGender ?person_genderUri;\n",
    "                                foaf:name ?person.\n",
    "                    #?person_genderUri skos:prefLabel ?person_gender.\n",
    "                    OPTIONAL{\n",
    "                        ?person_uri foaf:img ?person_image;\n",
    "                                    resource:personcitizenship ?person_citizUri.\n",
    "                        ?person_citizUri skos:prefLabel ?person_citiz.\n",
    "                        FILTER(langMatches(lang(?person_citiz), \"en\")).\n",
    "                        BIND (STRBEFORE(STRAFTER( STR(?person_image), \"https://www.europarl.europa.eu/mepphoto/\" ), \".jpg\" ) AS ?person_id)\n",
    "                        #BIND (regex(STR(?person_img), \"^https\", \"i\") AS ?str_event)\n",
    "                    }\n",
    "                    } \n",
    "                   FILTER(STR(?membership)=\"PARAMETER\").\n",
    "                   filter(?directoryOrg_uri=<PARAMETER2>).\n",
    "                   FILTER(langMatches(lang(?membership), \"en\")).\n",
    "                   FILTER(langMatches(lang(?membership_positionStatus), \"en\")).\n",
    "                   FILTER(langMatches(lang(?directoryOrg), \"en\")).\n",
    "                   #FILTER(langMatches(lang(?person_gender), \"en\")).\n",
    "                   }ORDER BY ?membership_order ?person\n",
    "\"\"\""
   ]
  },
  {
   "cell_type": "code",
   "execution_count": 530,
   "metadata": {},
   "outputs": [],
   "source": [
    "rowType=\"TREE\""
   ]
  },
  {
   "cell_type": "code",
   "execution_count": 531,
   "metadata": {},
   "outputs": [],
   "source": [
    "tooltip=\"\""
   ]
  },
  {
   "cell_type": "code",
   "execution_count": 532,
   "metadata": {},
   "outputs": [],
   "source": [
    "filters=\"\""
   ]
  },
  {
   "cell_type": "code",
   "execution_count": 533,
   "metadata": {},
   "outputs": [],
   "source": [
    "function=\"\""
   ]
  },
  {
   "cell_type": "code",
   "execution_count": 534,
   "metadata": {},
   "outputs": [],
   "source": [
    "record={'CLASS':className, 'URL':url, 'QUERY':query, 'HIERARCHY':hierarchy, 'PROPERTIES':properties,\n",
    "        'OPTION':option,'OPTION_TEXT':option_text,'TYPE':rowType, 'CLASSES':classes, 'PARAMETERS':parameters, 'FILTERS':filters, 'TOOLTIP':tooltip,\n",
    "       'FUNCTION':function}"
   ]
  },
  {
   "cell_type": "code",
   "execution_count": 535,
   "metadata": {},
   "outputs": [],
   "source": [
    "df_record=pd.DataFrame([record])"
   ]
  },
  {
   "cell_type": "code",
   "execution_count": 536,
   "metadata": {},
   "outputs": [],
   "source": [
    "df=pd.concat([df,df_record])"
   ]
  },
  {
   "cell_type": "markdown",
   "metadata": {},
   "source": [
    "### WHO IS WHO - Wikipedia page person"
   ]
  },
  {
   "cell_type": "code",
   "execution_count": 539,
   "metadata": {},
   "outputs": [],
   "source": [
    "#df=df[df[\"OPTION\"]!=\"WHOISWHO Wikipedia page\"]"
   ]
  },
  {
   "cell_type": "code",
   "execution_count": 540,
   "metadata": {},
   "outputs": [],
   "source": [
    "url=\"https://query.wikidata.org/sparql\""
   ]
  },
  {
   "cell_type": "code",
   "execution_count": 541,
   "metadata": {},
   "outputs": [],
   "source": [
    "className=\"Person\""
   ]
  },
  {
   "cell_type": "code",
   "execution_count": 542,
   "metadata": {},
   "outputs": [],
   "source": [
    "hierarchy=\"person-article\""
   ]
  },
  {
   "cell_type": "code",
   "execution_count": 543,
   "metadata": {},
   "outputs": [],
   "source": [
    "classes=\"article-Wikipedia Article\""
   ]
  },
  {
   "cell_type": "code",
   "execution_count": 544,
   "metadata": {},
   "outputs": [],
   "source": [
    "parameters=\"person_id\""
   ]
  },
  {
   "cell_type": "code",
   "execution_count": 545,
   "metadata": {},
   "outputs": [],
   "source": [
    "properties=\"article\"\n"
   ]
  },
  {
   "cell_type": "code",
   "execution_count": 546,
   "metadata": {},
   "outputs": [],
   "source": [
    "option=\"WHOISWHO Wikipedia page\""
   ]
  },
  {
   "cell_type": "code",
   "execution_count": 547,
   "metadata": {},
   "outputs": [],
   "source": [
    "option_text=\"WHOISWHO Wikipedia page\""
   ]
  },
  {
   "cell_type": "code",
   "execution_count": 548,
   "metadata": {},
   "outputs": [],
   "source": [
    "function=\"showWikipediaPage\""
   ]
  },
  {
   "cell_type": "code",
   "execution_count": 549,
   "metadata": {},
   "outputs": [],
   "source": [
    "query=\"\"\"\n",
    "    PREFIX xsd: <http://www.w3.org/2001/XMLSchema#> \n",
    "    PREFIX skos: <http://www.w3.org/2004/02/skos/core#>\n",
    "    PREFIX org: <http://www.w3.org/ns/org#>\n",
    "            SELECT DISTINCT ?s ?article #?label\n",
    "            where {{?s <http://www.wikidata.org/prop/direct/P1186> 'PARAMETER2'.\n",
    "                    ?article schema:about ?s .\n",
    "                    ?article schema:inLanguage \"en\" .\n",
    "                    ?article schema:isPartOf <https://en.wikipedia.org/> .\n",
    "                    } \n",
    "                   }\n",
    "    \"\"\""
   ]
  },
  {
   "cell_type": "code",
   "execution_count": 550,
   "metadata": {},
   "outputs": [],
   "source": [
    "rowType=\"WEBPAGE\""
   ]
  },
  {
   "cell_type": "code",
   "execution_count": 551,
   "metadata": {},
   "outputs": [],
   "source": [
    "tooltip=\"\""
   ]
  },
  {
   "cell_type": "code",
   "execution_count": 552,
   "metadata": {},
   "outputs": [],
   "source": [
    "filters=\"\""
   ]
  },
  {
   "cell_type": "code",
   "execution_count": 553,
   "metadata": {},
   "outputs": [],
   "source": [
    "record={'CLASS':className, 'URL':url, 'QUERY':query, 'HIERARCHY':hierarchy, 'PROPERTIES':properties,\n",
    "        'OPTION':option,'OPTION_TEXT':option_text,'TYPE':rowType, 'CLASSES':classes, 'PARAMETERS':parameters, 'FILTERS':filters, 'TOOLTIP':tooltip,\n",
    "       'FUNCTION':function}"
   ]
  },
  {
   "cell_type": "code",
   "execution_count": 554,
   "metadata": {},
   "outputs": [],
   "source": [
    "df_record=pd.DataFrame([record])"
   ]
  },
  {
   "cell_type": "code",
   "execution_count": 555,
   "metadata": {},
   "outputs": [],
   "source": [
    "df=pd.concat([df,df_record])"
   ]
  },
  {
   "cell_type": "code",
   "execution_count": 47,
   "metadata": {},
   "outputs": [],
   "source": [
    "#df=df[df[\"CLASS\"]!=\"directoryOrg2\"]"
   ]
  },
  {
   "cell_type": "code",
   "execution_count": 43,
   "metadata": {},
   "outputs": [],
   "source": [
    "#df.loc[36, 'CLASS'] = \"Directory Organization\"\n",
    "#df.loc[36, 'CLASS'] = \"Membership\"\n",
    "#df.loc[36, 'HIERARCHY'] = \"membership-person\"\n",
    "#df.loc[36, 'CLASS'] = \"European Union\""
   ]
  },
  {
   "cell_type": "markdown",
   "metadata": {},
   "source": [
    "### PUBLICATIONS - Publications by OP Theme"
   ]
  },
  {
   "cell_type": "code",
   "execution_count": 558,
   "metadata": {},
   "outputs": [],
   "source": [
    "#df=df[df[\"OPTION\"]!=\"PUBLICATIONS - Publications by OP Theme\"]"
   ]
  },
  {
   "cell_type": "code",
   "execution_count": 559,
   "metadata": {},
   "outputs": [],
   "source": [
    "url=\"https://publications.europa.eu/webapi/rdf/sparql\""
   ]
  },
  {
   "cell_type": "code",
   "execution_count": 560,
   "metadata": {},
   "outputs": [],
   "source": [
    "className=\"opThemeMain\""
   ]
  },
  {
   "cell_type": "code",
   "execution_count": 561,
   "metadata": {},
   "outputs": [],
   "source": [
    "hierarchy=\"opThemeMain-opTheme\""
   ]
  },
  {
   "cell_type": "code",
   "execution_count": 562,
   "metadata": {},
   "outputs": [],
   "source": [
    "classes=\"opThemeMain-Publications Themes;opTheme-OP Theme\""
   ]
  },
  {
   "cell_type": "code",
   "execution_count": 563,
   "metadata": {},
   "outputs": [],
   "source": [
    "properties=\"opThemeMain-opThemeMain_uri;opTheme-opTheme_uri\""
   ]
  },
  {
   "cell_type": "code",
   "execution_count": 564,
   "metadata": {},
   "outputs": [],
   "source": [
    "option=\"PUBLICATIONS - Publications by OP Theme\""
   ]
  },
  {
   "cell_type": "code",
   "execution_count": 565,
   "metadata": {},
   "outputs": [],
   "source": [
    "option_text=\"PUBLICATIONS - Publications by OP Theme\""
   ]
  },
  {
   "cell_type": "code",
   "execution_count": 566,
   "metadata": {},
   "outputs": [],
   "source": [
    "query=\"\"\"\n",
    "    PREFIX xsd: <http://www.w3.org/2001/XMLSchema#> \n",
    "    PREFIX skos: <http://www.w3.org/2004/02/skos/core#>\n",
    "    PREFIX cdm: <http://publications.europa.eu/ontology/cdm#>\n",
    "    PREFIX rdf: <http://www.w3.org/1999/02/22-rdf-syntax-ns#>\n",
    "    PREFIX rdfs: <http://www.w3.org/2000/01/rdf-schema#>\n",
    "            SELECT DISTINCT ?opThemeMain ?opThemeMain_uri ?opTheme ?opTheme_uri\n",
    "            where {{?opTheme_uri rdf:type ?opThemeMain_uri;\n",
    "                       skos:prefLabel ?opTheme.\n",
    "                    ?opThemeMain_uri rdfs:label ?opThemeMain\n",
    "                    } \n",
    "                   filter(?opThemeMain_uri=<http://publications.europa.eu/ontology/cdm#concept_op_theme>)\n",
    "                   FILTER(langMatches(lang(?opTheme), \"en\")).\n",
    "                   filter not exists { \n",
    "                       ?opTheme_uri skos:broader ?broader\n",
    "                   }\n",
    "                   }ORDER BY ?opThemeMain ?opTheme\n",
    "                   #LIMIT 50\n",
    "    \"\"\""
   ]
  },
  {
   "cell_type": "code",
   "execution_count": 567,
   "metadata": {},
   "outputs": [],
   "source": [
    "rowType=\"TREE\""
   ]
  },
  {
   "cell_type": "code",
   "execution_count": 568,
   "metadata": {},
   "outputs": [],
   "source": [
    "parameters=\"\""
   ]
  },
  {
   "cell_type": "code",
   "execution_count": 569,
   "metadata": {},
   "outputs": [],
   "source": [
    "tooltip=\"\""
   ]
  },
  {
   "cell_type": "code",
   "execution_count": 570,
   "metadata": {},
   "outputs": [],
   "source": [
    "filters=\"\""
   ]
  },
  {
   "cell_type": "code",
   "execution_count": 571,
   "metadata": {},
   "outputs": [],
   "source": [
    "function=\"\""
   ]
  },
  {
   "cell_type": "code",
   "execution_count": 572,
   "metadata": {},
   "outputs": [],
   "source": [
    "record={'CLASS':className, 'URL':url, 'QUERY':query, 'HIERARCHY':hierarchy, 'PROPERTIES':properties,\n",
    "        'OPTION':option,'OPTION_TEXT':option_text,'TYPE':rowType, 'CLASSES':classes, 'PARAMETERS':parameters, 'FILTERS':filters, 'TOOLTIP':tooltip,\n",
    "       'FUNCTION':function}"
   ]
  },
  {
   "cell_type": "code",
   "execution_count": 573,
   "metadata": {},
   "outputs": [],
   "source": [
    "df_record=pd.DataFrame([record])"
   ]
  },
  {
   "cell_type": "code",
   "execution_count": 574,
   "metadata": {},
   "outputs": [],
   "source": [
    "df=pd.concat([df,df_record])"
   ]
  },
  {
   "cell_type": "markdown",
   "metadata": {},
   "source": [
    "### PUBLICATIONS - OP Themes children of OP Theme"
   ]
  },
  {
   "cell_type": "code",
   "execution_count": 578,
   "metadata": {},
   "outputs": [],
   "source": [
    "#df=df[df[\"OPTION\"]!=\"OP Themes children\"]"
   ]
  },
  {
   "cell_type": "code",
   "execution_count": 579,
   "metadata": {},
   "outputs": [],
   "source": [
    "url=\"https://publications.europa.eu/webapi/rdf/sparql\""
   ]
  },
  {
   "cell_type": "code",
   "execution_count": 580,
   "metadata": {},
   "outputs": [],
   "source": [
    "className=\"OP Theme\""
   ]
  },
  {
   "cell_type": "code",
   "execution_count": 581,
   "metadata": {},
   "outputs": [],
   "source": [
    "hierarchy=\"opThemeParent-opThemeChild\""
   ]
  },
  {
   "cell_type": "code",
   "execution_count": 582,
   "metadata": {},
   "outputs": [],
   "source": [
    "classes=\"opThemeParent-OP Theme;opThemeChild-OP Theme\""
   ]
  },
  {
   "cell_type": "code",
   "execution_count": 583,
   "metadata": {},
   "outputs": [],
   "source": [
    "properties=\"opThemeParent-opThemeParent_uri;opThemeChild-opThemeChild_uri\""
   ]
  },
  {
   "cell_type": "code",
   "execution_count": 584,
   "metadata": {},
   "outputs": [],
   "source": [
    "option=\"OP Themes children\""
   ]
  },
  {
   "cell_type": "code",
   "execution_count": 585,
   "metadata": {},
   "outputs": [],
   "source": [
    "option_text=\"OP Themes children\""
   ]
  },
  {
   "cell_type": "code",
   "execution_count": 586,
   "metadata": {},
   "outputs": [],
   "source": [
    "query=\"\"\"\n",
    "        PREFIX xsd: <http://www.w3.org/2001/XMLSchema#> \n",
    "        PREFIX skos: <http://www.w3.org/2004/02/skos/core#>\n",
    "        PREFIX cdm: <http://publications.europa.eu/ontology/cdm#>\n",
    "        SELECT DISTINCT ?opThemeParent ?opThemeParent_uri ?opThemeChild ?opThemeChild_uri\n",
    "        where {{?opThemeChild_uri skos:broader ?opThemeParent_uri;\n",
    "                   skos:prefLabel ?opThemeChild.\n",
    "                ?opThemeParent_uri skos:prefLabel ?opThemeParent.\n",
    "                } \n",
    "               filter(?opThemeParent_uri=<PARAMETER>)\n",
    "               FILTER(langMatches(lang(?opThemeParent), \"en\")).\n",
    "               FILTER(langMatches(lang(?opThemeChild), \"en\")).\n",
    "               }ORDER BY ?opThemeParent ?opThemeChild\n",
    "    \"\"\""
   ]
  },
  {
   "cell_type": "code",
   "execution_count": 587,
   "metadata": {},
   "outputs": [],
   "source": [
    "rowType=\"TREE\""
   ]
  },
  {
   "cell_type": "code",
   "execution_count": 588,
   "metadata": {},
   "outputs": [],
   "source": [
    "parameters=\"\""
   ]
  },
  {
   "cell_type": "code",
   "execution_count": 589,
   "metadata": {},
   "outputs": [],
   "source": [
    "tooltip=\"\""
   ]
  },
  {
   "cell_type": "code",
   "execution_count": 590,
   "metadata": {},
   "outputs": [],
   "source": [
    "filters=\"\""
   ]
  },
  {
   "cell_type": "code",
   "execution_count": 591,
   "metadata": {},
   "outputs": [],
   "source": [
    "function=\"\""
   ]
  },
  {
   "cell_type": "code",
   "execution_count": 592,
   "metadata": {},
   "outputs": [],
   "source": [
    "record={'CLASS':className, 'URL':url, 'QUERY':query, 'HIERARCHY':hierarchy, 'PROPERTIES':properties,\n",
    "        'OPTION':option,'OPTION_TEXT':option_text,'TYPE':rowType, 'CLASSES':classes, 'PARAMETERS':parameters, 'FILTERS':filters, 'TOOLTIP':tooltip,\n",
    "       'FUNCTION':function}"
   ]
  },
  {
   "cell_type": "code",
   "execution_count": 593,
   "metadata": {},
   "outputs": [],
   "source": [
    "df_record=pd.DataFrame([record])"
   ]
  },
  {
   "cell_type": "code",
   "execution_count": 594,
   "metadata": {},
   "outputs": [],
   "source": [
    "df=pd.concat([df,df_record])"
   ]
  },
  {
   "cell_type": "markdown",
   "metadata": {},
   "source": [
    "### PUBLICATIONS - OP Themes and Agents authored work"
   ]
  },
  {
   "cell_type": "code",
   "execution_count": 218,
   "metadata": {},
   "outputs": [],
   "source": [
    "df=df[df[\"OPTION\"]!=\"OP Themes and publication author\"]"
   ]
  },
  {
   "cell_type": "code",
   "execution_count": 219,
   "metadata": {},
   "outputs": [],
   "source": [
    "url=\"https://publications.europa.eu/webapi/rdf/sparql\""
   ]
  },
  {
   "cell_type": "code",
   "execution_count": 220,
   "metadata": {},
   "outputs": [],
   "source": [
    "className=\"OP Theme\""
   ]
  },
  {
   "cell_type": "code",
   "execution_count": 221,
   "metadata": {},
   "outputs": [],
   "source": [
    "hierarchy=\"opTheme-corporateBody\""
   ]
  },
  {
   "cell_type": "code",
   "execution_count": 222,
   "metadata": {},
   "outputs": [],
   "source": [
    "classes=\"opTheme-OP Theme;corporateBody-corporateBody\""
   ]
  },
  {
   "cell_type": "code",
   "execution_count": 223,
   "metadata": {},
   "outputs": [],
   "source": [
    "properties=\"opTheme-opTheme_uri;corporateBody-corporateBody_uri;corporateBody-corporateBody_opTheme\""
   ]
  },
  {
   "cell_type": "code",
   "execution_count": 224,
   "metadata": {},
   "outputs": [],
   "source": [
    "option=\"OP Themes and publication author\""
   ]
  },
  {
   "cell_type": "code",
   "execution_count": 225,
   "metadata": {},
   "outputs": [],
   "source": [
    "option_text=\"OP Themes and publication author\""
   ]
  },
  {
   "cell_type": "code",
   "execution_count": 226,
   "metadata": {},
   "outputs": [],
   "source": [
    "query=\"\"\"\n",
    "        PREFIX xsd: <http://www.w3.org/2001/XMLSchema#> \n",
    "        PREFIX skos: <http://www.w3.org/2004/02/skos/core#>\n",
    "        PREFIX cdm: <http://publications.europa.eu/ontology/cdm#>\n",
    "                SELECT DISTINCT ?opTheme ?opTheme_uri ?corporateBody ?corporateBody_uri ?opTheme_uri AS ?corporateBody_opTheme\n",
    "                where {{?publicationDocument_uri cdm:publication_general_is_about_concept_op_theme ?opTheme_uri;\n",
    "                           cdm:work_authored_by_agent ?corporateBody_uri.\n",
    "                        ?opTheme_uri skos:prefLabel ?opTheme.\n",
    "                        ?corporateBody_uri skos:prefLabel ?corporateBody.\n",
    "                        } \n",
    "                       filter(?opTheme_uri=<PARAMETER>)\n",
    "                       FILTER(langMatches(lang(?corporateBody), \"en\")).\n",
    "                       FILTER(langMatches(lang(?opTheme), \"en\")).\n",
    "                       }ORDER BY ?opTheme ?corporateBody\n",
    "    \"\"\""
   ]
  },
  {
   "cell_type": "code",
   "execution_count": 227,
   "metadata": {},
   "outputs": [],
   "source": [
    "rowType=\"TREE\""
   ]
  },
  {
   "cell_type": "code",
   "execution_count": 487,
   "metadata": {},
   "outputs": [],
   "source": [
    "parameters=\"\""
   ]
  },
  {
   "cell_type": "code",
   "execution_count": 488,
   "metadata": {},
   "outputs": [],
   "source": [
    "tooltip=\"\""
   ]
  },
  {
   "cell_type": "code",
   "execution_count": 489,
   "metadata": {},
   "outputs": [],
   "source": [
    "filters=\"\""
   ]
  },
  {
   "cell_type": "code",
   "execution_count": 490,
   "metadata": {},
   "outputs": [],
   "source": [
    "function=\"\""
   ]
  },
  {
   "cell_type": "code",
   "execution_count": 491,
   "metadata": {},
   "outputs": [],
   "source": [
    "record={'CLASS':className, 'URL':url, 'QUERY':query, 'HIERARCHY':hierarchy, 'PROPERTIES':properties,\n",
    "        'OPTION':option,'OPTION_TEXT':option_text,'TYPE':rowType, 'CLASSES':classes, 'PARAMETERS':parameters, 'FILTERS':filters, 'TOOLTIP':tooltip,\n",
    "       'FUNCTION':function}"
   ]
  },
  {
   "cell_type": "code",
   "execution_count": 229,
   "metadata": {},
   "outputs": [],
   "source": [
    "df_record=pd.DataFrame([record])"
   ]
  },
  {
   "cell_type": "code",
   "execution_count": 230,
   "metadata": {},
   "outputs": [],
   "source": [
    "df=pd.concat([df,df_record])"
   ]
  },
  {
   "cell_type": "markdown",
   "metadata": {},
   "source": [
    "### Publications by Corporate Body"
   ]
  },
  {
   "cell_type": "code",
   "execution_count": 50,
   "metadata": {},
   "outputs": [],
   "source": [
    "#df=df[df[\"OPTION\"]!=\"Publications by CorporateBody\"]"
   ]
  },
  {
   "cell_type": "code",
   "execution_count": 51,
   "metadata": {},
   "outputs": [],
   "source": [
    "url=\"https://publications.europa.eu/webapi/rdf/sparql\""
   ]
  },
  {
   "cell_type": "code",
   "execution_count": 52,
   "metadata": {},
   "outputs": [],
   "source": [
    "className=\"corporateBody\""
   ]
  },
  {
   "cell_type": "code",
   "execution_count": 53,
   "metadata": {},
   "outputs": [],
   "source": [
    "hierarchy=\"corporateBody-publicationDocument\""
   ]
  },
  {
   "cell_type": "code",
   "execution_count": 54,
   "metadata": {},
   "outputs": [],
   "source": [
    "classes=\"corporateBody-corporateBody;publicationDocument-Publication Document\""
   ]
  },
  {
   "cell_type": "code",
   "execution_count": 55,
   "metadata": {},
   "outputs": [],
   "source": [
    "properties=\"corporateBody-corporateBody_uri;publicationDocument-publicationDocument_uri;publicationDocument-publicationDocument_date\""
   ]
  },
  {
   "cell_type": "code",
   "execution_count": 56,
   "metadata": {},
   "outputs": [],
   "source": [
    "option=\"Publications by CorporateBody\""
   ]
  },
  {
   "cell_type": "code",
   "execution_count": 57,
   "metadata": {},
   "outputs": [],
   "source": [
    "option_text=\"Publications by CorporateBody\""
   ]
  },
  {
   "cell_type": "code",
   "execution_count": 58,
   "metadata": {},
   "outputs": [],
   "source": [
    "parameters=\"corporateBody_opTheme\""
   ]
  },
  {
   "cell_type": "code",
   "execution_count": 59,
   "metadata": {},
   "outputs": [],
   "source": [
    "query=\"\"\"\n",
    "PREFIX xsd: <http://www.w3.org/2001/XMLSchema#> \n",
    "    PREFIX skos: <http://www.w3.org/2004/02/skos/core#>\n",
    "    PREFIX cdm: <http://publications.europa.eu/ontology/cdm#>\n",
    "            SELECT DISTINCT ?corporateBody ?corporateBody_uri ?publicationDocument ?publicationDocument_uri ?publicationDocument_documentUri ?publicationDocument_date\n",
    "            where {{?publicationDocument_documentUri cdm:publication_general_is_about_concept_op_theme ?opTheme_uri;\n",
    "                       cdm:work_authored_by_agent ?corporateBody_uri.\n",
    "                    ?opTheme_uri skos:prefLabel ?opTheme.\n",
    "                    ?corporateBody_uri skos:prefLabel ?corporateBody.\n",
    "                    ?publicationDocument_documentUri cdm:work_date_document ?publicationDocument_date.\n",
    "                    ?publicationDocument_uri cdm:expression_belongs_to_work ?publicationDocument_documentUri;\n",
    "                       cdm:expression_uses_language ?expression_languageUri;\n",
    "                       cdm:expression_title ?publicationDocument.\n",
    "                    ?expression_languageUri skos:prefLabel ?expression_language.\n",
    "                    } \n",
    "                   filter(?opTheme_uri=<PARAMETER2>)\n",
    "                   filter(?corporateBody_uri=<PARAMETER>)\n",
    "                   FILTER(langMatches(lang(?corporateBody), \"en\")).\n",
    "                   FILTER(langMatches(lang(?opTheme), \"en\")).\n",
    "                   FILTER(langMatches(lang(?expression_language), \"en\")).\n",
    "                   }ORDER BY ?corporateBody ?publicationDocument\n",
    "    \"\"\""
   ]
  },
  {
   "cell_type": "code",
   "execution_count": 60,
   "metadata": {},
   "outputs": [],
   "source": [
    "rowType=\"TREE\""
   ]
  },
  {
   "cell_type": "code",
   "execution_count": 61,
   "metadata": {},
   "outputs": [],
   "source": [
    "tooltip=\"\""
   ]
  },
  {
   "cell_type": "code",
   "execution_count": 62,
   "metadata": {},
   "outputs": [],
   "source": [
    "filters=\"\""
   ]
  },
  {
   "cell_type": "code",
   "execution_count": 63,
   "metadata": {},
   "outputs": [],
   "source": [
    "function=\"\""
   ]
  },
  {
   "cell_type": "code",
   "execution_count": 64,
   "metadata": {},
   "outputs": [],
   "source": [
    "record={'CLASS':className, 'URL':url, 'QUERY':query, 'HIERARCHY':hierarchy, 'PROPERTIES':properties,\n",
    "        'OPTION':option,'OPTION_TEXT':option_text,'TYPE':rowType, 'CLASSES':classes, 'PARAMETERS':parameters, 'FILTERS':filters, 'TOOLTIP':tooltip,\n",
    "       'FUNCTION':function}"
   ]
  },
  {
   "cell_type": "code",
   "execution_count": 65,
   "metadata": {},
   "outputs": [],
   "source": [
    "df_record=pd.DataFrame([record])"
   ]
  },
  {
   "cell_type": "code",
   "execution_count": 66,
   "metadata": {},
   "outputs": [],
   "source": [
    "df=pd.concat([df,df_record])"
   ]
  },
  {
   "cell_type": "code",
   "execution_count": 67,
   "metadata": {},
   "outputs": [],
   "source": [
    "#df=df[df[\"CLASS\"]!=\"Publication Expression\"]"
   ]
  },
  {
   "cell_type": "code",
   "execution_count": 68,
   "metadata": {},
   "outputs": [
    {
     "data": {
      "text/html": [
       "<div>\n",
       "<style scoped>\n",
       "    .dataframe tbody tr th:only-of-type {\n",
       "        vertical-align: middle;\n",
       "    }\n",
       "\n",
       "    .dataframe tbody tr th {\n",
       "        vertical-align: top;\n",
       "    }\n",
       "\n",
       "    .dataframe thead th {\n",
       "        text-align: right;\n",
       "    }\n",
       "</style>\n",
       "<table border=\"1\" class=\"dataframe\">\n",
       "  <thead>\n",
       "    <tr style=\"text-align: right;\">\n",
       "      <th></th>\n",
       "      <th>CLASS</th>\n",
       "      <th>URL</th>\n",
       "      <th>QUERY</th>\n",
       "      <th>HIERARCHY</th>\n",
       "      <th>PROPERTIES</th>\n",
       "      <th>OPTION</th>\n",
       "      <th>OPTION_TEXT</th>\n",
       "      <th>TYPE</th>\n",
       "      <th>CLASSES</th>\n",
       "      <th>PARAMETERS</th>\n",
       "      <th>FILTERS</th>\n",
       "      <th>TOOLTIP</th>\n",
       "      <th>FUNCTION</th>\n",
       "    </tr>\n",
       "  </thead>\n",
       "  <tbody>\n",
       "    <tr>\n",
       "      <th>0</th>\n",
       "      <td>Membership</td>\n",
       "      <td>https://publications.europa.eu/webapi/rdf/sparql</td>\n",
       "      <td>\\n    PREFIX xsd: &lt;http://www.w3.org/2001/XMLS...</td>\n",
       "      <td>membership-person</td>\n",
       "      <td>person-person_uri;person-person_gender;person-...</td>\n",
       "      <td>WHOISWHO Person</td>\n",
       "      <td>WHOISWHO Person</td>\n",
       "      <td>TREE</td>\n",
       "      <td>membership-Membership;person-Person</td>\n",
       "      <td>NaN</td>\n",
       "      <td>NaN</td>\n",
       "      <td>NaN</td>\n",
       "      <td>NaN</td>\n",
       "    </tr>\n",
       "    <tr>\n",
       "      <th>1</th>\n",
       "      <td>Directory Organization</td>\n",
       "      <td>https://publications.europa.eu/webapi/rdf/sparql</td>\n",
       "      <td>\\nPREFIX xsd: &lt;http://www.w3.org/2001/XMLSchem...</td>\n",
       "      <td>directoryOrg-directoryOrg2</td>\n",
       "      <td>directoryOrg2-directoryOrg2_uri;directoryOrg2-...</td>\n",
       "      <td>WHOISWHO directoryOrg second level</td>\n",
       "      <td>WHOISWHO directoryOrg second level</td>\n",
       "      <td>TREE</td>\n",
       "      <td>directoryOrg-Directory Organization;directoryO...</td>\n",
       "      <td>NaN</td>\n",
       "      <td>NaN</td>\n",
       "      <td>NaN</td>\n",
       "      <td>NaN</td>\n",
       "    </tr>\n",
       "    <tr>\n",
       "      <th>2</th>\n",
       "      <td>OP Theme</td>\n",
       "      <td>https://publications.europa.eu/webapi/rdf/sparql</td>\n",
       "      <td>\\n        PREFIX xsd: &lt;http://www.w3.org/2001/...</td>\n",
       "      <td>opTheme-corporateBody</td>\n",
       "      <td>opTheme-opTheme_uri;corporateBody-corporateBod...</td>\n",
       "      <td>OP Themes and publication author</td>\n",
       "      <td>OP Themes and publication author</td>\n",
       "      <td>TREE</td>\n",
       "      <td>opTheme-OP Theme;corporateBody-corporateBody</td>\n",
       "      <td>NaN</td>\n",
       "      <td>NaN</td>\n",
       "      <td>NaN</td>\n",
       "      <td>NaN</td>\n",
       "    </tr>\n",
       "    <tr>\n",
       "      <th>3</th>\n",
       "      <td>eurovoc</td>\n",
       "      <td>https://publications.europa.eu/webapi/rdf/sparql</td>\n",
       "      <td>PREFIX xsd: &lt;http://www.w3.org/2001/XMLSchema#...</td>\n",
       "      <td>eurovoc-eurovocDomain-eurovocThesauri-eurovocC...</td>\n",
       "      <td>eurovoc-eurovoc_uri;eurovocDomain-eurovocDomai...</td>\n",
       "      <td>Eurovoc domains, thesauri and concepts</td>\n",
       "      <td>Eurovoc concepts by thesauri and domain</td>\n",
       "      <td>TREE</td>\n",
       "      <td>eurovoc-Eurovoc;eurovocDomain-Eurovoc Domain;e...</td>\n",
       "      <td>NaN</td>\n",
       "      <td>NaN</td>\n",
       "      <td>NaN</td>\n",
       "      <td>NaN</td>\n",
       "    </tr>\n",
       "    <tr>\n",
       "      <th>4</th>\n",
       "      <td>Eurovoc Concept</td>\n",
       "      <td>https://publications.europa.eu/webapi/rdf/sparql</td>\n",
       "      <td>PREFIX rdfs: &lt;http://www.w3.org/2000/01/rdf-sc...</td>\n",
       "      <td>eurovocConcept-aligment</td>\n",
       "      <td>eurovocConcept-eurovocConcept_uri</td>\n",
       "      <td>Eurovoc concept and aligments</td>\n",
       "      <td>Eurovoc concepts and external aligments</td>\n",
       "      <td>TREE</td>\n",
       "      <td>eurovocConcept-Eurovoc Concept;aligment-Aligment</td>\n",
       "      <td>NaN</td>\n",
       "      <td>NaN</td>\n",
       "      <td>NaN</td>\n",
       "      <td>NaN</td>\n",
       "    </tr>\n",
       "    <tr>\n",
       "      <th>5</th>\n",
       "      <td>nuts</td>\n",
       "      <td>https://publications.europa.eu/webapi/rdf/sparql</td>\n",
       "      <td>PREFIX xsd: &lt;http://www.w3.org/2001/XMLSchema#...</td>\n",
       "      <td>nuts-nutsLevel0-nutsLevel1-nutsLevel2-nutsLevel3</td>\n",
       "      <td>nutsLevel0-nutsLevel0_uri;nutsLevel1-nutsLevel...</td>\n",
       "      <td>NUTS Tree</td>\n",
       "      <td>NUTS Tree</td>\n",
       "      <td>TREE</td>\n",
       "      <td>nuts-NUTS Classification;nutsLevel0-NUTS Level...</td>\n",
       "      <td>NaN</td>\n",
       "      <td>NaN</td>\n",
       "      <td>NaN</td>\n",
       "      <td>NaN</td>\n",
       "    </tr>\n",
       "    <tr>\n",
       "      <th>6</th>\n",
       "      <td>taxonomy</td>\n",
       "      <td>https://publications.europa.eu/webapi/rdf/sparql</td>\n",
       "      <td>PREFIX skos: &lt;http://www.w3.org/2004/02/skos/c...</td>\n",
       "      <td>taxonomy-taxonomyType-taxonomyLevel1</td>\n",
       "      <td>taxonomy-taxonomy_def;taxonomyType-taxonomyTyp...</td>\n",
       "      <td>Taxonomies</td>\n",
       "      <td>Taxonomies</td>\n",
       "      <td>TREE</td>\n",
       "      <td>taxonomy-Taxonomies Classification;taxonomyTyp...</td>\n",
       "      <td>NaN</td>\n",
       "      <td>NaN</td>\n",
       "      <td>NaN</td>\n",
       "      <td>NaN</td>\n",
       "    </tr>\n",
       "    <tr>\n",
       "      <th>7</th>\n",
       "      <td>Taxonomy Level</td>\n",
       "      <td>https://publications.europa.eu/webapi/rdf/sparql</td>\n",
       "      <td>PREFIX xsd: &lt;http://www.w3.org/2001/XMLSchema#...</td>\n",
       "      <td>taxonomyLevel1-taxonomyLevel2</td>\n",
       "      <td>taxonomyLevel1-taxonomyLevel1_uri;taxonomyLeve...</td>\n",
       "      <td>Taxonomy Level Children</td>\n",
       "      <td>Taxonomy Level Children</td>\n",
       "      <td>TREE</td>\n",
       "      <td>taxonomyLevel1-Taxonomy Level;taxonomyLevel2-T...</td>\n",
       "      <td>NaN</td>\n",
       "      <td>NaN</td>\n",
       "      <td>NaN</td>\n",
       "      <td>NaN</td>\n",
       "    </tr>\n",
       "    <tr>\n",
       "      <th>8</th>\n",
       "      <td>det</td>\n",
       "      <td>https://publications.europa.eu/webapi/rdf/sparql</td>\n",
       "      <td>PREFIX skos: &lt;http://www.w3.org/2004/02/skos/c...</td>\n",
       "      <td>det-detLevel1-detLevel2</td>\n",
       "      <td>det-det_uri;detLevel1-detLevel1_uri;detLevel2-...</td>\n",
       "      <td>Digital Europa Thesaurus</td>\n",
       "      <td>Digital Europa Thesaurus</td>\n",
       "      <td>TREE</td>\n",
       "      <td>det-DET;detLevel1-DET Level;detLevel2-DET Level</td>\n",
       "      <td>NaN</td>\n",
       "      <td>NaN</td>\n",
       "      <td>NaN</td>\n",
       "      <td>NaN</td>\n",
       "    </tr>\n",
       "    <tr>\n",
       "      <th>9</th>\n",
       "      <td>Eurovoc Concept</td>\n",
       "      <td>https://publications.europa.eu/webapi/rdf/sparql</td>\n",
       "      <td>PREFIX xsd: &lt;http://www.w3.org/2001/XMLSchema#...</td>\n",
       "      <td>eurovocConcept-workType-work</td>\n",
       "      <td>eurovocConcept-eurovocConcept_uri;workType-wor...</td>\n",
       "      <td>Eurovoc concept and work types</td>\n",
       "      <td>Eurovoc concepts and works by type</td>\n",
       "      <td>TREE</td>\n",
       "      <td>eurovocConcept-Eurovoc Concept;workType-Work T...</td>\n",
       "      <td>NaN</td>\n",
       "      <td>NaN</td>\n",
       "      <td>NaN</td>\n",
       "      <td>NaN</td>\n",
       "    </tr>\n",
       "    <tr>\n",
       "      <th>10</th>\n",
       "      <td>DET Level</td>\n",
       "      <td>https://publications.europa.eu/webapi/rdf/sparql</td>\n",
       "      <td>PREFIX xsd: &lt;http://www.w3.org/2001/XMLSchema#...</td>\n",
       "      <td>detLevel2-detLevel3</td>\n",
       "      <td>detLevel2-detLevel2_uri;detLevel3-detLevel3_uri</td>\n",
       "      <td>DET Children Level</td>\n",
       "      <td>DET Children Level</td>\n",
       "      <td>TREE</td>\n",
       "      <td>detLevel2-DET Level;detLevel3-DET Level</td>\n",
       "      <td>NaN</td>\n",
       "      <td>NaN</td>\n",
       "      <td>NaN</td>\n",
       "      <td>NaN</td>\n",
       "    </tr>\n",
       "    <tr>\n",
       "      <th>11</th>\n",
       "      <td>DET Level</td>\n",
       "      <td>https://publications.europa.eu/webapi/rdf/sparql</td>\n",
       "      <td>\\n    PREFIX xsd: &lt;http://www.w3.org/2001/XMLS...</td>\n",
       "      <td>detLevel1-eurovocConcept</td>\n",
       "      <td>detLevel1-detLevel1_uri;eurovocConcept-eurovoc...</td>\n",
       "      <td>DET Level to Eurovoc Concept</td>\n",
       "      <td>DET Level to Eurovoc Concept</td>\n",
       "      <td>TREE</td>\n",
       "      <td>detLevel1-DET Level;eurovocConcept-Eurovoc Con...</td>\n",
       "      <td>NaN</td>\n",
       "      <td>NaN</td>\n",
       "      <td>NaN</td>\n",
       "      <td>NaN</td>\n",
       "    </tr>\n",
       "    <tr>\n",
       "      <th>12</th>\n",
       "      <td>Continents</td>\n",
       "      <td>https://publications.europa.eu/webapi/rdf/sparql</td>\n",
       "      <td>\\n    PREFIX xsd: &lt;http://www.w3.org/2001/XMLS...</td>\n",
       "      <td>continent-continentName-country-language</td>\n",
       "      <td>continent-continent_uri;continentName-continen...</td>\n",
       "      <td>Languages by country and continent</td>\n",
       "      <td>Languages by country and continent</td>\n",
       "      <td>TREE</td>\n",
       "      <td>continent-Continents;continentName-Continent;c...</td>\n",
       "      <td>NaN</td>\n",
       "      <td>NaN</td>\n",
       "      <td>NaN</td>\n",
       "      <td>NaN</td>\n",
       "    </tr>\n",
       "    <tr>\n",
       "      <th>13</th>\n",
       "      <td>Continents</td>\n",
       "      <td>https://publications.europa.eu/webapi/rdf/sparql</td>\n",
       "      <td>PREFIX xsd: &lt;http://www.w3.org/2001/XMLSchema#...</td>\n",
       "      <td>continent-continentName-country-org</td>\n",
       "      <td>continent-continent_uri;continentName-continen...</td>\n",
       "      <td>Continents countries and organisations</td>\n",
       "      <td>Continents countries and organisations those c...</td>\n",
       "      <td>TREE</td>\n",
       "      <td>continent-Continents;continentName-Continent;c...</td>\n",
       "      <td>NaN</td>\n",
       "      <td>NaN</td>\n",
       "      <td>NaN</td>\n",
       "      <td>NaN</td>\n",
       "    </tr>\n",
       "    <tr>\n",
       "      <th>14</th>\n",
       "      <td>org</td>\n",
       "      <td>https://publications.europa.eu/webapi/rdf/sparql</td>\n",
       "      <td>PREFIX skos: &lt;http://www.w3.org/2004/02/skos/c...</td>\n",
       "      <td>org</td>\n",
       "      <td>org-org_desc;org-org_code;org-org_startDate;or...</td>\n",
       "      <td>Timeline organisations</td>\n",
       "      <td>Timeline organisations</td>\n",
       "      <td>TIMELINE</td>\n",
       "      <td>org-Organisation</td>\n",
       "      <td>NaN</td>\n",
       "      <td>NaN</td>\n",
       "      <td>NaN</td>\n",
       "      <td>NaN</td>\n",
       "    </tr>\n",
       "    <tr>\n",
       "      <th>15</th>\n",
       "      <td>eurun</td>\n",
       "      <td>https://publications.europa.eu/webapi/rdf/sparql</td>\n",
       "      <td>\\n    PREFIX xsd: &lt;http://www.w3.org/2001/XMLS...</td>\n",
       "      <td>eurun-corporateBody</td>\n",
       "      <td>eurun-eurun_uri;eurun-eurun_image;corporateBod...</td>\n",
       "      <td>WHOISWHO EURUN Suborganizations</td>\n",
       "      <td>WHOISWHO EURUN Suborganizations</td>\n",
       "      <td>TREE</td>\n",
       "      <td>eurun-European Union;corporateBody-corporateBody</td>\n",
       "      <td>NaN</td>\n",
       "      <td>corporateBody_country-dropdown;corporateBody_l...</td>\n",
       "      <td>corporateBody_country-Country;corporateBody_lo...</td>\n",
       "      <td>NaN</td>\n",
       "    </tr>\n",
       "    <tr>\n",
       "      <th>16</th>\n",
       "      <td>corporateBody</td>\n",
       "      <td>https://publications.europa.eu/webapi/rdf/sparql</td>\n",
       "      <td>\\nPREFIX xsd: &lt;http://www.w3.org/2001/XMLSchem...</td>\n",
       "      <td>corporateBody-directoryOrg</td>\n",
       "      <td>directoryOrg-directoryOrg_uri;directoryOrg-dir...</td>\n",
       "      <td>WHOISWHO Suborganizations</td>\n",
       "      <td>WHOISWHO Suborganizations</td>\n",
       "      <td>TREE</td>\n",
       "      <td>corporateBody-corporateBody;directoryOrg-Direc...</td>\n",
       "      <td>NaN</td>\n",
       "      <td>NaN</td>\n",
       "      <td>NaN</td>\n",
       "      <td>NaN</td>\n",
       "    </tr>\n",
       "    <tr>\n",
       "      <th>17</th>\n",
       "      <td>Directory Organization</td>\n",
       "      <td>https://publications.europa.eu/webapi/rdf/sparql</td>\n",
       "      <td>\\nPREFIX xsd: &lt;http://www.w3.org/2001/XMLSchem...</td>\n",
       "      <td>directoryOrg-membership</td>\n",
       "      <td>membership-membership_directoryOrg</td>\n",
       "      <td>WHOISWHO Membership</td>\n",
       "      <td>WHOISWHO Membership</td>\n",
       "      <td>TREE</td>\n",
       "      <td>directoryOrg-Directory Organization;membership...</td>\n",
       "      <td>NaN</td>\n",
       "      <td>NaN</td>\n",
       "      <td>NaN</td>\n",
       "      <td>NaN</td>\n",
       "    </tr>\n",
       "    <tr>\n",
       "      <th>18</th>\n",
       "      <td>Membership Type</td>\n",
       "      <td>https://publications.europa.eu/webapi/rdf/sparql</td>\n",
       "      <td>\\nPREFIX xsd: &lt;http://www.w3.org/2001/XMLSchem...</td>\n",
       "      <td>membership-person</td>\n",
       "      <td>membership-membership_uri;membership-membershi...</td>\n",
       "      <td>WHOISWHO Membership Type</td>\n",
       "      <td>WHOISWHO Membership Type</td>\n",
       "      <td>TREE</td>\n",
       "      <td>membership-Membership Type;person-Person</td>\n",
       "      <td>membership_directoryOrg</td>\n",
       "      <td>NaN</td>\n",
       "      <td>NaN</td>\n",
       "      <td>NaN</td>\n",
       "    </tr>\n",
       "    <tr>\n",
       "      <th>19</th>\n",
       "      <td>Person</td>\n",
       "      <td>https://query.wikidata.org/sparql</td>\n",
       "      <td>\\n    PREFIX xsd: &lt;http://www.w3.org/2001/XMLS...</td>\n",
       "      <td>person-article</td>\n",
       "      <td>article</td>\n",
       "      <td>WHOISWHO Wikipedia page</td>\n",
       "      <td>WHOISWHO Wikipedia page</td>\n",
       "      <td>WEBPAGE</td>\n",
       "      <td>article-Wikipedia Article</td>\n",
       "      <td>person_id</td>\n",
       "      <td>NaN</td>\n",
       "      <td>NaN</td>\n",
       "      <td>showWikipediaPage</td>\n",
       "    </tr>\n",
       "    <tr>\n",
       "      <th>20</th>\n",
       "      <td>opThemeMain</td>\n",
       "      <td>https://publications.europa.eu/webapi/rdf/sparql</td>\n",
       "      <td>\\n    PREFIX xsd: &lt;http://www.w3.org/2001/XMLS...</td>\n",
       "      <td>opThemeMain-opTheme</td>\n",
       "      <td>opThemeMain-opThemeMain_uri;opTheme-opTheme_uri</td>\n",
       "      <td>PUBLICATIONS - Publications by OP Theme</td>\n",
       "      <td>PUBLICATIONS - Publications by OP Theme</td>\n",
       "      <td>TREE</td>\n",
       "      <td>opThemeMain-Publications Themes;opTheme-OP Theme</td>\n",
       "      <td>NaN</td>\n",
       "      <td>NaN</td>\n",
       "      <td>NaN</td>\n",
       "      <td>NaN</td>\n",
       "    </tr>\n",
       "    <tr>\n",
       "      <th>21</th>\n",
       "      <td>OP Theme</td>\n",
       "      <td>https://publications.europa.eu/webapi/rdf/sparql</td>\n",
       "      <td>\\n        PREFIX xsd: &lt;http://www.w3.org/2001/...</td>\n",
       "      <td>opThemeParent-opThemeChild</td>\n",
       "      <td>opThemeParent-opThemeParent_uri;opThemeChild-o...</td>\n",
       "      <td>OP Themes children</td>\n",
       "      <td>OP Themes children</td>\n",
       "      <td>TREE</td>\n",
       "      <td>opThemeParent-OP Theme;opThemeChild-OP Theme</td>\n",
       "      <td>NaN</td>\n",
       "      <td>NaN</td>\n",
       "      <td>NaN</td>\n",
       "      <td>NaN</td>\n",
       "    </tr>\n",
       "    <tr>\n",
       "      <th>0</th>\n",
       "      <td>Publication Document</td>\n",
       "      <td>https://publications.europa.eu/webapi/rdf/sparql</td>\n",
       "      <td>\\nPREFIX xsd: &lt;http://www.w3.org/2001/XMLSchem...</td>\n",
       "      <td>expression-manifestation</td>\n",
       "      <td>expression-expression_uri;manifestation-manife...</td>\n",
       "      <td>Manifestation by Expression</td>\n",
       "      <td>Manifestation by Expression</td>\n",
       "      <td>TREE</td>\n",
       "      <td>expression-Publication Document;manifestation-...</td>\n",
       "      <td></td>\n",
       "      <td></td>\n",
       "      <td>manifestation_type-Manifestation Type</td>\n",
       "      <td></td>\n",
       "    </tr>\n",
       "    <tr>\n",
       "      <th>0</th>\n",
       "      <td>corporateBody</td>\n",
       "      <td>https://publications.europa.eu/webapi/rdf/sparql</td>\n",
       "      <td>\\nPREFIX xsd: &lt;http://www.w3.org/2001/XMLSchem...</td>\n",
       "      <td>corporateBody-publicationDocument</td>\n",
       "      <td>corporateBody-corporateBody_uri;publicationDoc...</td>\n",
       "      <td>Publications by CorporateBody</td>\n",
       "      <td>Publications by CorporateBody</td>\n",
       "      <td>TREE</td>\n",
       "      <td>corporateBody-corporateBody;publicationDocumen...</td>\n",
       "      <td>corporateBody_opTheme</td>\n",
       "      <td></td>\n",
       "      <td></td>\n",
       "      <td></td>\n",
       "    </tr>\n",
       "  </tbody>\n",
       "</table>\n",
       "</div>"
      ],
      "text/plain": [
       "                     CLASS                                               URL  \\\n",
       "0               Membership  https://publications.europa.eu/webapi/rdf/sparql   \n",
       "1   Directory Organization  https://publications.europa.eu/webapi/rdf/sparql   \n",
       "2                 OP Theme  https://publications.europa.eu/webapi/rdf/sparql   \n",
       "3                  eurovoc  https://publications.europa.eu/webapi/rdf/sparql   \n",
       "4          Eurovoc Concept  https://publications.europa.eu/webapi/rdf/sparql   \n",
       "5                     nuts  https://publications.europa.eu/webapi/rdf/sparql   \n",
       "6                 taxonomy  https://publications.europa.eu/webapi/rdf/sparql   \n",
       "7           Taxonomy Level  https://publications.europa.eu/webapi/rdf/sparql   \n",
       "8                      det  https://publications.europa.eu/webapi/rdf/sparql   \n",
       "9          Eurovoc Concept  https://publications.europa.eu/webapi/rdf/sparql   \n",
       "10               DET Level  https://publications.europa.eu/webapi/rdf/sparql   \n",
       "11               DET Level  https://publications.europa.eu/webapi/rdf/sparql   \n",
       "12              Continents  https://publications.europa.eu/webapi/rdf/sparql   \n",
       "13              Continents  https://publications.europa.eu/webapi/rdf/sparql   \n",
       "14                     org  https://publications.europa.eu/webapi/rdf/sparql   \n",
       "15                   eurun  https://publications.europa.eu/webapi/rdf/sparql   \n",
       "16           corporateBody  https://publications.europa.eu/webapi/rdf/sparql   \n",
       "17  Directory Organization  https://publications.europa.eu/webapi/rdf/sparql   \n",
       "18         Membership Type  https://publications.europa.eu/webapi/rdf/sparql   \n",
       "19                  Person                 https://query.wikidata.org/sparql   \n",
       "20             opThemeMain  https://publications.europa.eu/webapi/rdf/sparql   \n",
       "21                OP Theme  https://publications.europa.eu/webapi/rdf/sparql   \n",
       "0     Publication Document  https://publications.europa.eu/webapi/rdf/sparql   \n",
       "0            corporateBody  https://publications.europa.eu/webapi/rdf/sparql   \n",
       "\n",
       "                                                QUERY  \\\n",
       "0   \\n    PREFIX xsd: <http://www.w3.org/2001/XMLS...   \n",
       "1   \\nPREFIX xsd: <http://www.w3.org/2001/XMLSchem...   \n",
       "2   \\n        PREFIX xsd: <http://www.w3.org/2001/...   \n",
       "3   PREFIX xsd: <http://www.w3.org/2001/XMLSchema#...   \n",
       "4   PREFIX rdfs: <http://www.w3.org/2000/01/rdf-sc...   \n",
       "5   PREFIX xsd: <http://www.w3.org/2001/XMLSchema#...   \n",
       "6   PREFIX skos: <http://www.w3.org/2004/02/skos/c...   \n",
       "7   PREFIX xsd: <http://www.w3.org/2001/XMLSchema#...   \n",
       "8   PREFIX skos: <http://www.w3.org/2004/02/skos/c...   \n",
       "9   PREFIX xsd: <http://www.w3.org/2001/XMLSchema#...   \n",
       "10  PREFIX xsd: <http://www.w3.org/2001/XMLSchema#...   \n",
       "11  \\n    PREFIX xsd: <http://www.w3.org/2001/XMLS...   \n",
       "12  \\n    PREFIX xsd: <http://www.w3.org/2001/XMLS...   \n",
       "13  PREFIX xsd: <http://www.w3.org/2001/XMLSchema#...   \n",
       "14  PREFIX skos: <http://www.w3.org/2004/02/skos/c...   \n",
       "15  \\n    PREFIX xsd: <http://www.w3.org/2001/XMLS...   \n",
       "16  \\nPREFIX xsd: <http://www.w3.org/2001/XMLSchem...   \n",
       "17  \\nPREFIX xsd: <http://www.w3.org/2001/XMLSchem...   \n",
       "18  \\nPREFIX xsd: <http://www.w3.org/2001/XMLSchem...   \n",
       "19  \\n    PREFIX xsd: <http://www.w3.org/2001/XMLS...   \n",
       "20  \\n    PREFIX xsd: <http://www.w3.org/2001/XMLS...   \n",
       "21  \\n        PREFIX xsd: <http://www.w3.org/2001/...   \n",
       "0   \\nPREFIX xsd: <http://www.w3.org/2001/XMLSchem...   \n",
       "0   \\nPREFIX xsd: <http://www.w3.org/2001/XMLSchem...   \n",
       "\n",
       "                                            HIERARCHY  \\\n",
       "0                                   membership-person   \n",
       "1                          directoryOrg-directoryOrg2   \n",
       "2                               opTheme-corporateBody   \n",
       "3   eurovoc-eurovocDomain-eurovocThesauri-eurovocC...   \n",
       "4                             eurovocConcept-aligment   \n",
       "5    nuts-nutsLevel0-nutsLevel1-nutsLevel2-nutsLevel3   \n",
       "6                taxonomy-taxonomyType-taxonomyLevel1   \n",
       "7                       taxonomyLevel1-taxonomyLevel2   \n",
       "8                             det-detLevel1-detLevel2   \n",
       "9                        eurovocConcept-workType-work   \n",
       "10                                detLevel2-detLevel3   \n",
       "11                           detLevel1-eurovocConcept   \n",
       "12           continent-continentName-country-language   \n",
       "13                continent-continentName-country-org   \n",
       "14                                                org   \n",
       "15                                eurun-corporateBody   \n",
       "16                         corporateBody-directoryOrg   \n",
       "17                            directoryOrg-membership   \n",
       "18                                  membership-person   \n",
       "19                                     person-article   \n",
       "20                                opThemeMain-opTheme   \n",
       "21                         opThemeParent-opThemeChild   \n",
       "0                            expression-manifestation   \n",
       "0                   corporateBody-publicationDocument   \n",
       "\n",
       "                                           PROPERTIES  \\\n",
       "0   person-person_uri;person-person_gender;person-...   \n",
       "1   directoryOrg2-directoryOrg2_uri;directoryOrg2-...   \n",
       "2   opTheme-opTheme_uri;corporateBody-corporateBod...   \n",
       "3   eurovoc-eurovoc_uri;eurovocDomain-eurovocDomai...   \n",
       "4                   eurovocConcept-eurovocConcept_uri   \n",
       "5   nutsLevel0-nutsLevel0_uri;nutsLevel1-nutsLevel...   \n",
       "6   taxonomy-taxonomy_def;taxonomyType-taxonomyTyp...   \n",
       "7   taxonomyLevel1-taxonomyLevel1_uri;taxonomyLeve...   \n",
       "8   det-det_uri;detLevel1-detLevel1_uri;detLevel2-...   \n",
       "9   eurovocConcept-eurovocConcept_uri;workType-wor...   \n",
       "10    detLevel2-detLevel2_uri;detLevel3-detLevel3_uri   \n",
       "11  detLevel1-detLevel1_uri;eurovocConcept-eurovoc...   \n",
       "12  continent-continent_uri;continentName-continen...   \n",
       "13  continent-continent_uri;continentName-continen...   \n",
       "14  org-org_desc;org-org_code;org-org_startDate;or...   \n",
       "15  eurun-eurun_uri;eurun-eurun_image;corporateBod...   \n",
       "16  directoryOrg-directoryOrg_uri;directoryOrg-dir...   \n",
       "17                 membership-membership_directoryOrg   \n",
       "18  membership-membership_uri;membership-membershi...   \n",
       "19                                            article   \n",
       "20    opThemeMain-opThemeMain_uri;opTheme-opTheme_uri   \n",
       "21  opThemeParent-opThemeParent_uri;opThemeChild-o...   \n",
       "0   expression-expression_uri;manifestation-manife...   \n",
       "0   corporateBody-corporateBody_uri;publicationDoc...   \n",
       "\n",
       "                                     OPTION  \\\n",
       "0                           WHOISWHO Person   \n",
       "1        WHOISWHO directoryOrg second level   \n",
       "2          OP Themes and publication author   \n",
       "3    Eurovoc domains, thesauri and concepts   \n",
       "4             Eurovoc concept and aligments   \n",
       "5                                 NUTS Tree   \n",
       "6                                Taxonomies   \n",
       "7                   Taxonomy Level Children   \n",
       "8                  Digital Europa Thesaurus   \n",
       "9            Eurovoc concept and work types   \n",
       "10                       DET Children Level   \n",
       "11             DET Level to Eurovoc Concept   \n",
       "12       Languages by country and continent   \n",
       "13   Continents countries and organisations   \n",
       "14                   Timeline organisations   \n",
       "15          WHOISWHO EURUN Suborganizations   \n",
       "16                WHOISWHO Suborganizations   \n",
       "17                      WHOISWHO Membership   \n",
       "18                 WHOISWHO Membership Type   \n",
       "19                  WHOISWHO Wikipedia page   \n",
       "20  PUBLICATIONS - Publications by OP Theme   \n",
       "21                       OP Themes children   \n",
       "0               Manifestation by Expression   \n",
       "0             Publications by CorporateBody   \n",
       "\n",
       "                                          OPTION_TEXT      TYPE  \\\n",
       "0                                     WHOISWHO Person      TREE   \n",
       "1                  WHOISWHO directoryOrg second level      TREE   \n",
       "2                    OP Themes and publication author      TREE   \n",
       "3             Eurovoc concepts by thesauri and domain      TREE   \n",
       "4             Eurovoc concepts and external aligments      TREE   \n",
       "5                                           NUTS Tree      TREE   \n",
       "6                                          Taxonomies      TREE   \n",
       "7                             Taxonomy Level Children      TREE   \n",
       "8                            Digital Europa Thesaurus      TREE   \n",
       "9                  Eurovoc concepts and works by type      TREE   \n",
       "10                                 DET Children Level      TREE   \n",
       "11                       DET Level to Eurovoc Concept      TREE   \n",
       "12                 Languages by country and continent      TREE   \n",
       "13  Continents countries and organisations those c...      TREE   \n",
       "14                             Timeline organisations  TIMELINE   \n",
       "15                    WHOISWHO EURUN Suborganizations      TREE   \n",
       "16                          WHOISWHO Suborganizations      TREE   \n",
       "17                                WHOISWHO Membership      TREE   \n",
       "18                           WHOISWHO Membership Type      TREE   \n",
       "19                            WHOISWHO Wikipedia page   WEBPAGE   \n",
       "20            PUBLICATIONS - Publications by OP Theme      TREE   \n",
       "21                                 OP Themes children      TREE   \n",
       "0                         Manifestation by Expression      TREE   \n",
       "0                       Publications by CorporateBody      TREE   \n",
       "\n",
       "                                              CLASSES  \\\n",
       "0                 membership-Membership;person-Person   \n",
       "1   directoryOrg-Directory Organization;directoryO...   \n",
       "2        opTheme-OP Theme;corporateBody-corporateBody   \n",
       "3   eurovoc-Eurovoc;eurovocDomain-Eurovoc Domain;e...   \n",
       "4    eurovocConcept-Eurovoc Concept;aligment-Aligment   \n",
       "5   nuts-NUTS Classification;nutsLevel0-NUTS Level...   \n",
       "6   taxonomy-Taxonomies Classification;taxonomyTyp...   \n",
       "7   taxonomyLevel1-Taxonomy Level;taxonomyLevel2-T...   \n",
       "8     det-DET;detLevel1-DET Level;detLevel2-DET Level   \n",
       "9   eurovocConcept-Eurovoc Concept;workType-Work T...   \n",
       "10            detLevel2-DET Level;detLevel3-DET Level   \n",
       "11  detLevel1-DET Level;eurovocConcept-Eurovoc Con...   \n",
       "12  continent-Continents;continentName-Continent;c...   \n",
       "13  continent-Continents;continentName-Continent;c...   \n",
       "14                                   org-Organisation   \n",
       "15   eurun-European Union;corporateBody-corporateBody   \n",
       "16  corporateBody-corporateBody;directoryOrg-Direc...   \n",
       "17  directoryOrg-Directory Organization;membership...   \n",
       "18           membership-Membership Type;person-Person   \n",
       "19                          article-Wikipedia Article   \n",
       "20   opThemeMain-Publications Themes;opTheme-OP Theme   \n",
       "21       opThemeParent-OP Theme;opThemeChild-OP Theme   \n",
       "0   expression-Publication Document;manifestation-...   \n",
       "0   corporateBody-corporateBody;publicationDocumen...   \n",
       "\n",
       "                 PARAMETERS  \\\n",
       "0                       NaN   \n",
       "1                       NaN   \n",
       "2                       NaN   \n",
       "3                       NaN   \n",
       "4                       NaN   \n",
       "5                       NaN   \n",
       "6                       NaN   \n",
       "7                       NaN   \n",
       "8                       NaN   \n",
       "9                       NaN   \n",
       "10                      NaN   \n",
       "11                      NaN   \n",
       "12                      NaN   \n",
       "13                      NaN   \n",
       "14                      NaN   \n",
       "15                      NaN   \n",
       "16                      NaN   \n",
       "17                      NaN   \n",
       "18  membership_directoryOrg   \n",
       "19                person_id   \n",
       "20                      NaN   \n",
       "21                      NaN   \n",
       "0                             \n",
       "0     corporateBody_opTheme   \n",
       "\n",
       "                                              FILTERS  \\\n",
       "0                                                 NaN   \n",
       "1                                                 NaN   \n",
       "2                                                 NaN   \n",
       "3                                                 NaN   \n",
       "4                                                 NaN   \n",
       "5                                                 NaN   \n",
       "6                                                 NaN   \n",
       "7                                                 NaN   \n",
       "8                                                 NaN   \n",
       "9                                                 NaN   \n",
       "10                                                NaN   \n",
       "11                                                NaN   \n",
       "12                                                NaN   \n",
       "13                                                NaN   \n",
       "14                                                NaN   \n",
       "15  corporateBody_country-dropdown;corporateBody_l...   \n",
       "16                                                NaN   \n",
       "17                                                NaN   \n",
       "18                                                NaN   \n",
       "19                                                NaN   \n",
       "20                                                NaN   \n",
       "21                                                NaN   \n",
       "0                                                       \n",
       "0                                                       \n",
       "\n",
       "                                              TOOLTIP           FUNCTION  \n",
       "0                                                 NaN                NaN  \n",
       "1                                                 NaN                NaN  \n",
       "2                                                 NaN                NaN  \n",
       "3                                                 NaN                NaN  \n",
       "4                                                 NaN                NaN  \n",
       "5                                                 NaN                NaN  \n",
       "6                                                 NaN                NaN  \n",
       "7                                                 NaN                NaN  \n",
       "8                                                 NaN                NaN  \n",
       "9                                                 NaN                NaN  \n",
       "10                                                NaN                NaN  \n",
       "11                                                NaN                NaN  \n",
       "12                                                NaN                NaN  \n",
       "13                                                NaN                NaN  \n",
       "14                                                NaN                NaN  \n",
       "15  corporateBody_country-Country;corporateBody_lo...                NaN  \n",
       "16                                                NaN                NaN  \n",
       "17                                                NaN                NaN  \n",
       "18                                                NaN                NaN  \n",
       "19                                                NaN  showWikipediaPage  \n",
       "20                                                NaN                NaN  \n",
       "21                                                NaN                NaN  \n",
       "0               manifestation_type-Manifestation Type                     \n",
       "0                                                                         "
      ]
     },
     "execution_count": 68,
     "metadata": {},
     "output_type": "execute_result"
    }
   ],
   "source": [
    "df"
   ]
  },
  {
   "cell_type": "markdown",
   "metadata": {},
   "source": [
    "### PUBLICATIONS - Manifestations by Expression"
   ]
  },
  {
   "cell_type": "code",
   "execution_count": 32,
   "metadata": {},
   "outputs": [],
   "source": [
    "#df=df[df[\"OPTION\"]!=\"Manifestation by Expression\"]"
   ]
  },
  {
   "cell_type": "code",
   "execution_count": 33,
   "metadata": {},
   "outputs": [],
   "source": [
    "url=\"https://publications.europa.eu/webapi/rdf/sparql\""
   ]
  },
  {
   "cell_type": "code",
   "execution_count": 34,
   "metadata": {},
   "outputs": [],
   "source": [
    "className=\"Publication Document\""
   ]
  },
  {
   "cell_type": "code",
   "execution_count": 35,
   "metadata": {},
   "outputs": [],
   "source": [
    "hierarchy=\"expression-manifestation\""
   ]
  },
  {
   "cell_type": "code",
   "execution_count": 36,
   "metadata": {},
   "outputs": [],
   "source": [
    "classes=\"expression-Publication Document;manifestation-Publication Manifestation\""
   ]
  },
  {
   "cell_type": "code",
   "execution_count": 37,
   "metadata": {},
   "outputs": [],
   "source": [
    "properties=\"expression-expression_uri;manifestation-manifestation_isbn;manifestation-manifestation_uri;manifestation-manifestation_image;manifestation-manifestation_type\"\n"
   ]
  },
  {
   "cell_type": "code",
   "execution_count": 38,
   "metadata": {},
   "outputs": [],
   "source": [
    "option=\"Manifestation by Expression\""
   ]
  },
  {
   "cell_type": "code",
   "execution_count": 39,
   "metadata": {},
   "outputs": [],
   "source": [
    "option_text=\"Manifestation by Expression\""
   ]
  },
  {
   "cell_type": "code",
   "execution_count": 40,
   "metadata": {},
   "outputs": [],
   "source": [
    "query=\"\"\"\n",
    "PREFIX xsd: <http://www.w3.org/2001/XMLSchema#> \n",
    "    PREFIX skos: <http://www.w3.org/2004/02/skos/core#>\n",
    "    PREFIX cdm: <http://publications.europa.eu/ontology/cdm#>\n",
    "            SELECT DISTINCT ?expression ?expression_uri ?manifestation ?manifestation_uri ?manifestation_image ?manifestation_type\n",
    "            where {\n",
    "                    {\n",
    "                    ?manifestation_uri cdm:manifestation_manifests_expression ?expression_uri.\n",
    "                    ?manifestation_uri cdm:manifestation_has_thumbnail ?manifestation_image;\n",
    "                                       cdm:manifestation_number_catalogue ?manifestation;\n",
    "                                       cdm:manifestation_type ?manifestation_type.\n",
    "                                       #cdm:manifestation_isbn ?manifestation_isbn.\n",
    "                    ?expression_uri cdm:expression_title ?expression.\n",
    "                    } \n",
    "                   filter(?expression_uri=<PARAMETER>)\n",
    "                   }ORDER BY ?expression ?manifestation\n",
    "    \"\"\""
   ]
  },
  {
   "cell_type": "code",
   "execution_count": 41,
   "metadata": {},
   "outputs": [],
   "source": [
    "rowType=\"TREE\""
   ]
  },
  {
   "cell_type": "code",
   "execution_count": 42,
   "metadata": {},
   "outputs": [],
   "source": [
    "parameters=\"\""
   ]
  },
  {
   "cell_type": "code",
   "execution_count": 43,
   "metadata": {},
   "outputs": [],
   "source": [
    "tooltip=\"manifestation_type-Manifestation Type\""
   ]
  },
  {
   "cell_type": "code",
   "execution_count": 44,
   "metadata": {},
   "outputs": [],
   "source": [
    "filters=\"\""
   ]
  },
  {
   "cell_type": "code",
   "execution_count": 45,
   "metadata": {},
   "outputs": [],
   "source": [
    "function=\"\""
   ]
  },
  {
   "cell_type": "code",
   "execution_count": 46,
   "metadata": {},
   "outputs": [],
   "source": [
    "record={'CLASS':className, 'URL':url, 'QUERY':query, 'HIERARCHY':hierarchy, 'PROPERTIES':properties,\n",
    "        'OPTION':option,'OPTION_TEXT':option_text,'TYPE':rowType, 'CLASSES':classes, 'PARAMETERS':parameters, 'FILTERS':filters, 'TOOLTIP':tooltip,\n",
    "       'FUNCTION':function}"
   ]
  },
  {
   "cell_type": "code",
   "execution_count": 47,
   "metadata": {},
   "outputs": [],
   "source": [
    "df_record=pd.DataFrame([record])"
   ]
  },
  {
   "cell_type": "code",
   "execution_count": 48,
   "metadata": {},
   "outputs": [],
   "source": [
    "df=pd.concat([df,df_record])"
   ]
  },
  {
   "cell_type": "code",
   "execution_count": 73,
   "metadata": {},
   "outputs": [
    {
     "data": {
      "text/html": [
       "<div>\n",
       "<style scoped>\n",
       "    .dataframe tbody tr th:only-of-type {\n",
       "        vertical-align: middle;\n",
       "    }\n",
       "\n",
       "    .dataframe tbody tr th {\n",
       "        vertical-align: top;\n",
       "    }\n",
       "\n",
       "    .dataframe thead th {\n",
       "        text-align: right;\n",
       "    }\n",
       "</style>\n",
       "<table border=\"1\" class=\"dataframe\">\n",
       "  <thead>\n",
       "    <tr style=\"text-align: right;\">\n",
       "      <th></th>\n",
       "      <th>CLASS</th>\n",
       "      <th>URL</th>\n",
       "      <th>QUERY</th>\n",
       "      <th>HIERARCHY</th>\n",
       "      <th>PROPERTIES</th>\n",
       "      <th>OPTION</th>\n",
       "      <th>OPTION_TEXT</th>\n",
       "      <th>TYPE</th>\n",
       "      <th>CLASSES</th>\n",
       "      <th>PARAMETERS</th>\n",
       "      <th>FILTERS</th>\n",
       "      <th>TOOLTIP</th>\n",
       "      <th>FUNCTION</th>\n",
       "    </tr>\n",
       "  </thead>\n",
       "  <tbody>\n",
       "    <tr>\n",
       "      <th>0</th>\n",
       "      <td>Membership</td>\n",
       "      <td>https://publications.europa.eu/webapi/rdf/sparql</td>\n",
       "      <td>\\n    PREFIX xsd: &lt;http://www.w3.org/2001/XMLS...</td>\n",
       "      <td>membership-person</td>\n",
       "      <td>person-person_uri;person-person_gender;person-...</td>\n",
       "      <td>WHOISWHO Person</td>\n",
       "      <td>WHOISWHO Person</td>\n",
       "      <td>TREE</td>\n",
       "      <td>membership-Membership;person-Person</td>\n",
       "      <td>NaN</td>\n",
       "      <td>NaN</td>\n",
       "      <td>NaN</td>\n",
       "      <td>NaN</td>\n",
       "    </tr>\n",
       "    <tr>\n",
       "      <th>1</th>\n",
       "      <td>Directory Organization</td>\n",
       "      <td>https://publications.europa.eu/webapi/rdf/sparql</td>\n",
       "      <td>\\nPREFIX xsd: &lt;http://www.w3.org/2001/XMLSchem...</td>\n",
       "      <td>directoryOrg-directoryOrg2</td>\n",
       "      <td>directoryOrg2-directoryOrg2_uri;directoryOrg2-...</td>\n",
       "      <td>WHOISWHO directoryOrg second level</td>\n",
       "      <td>WHOISWHO directoryOrg second level</td>\n",
       "      <td>TREE</td>\n",
       "      <td>directoryOrg-Directory Organization;directoryO...</td>\n",
       "      <td>NaN</td>\n",
       "      <td>NaN</td>\n",
       "      <td>NaN</td>\n",
       "      <td>NaN</td>\n",
       "    </tr>\n",
       "    <tr>\n",
       "      <th>2</th>\n",
       "      <td>OP Theme</td>\n",
       "      <td>https://publications.europa.eu/webapi/rdf/sparql</td>\n",
       "      <td>\\n        PREFIX xsd: &lt;http://www.w3.org/2001/...</td>\n",
       "      <td>opTheme-corporateBody</td>\n",
       "      <td>opTheme-opTheme_uri;corporateBody-corporateBod...</td>\n",
       "      <td>OP Themes and publication author</td>\n",
       "      <td>OP Themes and publication author</td>\n",
       "      <td>TREE</td>\n",
       "      <td>opTheme-OP Theme;corporateBody-corporateBody</td>\n",
       "      <td>NaN</td>\n",
       "      <td>NaN</td>\n",
       "      <td>NaN</td>\n",
       "      <td>NaN</td>\n",
       "    </tr>\n",
       "    <tr>\n",
       "      <th>3</th>\n",
       "      <td>eurovoc</td>\n",
       "      <td>https://publications.europa.eu/webapi/rdf/sparql</td>\n",
       "      <td>PREFIX xsd: &lt;http://www.w3.org/2001/XMLSchema#...</td>\n",
       "      <td>eurovoc-eurovocDomain-eurovocThesauri-eurovocC...</td>\n",
       "      <td>eurovoc-eurovoc_uri;eurovocDomain-eurovocDomai...</td>\n",
       "      <td>Eurovoc domains, thesauri and concepts</td>\n",
       "      <td>Eurovoc concepts by thesauri and domain</td>\n",
       "      <td>TREE</td>\n",
       "      <td>eurovoc-Eurovoc;eurovocDomain-Eurovoc Domain;e...</td>\n",
       "      <td>NaN</td>\n",
       "      <td>NaN</td>\n",
       "      <td>NaN</td>\n",
       "      <td>NaN</td>\n",
       "    </tr>\n",
       "    <tr>\n",
       "      <th>4</th>\n",
       "      <td>Eurovoc Concept</td>\n",
       "      <td>https://publications.europa.eu/webapi/rdf/sparql</td>\n",
       "      <td>PREFIX rdfs: &lt;http://www.w3.org/2000/01/rdf-sc...</td>\n",
       "      <td>eurovocConcept-aligment</td>\n",
       "      <td>eurovocConcept-eurovocConcept_uri</td>\n",
       "      <td>Eurovoc concept and aligments</td>\n",
       "      <td>Eurovoc concepts and external aligments</td>\n",
       "      <td>TREE</td>\n",
       "      <td>eurovocConcept-Eurovoc Concept;aligment-Aligment</td>\n",
       "      <td>NaN</td>\n",
       "      <td>NaN</td>\n",
       "      <td>NaN</td>\n",
       "      <td>NaN</td>\n",
       "    </tr>\n",
       "    <tr>\n",
       "      <th>5</th>\n",
       "      <td>nuts</td>\n",
       "      <td>https://publications.europa.eu/webapi/rdf/sparql</td>\n",
       "      <td>PREFIX xsd: &lt;http://www.w3.org/2001/XMLSchema#...</td>\n",
       "      <td>nuts-nutsLevel0-nutsLevel1-nutsLevel2-nutsLevel3</td>\n",
       "      <td>nutsLevel0-nutsLevel0_uri;nutsLevel1-nutsLevel...</td>\n",
       "      <td>NUTS Tree</td>\n",
       "      <td>NUTS Tree</td>\n",
       "      <td>TREE</td>\n",
       "      <td>nuts-NUTS Classification;nutsLevel0-NUTS Level...</td>\n",
       "      <td>NaN</td>\n",
       "      <td>NaN</td>\n",
       "      <td>NaN</td>\n",
       "      <td>NaN</td>\n",
       "    </tr>\n",
       "    <tr>\n",
       "      <th>6</th>\n",
       "      <td>taxonomy</td>\n",
       "      <td>https://publications.europa.eu/webapi/rdf/sparql</td>\n",
       "      <td>PREFIX skos: &lt;http://www.w3.org/2004/02/skos/c...</td>\n",
       "      <td>taxonomy-taxonomyType-taxonomyLevel1</td>\n",
       "      <td>taxonomy-taxonomy_def;taxonomyType-taxonomyTyp...</td>\n",
       "      <td>Taxonomies</td>\n",
       "      <td>Taxonomies</td>\n",
       "      <td>TREE</td>\n",
       "      <td>taxonomy-Taxonomies Classification;taxonomyTyp...</td>\n",
       "      <td>NaN</td>\n",
       "      <td>NaN</td>\n",
       "      <td>NaN</td>\n",
       "      <td>NaN</td>\n",
       "    </tr>\n",
       "    <tr>\n",
       "      <th>7</th>\n",
       "      <td>Taxonomy Level</td>\n",
       "      <td>https://publications.europa.eu/webapi/rdf/sparql</td>\n",
       "      <td>PREFIX xsd: &lt;http://www.w3.org/2001/XMLSchema#...</td>\n",
       "      <td>taxonomyLevel1-taxonomyLevel2</td>\n",
       "      <td>taxonomyLevel1-taxonomyLevel1_uri;taxonomyLeve...</td>\n",
       "      <td>Taxonomy Level Children</td>\n",
       "      <td>Taxonomy Level Children</td>\n",
       "      <td>TREE</td>\n",
       "      <td>taxonomyLevel1-Taxonomy Level;taxonomyLevel2-T...</td>\n",
       "      <td>NaN</td>\n",
       "      <td>NaN</td>\n",
       "      <td>NaN</td>\n",
       "      <td>NaN</td>\n",
       "    </tr>\n",
       "    <tr>\n",
       "      <th>8</th>\n",
       "      <td>det</td>\n",
       "      <td>https://publications.europa.eu/webapi/rdf/sparql</td>\n",
       "      <td>PREFIX skos: &lt;http://www.w3.org/2004/02/skos/c...</td>\n",
       "      <td>det-detLevel1-detLevel2</td>\n",
       "      <td>det-det_uri;detLevel1-detLevel1_uri;detLevel2-...</td>\n",
       "      <td>Digital Europa Thesaurus</td>\n",
       "      <td>Digital Europa Thesaurus</td>\n",
       "      <td>TREE</td>\n",
       "      <td>det-DET;detLevel1-DET Level;detLevel2-DET Level</td>\n",
       "      <td>NaN</td>\n",
       "      <td>NaN</td>\n",
       "      <td>NaN</td>\n",
       "      <td>NaN</td>\n",
       "    </tr>\n",
       "    <tr>\n",
       "      <th>9</th>\n",
       "      <td>Eurovoc Concept</td>\n",
       "      <td>https://publications.europa.eu/webapi/rdf/sparql</td>\n",
       "      <td>PREFIX xsd: &lt;http://www.w3.org/2001/XMLSchema#...</td>\n",
       "      <td>eurovocConcept-workType-work</td>\n",
       "      <td>eurovocConcept-eurovocConcept_uri;workType-wor...</td>\n",
       "      <td>Eurovoc concept and work types</td>\n",
       "      <td>Eurovoc concepts and works by type</td>\n",
       "      <td>TREE</td>\n",
       "      <td>eurovocConcept-Eurovoc Concept;workType-Work T...</td>\n",
       "      <td>NaN</td>\n",
       "      <td>NaN</td>\n",
       "      <td>NaN</td>\n",
       "      <td>NaN</td>\n",
       "    </tr>\n",
       "    <tr>\n",
       "      <th>10</th>\n",
       "      <td>DET Level</td>\n",
       "      <td>https://publications.europa.eu/webapi/rdf/sparql</td>\n",
       "      <td>PREFIX xsd: &lt;http://www.w3.org/2001/XMLSchema#...</td>\n",
       "      <td>detLevel2-detLevel3</td>\n",
       "      <td>detLevel2-detLevel2_uri;detLevel3-detLevel3_uri</td>\n",
       "      <td>DET Children Level</td>\n",
       "      <td>DET Children Level</td>\n",
       "      <td>TREE</td>\n",
       "      <td>detLevel2-DET Level;detLevel3-DET Level</td>\n",
       "      <td>NaN</td>\n",
       "      <td>NaN</td>\n",
       "      <td>NaN</td>\n",
       "      <td>NaN</td>\n",
       "    </tr>\n",
       "    <tr>\n",
       "      <th>11</th>\n",
       "      <td>DET Level</td>\n",
       "      <td>https://publications.europa.eu/webapi/rdf/sparql</td>\n",
       "      <td>\\n    PREFIX xsd: &lt;http://www.w3.org/2001/XMLS...</td>\n",
       "      <td>detLevel1-eurovocConcept</td>\n",
       "      <td>detLevel1-detLevel1_uri;eurovocConcept-eurovoc...</td>\n",
       "      <td>DET Level to Eurovoc Concept</td>\n",
       "      <td>DET Level to Eurovoc Concept</td>\n",
       "      <td>TREE</td>\n",
       "      <td>detLevel1-DET Level;eurovocConcept-Eurovoc Con...</td>\n",
       "      <td>NaN</td>\n",
       "      <td>NaN</td>\n",
       "      <td>NaN</td>\n",
       "      <td>NaN</td>\n",
       "    </tr>\n",
       "    <tr>\n",
       "      <th>12</th>\n",
       "      <td>Continents</td>\n",
       "      <td>https://publications.europa.eu/webapi/rdf/sparql</td>\n",
       "      <td>\\n    PREFIX xsd: &lt;http://www.w3.org/2001/XMLS...</td>\n",
       "      <td>continent-continentName-country-language</td>\n",
       "      <td>continent-continent_uri;continentName-continen...</td>\n",
       "      <td>Languages by country and continent</td>\n",
       "      <td>Languages by country and continent</td>\n",
       "      <td>TREE</td>\n",
       "      <td>continent-Continents;continentName-Continent;c...</td>\n",
       "      <td>NaN</td>\n",
       "      <td>NaN</td>\n",
       "      <td>NaN</td>\n",
       "      <td>NaN</td>\n",
       "    </tr>\n",
       "    <tr>\n",
       "      <th>13</th>\n",
       "      <td>Continents</td>\n",
       "      <td>https://publications.europa.eu/webapi/rdf/sparql</td>\n",
       "      <td>PREFIX xsd: &lt;http://www.w3.org/2001/XMLSchema#...</td>\n",
       "      <td>continent-continentName-country-org</td>\n",
       "      <td>continent-continent_uri;continentName-continen...</td>\n",
       "      <td>Continents countries and organisations</td>\n",
       "      <td>Continents countries and organisations those c...</td>\n",
       "      <td>TREE</td>\n",
       "      <td>continent-Continents;continentName-Continent;c...</td>\n",
       "      <td>NaN</td>\n",
       "      <td>NaN</td>\n",
       "      <td>NaN</td>\n",
       "      <td>NaN</td>\n",
       "    </tr>\n",
       "    <tr>\n",
       "      <th>14</th>\n",
       "      <td>org</td>\n",
       "      <td>https://publications.europa.eu/webapi/rdf/sparql</td>\n",
       "      <td>PREFIX skos: &lt;http://www.w3.org/2004/02/skos/c...</td>\n",
       "      <td>org</td>\n",
       "      <td>org-org_desc;org-org_code;org-org_startDate;or...</td>\n",
       "      <td>Timeline organisations</td>\n",
       "      <td>Timeline organisations</td>\n",
       "      <td>TIMELINE</td>\n",
       "      <td>org-Organisation</td>\n",
       "      <td>NaN</td>\n",
       "      <td>NaN</td>\n",
       "      <td>NaN</td>\n",
       "      <td>NaN</td>\n",
       "    </tr>\n",
       "    <tr>\n",
       "      <th>15</th>\n",
       "      <td>eurun</td>\n",
       "      <td>https://publications.europa.eu/webapi/rdf/sparql</td>\n",
       "      <td>\\n    PREFIX xsd: &lt;http://www.w3.org/2001/XMLS...</td>\n",
       "      <td>eurun-corporateBody</td>\n",
       "      <td>eurun-eurun_uri;eurun-eurun_image;corporateBod...</td>\n",
       "      <td>WHOISWHO EURUN Suborganizations</td>\n",
       "      <td>WHOISWHO EURUN Suborganizations</td>\n",
       "      <td>TREE</td>\n",
       "      <td>eurun-European Union;corporateBody-corporateBody</td>\n",
       "      <td>NaN</td>\n",
       "      <td>corporateBody_country-dropdown;corporateBody_l...</td>\n",
       "      <td>corporateBody_country-Country;corporateBody_lo...</td>\n",
       "      <td>NaN</td>\n",
       "    </tr>\n",
       "    <tr>\n",
       "      <th>16</th>\n",
       "      <td>corporateBody</td>\n",
       "      <td>https://publications.europa.eu/webapi/rdf/sparql</td>\n",
       "      <td>\\nPREFIX xsd: &lt;http://www.w3.org/2001/XMLSchem...</td>\n",
       "      <td>corporateBody-directoryOrg</td>\n",
       "      <td>directoryOrg-directoryOrg_uri;directoryOrg-dir...</td>\n",
       "      <td>WHOISWHO Suborganizations</td>\n",
       "      <td>WHOISWHO Suborganizations</td>\n",
       "      <td>TREE</td>\n",
       "      <td>corporateBody-corporateBody;directoryOrg-Direc...</td>\n",
       "      <td>NaN</td>\n",
       "      <td>NaN</td>\n",
       "      <td>NaN</td>\n",
       "      <td>NaN</td>\n",
       "    </tr>\n",
       "    <tr>\n",
       "      <th>17</th>\n",
       "      <td>Directory Organization</td>\n",
       "      <td>https://publications.europa.eu/webapi/rdf/sparql</td>\n",
       "      <td>\\nPREFIX xsd: &lt;http://www.w3.org/2001/XMLSchem...</td>\n",
       "      <td>directoryOrg-membership</td>\n",
       "      <td>membership-membership_directoryOrg</td>\n",
       "      <td>WHOISWHO Membership</td>\n",
       "      <td>WHOISWHO Membership</td>\n",
       "      <td>TREE</td>\n",
       "      <td>directoryOrg-Directory Organization;membership...</td>\n",
       "      <td>NaN</td>\n",
       "      <td>NaN</td>\n",
       "      <td>NaN</td>\n",
       "      <td>NaN</td>\n",
       "    </tr>\n",
       "    <tr>\n",
       "      <th>18</th>\n",
       "      <td>Membership Type</td>\n",
       "      <td>https://publications.europa.eu/webapi/rdf/sparql</td>\n",
       "      <td>\\nPREFIX xsd: &lt;http://www.w3.org/2001/XMLSchem...</td>\n",
       "      <td>membership-person</td>\n",
       "      <td>membership-membership_uri;membership-membershi...</td>\n",
       "      <td>WHOISWHO Membership Type</td>\n",
       "      <td>WHOISWHO Membership Type</td>\n",
       "      <td>TREE</td>\n",
       "      <td>membership-Membership Type;person-Person</td>\n",
       "      <td>membership_directoryOrg</td>\n",
       "      <td>NaN</td>\n",
       "      <td>NaN</td>\n",
       "      <td>NaN</td>\n",
       "    </tr>\n",
       "    <tr>\n",
       "      <th>19</th>\n",
       "      <td>Person</td>\n",
       "      <td>https://query.wikidata.org/sparql</td>\n",
       "      <td>\\n    PREFIX xsd: &lt;http://www.w3.org/2001/XMLS...</td>\n",
       "      <td>person-article</td>\n",
       "      <td>article</td>\n",
       "      <td>WHOISWHO Wikipedia page</td>\n",
       "      <td>WHOISWHO Wikipedia page</td>\n",
       "      <td>WEBPAGE</td>\n",
       "      <td>article-Wikipedia Article</td>\n",
       "      <td>person_id</td>\n",
       "      <td>NaN</td>\n",
       "      <td>NaN</td>\n",
       "      <td>showWikipediaPage</td>\n",
       "    </tr>\n",
       "    <tr>\n",
       "      <th>20</th>\n",
       "      <td>opThemeMain</td>\n",
       "      <td>https://publications.europa.eu/webapi/rdf/sparql</td>\n",
       "      <td>\\n    PREFIX xsd: &lt;http://www.w3.org/2001/XMLS...</td>\n",
       "      <td>opThemeMain-opTheme</td>\n",
       "      <td>opThemeMain-opThemeMain_uri;opTheme-opTheme_uri</td>\n",
       "      <td>PUBLICATIONS - Publications by OP Theme</td>\n",
       "      <td>PUBLICATIONS - Publications by OP Theme</td>\n",
       "      <td>TREE</td>\n",
       "      <td>opThemeMain-Publications Themes;opTheme-OP Theme</td>\n",
       "      <td>NaN</td>\n",
       "      <td>NaN</td>\n",
       "      <td>NaN</td>\n",
       "      <td>NaN</td>\n",
       "    </tr>\n",
       "    <tr>\n",
       "      <th>21</th>\n",
       "      <td>OP Theme</td>\n",
       "      <td>https://publications.europa.eu/webapi/rdf/sparql</td>\n",
       "      <td>\\n        PREFIX xsd: &lt;http://www.w3.org/2001/...</td>\n",
       "      <td>opThemeParent-opThemeChild</td>\n",
       "      <td>opThemeParent-opThemeParent_uri;opThemeChild-o...</td>\n",
       "      <td>OP Themes children</td>\n",
       "      <td>OP Themes children</td>\n",
       "      <td>TREE</td>\n",
       "      <td>opThemeParent-OP Theme;opThemeChild-OP Theme</td>\n",
       "      <td>NaN</td>\n",
       "      <td>NaN</td>\n",
       "      <td>NaN</td>\n",
       "      <td>NaN</td>\n",
       "    </tr>\n",
       "    <tr>\n",
       "      <th>0</th>\n",
       "      <td>Publication Document</td>\n",
       "      <td>https://publications.europa.eu/webapi/rdf/sparql</td>\n",
       "      <td>\\nPREFIX xsd: &lt;http://www.w3.org/2001/XMLSchem...</td>\n",
       "      <td>expression-manifestation</td>\n",
       "      <td>expression-expression_uri;manifestation-manife...</td>\n",
       "      <td>Manifestation by Expression</td>\n",
       "      <td>Manifestation by Expression</td>\n",
       "      <td>TREE</td>\n",
       "      <td>expression-Publication Document;manifestation-...</td>\n",
       "      <td></td>\n",
       "      <td></td>\n",
       "      <td>manifestation_type-Manifestation Type</td>\n",
       "      <td></td>\n",
       "    </tr>\n",
       "    <tr>\n",
       "      <th>0</th>\n",
       "      <td>corporateBody</td>\n",
       "      <td>https://publications.europa.eu/webapi/rdf/sparql</td>\n",
       "      <td>\\nPREFIX xsd: &lt;http://www.w3.org/2001/XMLSchem...</td>\n",
       "      <td>corporateBody-publicationDocument</td>\n",
       "      <td>corporateBody-corporateBody_uri;publicationDoc...</td>\n",
       "      <td>Publications by CorporateBody</td>\n",
       "      <td>Publications by CorporateBody</td>\n",
       "      <td>TREE</td>\n",
       "      <td>corporateBody-corporateBody;publicationDocumen...</td>\n",
       "      <td>corporateBody_opTheme</td>\n",
       "      <td></td>\n",
       "      <td></td>\n",
       "      <td></td>\n",
       "    </tr>\n",
       "  </tbody>\n",
       "</table>\n",
       "</div>"
      ],
      "text/plain": [
       "                     CLASS                                               URL  \\\n",
       "0               Membership  https://publications.europa.eu/webapi/rdf/sparql   \n",
       "1   Directory Organization  https://publications.europa.eu/webapi/rdf/sparql   \n",
       "2                 OP Theme  https://publications.europa.eu/webapi/rdf/sparql   \n",
       "3                  eurovoc  https://publications.europa.eu/webapi/rdf/sparql   \n",
       "4          Eurovoc Concept  https://publications.europa.eu/webapi/rdf/sparql   \n",
       "5                     nuts  https://publications.europa.eu/webapi/rdf/sparql   \n",
       "6                 taxonomy  https://publications.europa.eu/webapi/rdf/sparql   \n",
       "7           Taxonomy Level  https://publications.europa.eu/webapi/rdf/sparql   \n",
       "8                      det  https://publications.europa.eu/webapi/rdf/sparql   \n",
       "9          Eurovoc Concept  https://publications.europa.eu/webapi/rdf/sparql   \n",
       "10               DET Level  https://publications.europa.eu/webapi/rdf/sparql   \n",
       "11               DET Level  https://publications.europa.eu/webapi/rdf/sparql   \n",
       "12              Continents  https://publications.europa.eu/webapi/rdf/sparql   \n",
       "13              Continents  https://publications.europa.eu/webapi/rdf/sparql   \n",
       "14                     org  https://publications.europa.eu/webapi/rdf/sparql   \n",
       "15                   eurun  https://publications.europa.eu/webapi/rdf/sparql   \n",
       "16           corporateBody  https://publications.europa.eu/webapi/rdf/sparql   \n",
       "17  Directory Organization  https://publications.europa.eu/webapi/rdf/sparql   \n",
       "18         Membership Type  https://publications.europa.eu/webapi/rdf/sparql   \n",
       "19                  Person                 https://query.wikidata.org/sparql   \n",
       "20             opThemeMain  https://publications.europa.eu/webapi/rdf/sparql   \n",
       "21                OP Theme  https://publications.europa.eu/webapi/rdf/sparql   \n",
       "0     Publication Document  https://publications.europa.eu/webapi/rdf/sparql   \n",
       "0            corporateBody  https://publications.europa.eu/webapi/rdf/sparql   \n",
       "\n",
       "                                                QUERY  \\\n",
       "0   \\n    PREFIX xsd: <http://www.w3.org/2001/XMLS...   \n",
       "1   \\nPREFIX xsd: <http://www.w3.org/2001/XMLSchem...   \n",
       "2   \\n        PREFIX xsd: <http://www.w3.org/2001/...   \n",
       "3   PREFIX xsd: <http://www.w3.org/2001/XMLSchema#...   \n",
       "4   PREFIX rdfs: <http://www.w3.org/2000/01/rdf-sc...   \n",
       "5   PREFIX xsd: <http://www.w3.org/2001/XMLSchema#...   \n",
       "6   PREFIX skos: <http://www.w3.org/2004/02/skos/c...   \n",
       "7   PREFIX xsd: <http://www.w3.org/2001/XMLSchema#...   \n",
       "8   PREFIX skos: <http://www.w3.org/2004/02/skos/c...   \n",
       "9   PREFIX xsd: <http://www.w3.org/2001/XMLSchema#...   \n",
       "10  PREFIX xsd: <http://www.w3.org/2001/XMLSchema#...   \n",
       "11  \\n    PREFIX xsd: <http://www.w3.org/2001/XMLS...   \n",
       "12  \\n    PREFIX xsd: <http://www.w3.org/2001/XMLS...   \n",
       "13  PREFIX xsd: <http://www.w3.org/2001/XMLSchema#...   \n",
       "14  PREFIX skos: <http://www.w3.org/2004/02/skos/c...   \n",
       "15  \\n    PREFIX xsd: <http://www.w3.org/2001/XMLS...   \n",
       "16  \\nPREFIX xsd: <http://www.w3.org/2001/XMLSchem...   \n",
       "17  \\nPREFIX xsd: <http://www.w3.org/2001/XMLSchem...   \n",
       "18  \\nPREFIX xsd: <http://www.w3.org/2001/XMLSchem...   \n",
       "19  \\n    PREFIX xsd: <http://www.w3.org/2001/XMLS...   \n",
       "20  \\n    PREFIX xsd: <http://www.w3.org/2001/XMLS...   \n",
       "21  \\n        PREFIX xsd: <http://www.w3.org/2001/...   \n",
       "0   \\nPREFIX xsd: <http://www.w3.org/2001/XMLSchem...   \n",
       "0   \\nPREFIX xsd: <http://www.w3.org/2001/XMLSchem...   \n",
       "\n",
       "                                            HIERARCHY  \\\n",
       "0                                   membership-person   \n",
       "1                          directoryOrg-directoryOrg2   \n",
       "2                               opTheme-corporateBody   \n",
       "3   eurovoc-eurovocDomain-eurovocThesauri-eurovocC...   \n",
       "4                             eurovocConcept-aligment   \n",
       "5    nuts-nutsLevel0-nutsLevel1-nutsLevel2-nutsLevel3   \n",
       "6                taxonomy-taxonomyType-taxonomyLevel1   \n",
       "7                       taxonomyLevel1-taxonomyLevel2   \n",
       "8                             det-detLevel1-detLevel2   \n",
       "9                        eurovocConcept-workType-work   \n",
       "10                                detLevel2-detLevel3   \n",
       "11                           detLevel1-eurovocConcept   \n",
       "12           continent-continentName-country-language   \n",
       "13                continent-continentName-country-org   \n",
       "14                                                org   \n",
       "15                                eurun-corporateBody   \n",
       "16                         corporateBody-directoryOrg   \n",
       "17                            directoryOrg-membership   \n",
       "18                                  membership-person   \n",
       "19                                     person-article   \n",
       "20                                opThemeMain-opTheme   \n",
       "21                         opThemeParent-opThemeChild   \n",
       "0                            expression-manifestation   \n",
       "0                   corporateBody-publicationDocument   \n",
       "\n",
       "                                           PROPERTIES  \\\n",
       "0   person-person_uri;person-person_gender;person-...   \n",
       "1   directoryOrg2-directoryOrg2_uri;directoryOrg2-...   \n",
       "2   opTheme-opTheme_uri;corporateBody-corporateBod...   \n",
       "3   eurovoc-eurovoc_uri;eurovocDomain-eurovocDomai...   \n",
       "4                   eurovocConcept-eurovocConcept_uri   \n",
       "5   nutsLevel0-nutsLevel0_uri;nutsLevel1-nutsLevel...   \n",
       "6   taxonomy-taxonomy_def;taxonomyType-taxonomyTyp...   \n",
       "7   taxonomyLevel1-taxonomyLevel1_uri;taxonomyLeve...   \n",
       "8   det-det_uri;detLevel1-detLevel1_uri;detLevel2-...   \n",
       "9   eurovocConcept-eurovocConcept_uri;workType-wor...   \n",
       "10    detLevel2-detLevel2_uri;detLevel3-detLevel3_uri   \n",
       "11  detLevel1-detLevel1_uri;eurovocConcept-eurovoc...   \n",
       "12  continent-continent_uri;continentName-continen...   \n",
       "13  continent-continent_uri;continentName-continen...   \n",
       "14  org-org_desc;org-org_code;org-org_startDate;or...   \n",
       "15  eurun-eurun_uri;eurun-eurun_image;corporateBod...   \n",
       "16  directoryOrg-directoryOrg_uri;directoryOrg-dir...   \n",
       "17                 membership-membership_directoryOrg   \n",
       "18  membership-membership_uri;membership-membershi...   \n",
       "19                                            article   \n",
       "20    opThemeMain-opThemeMain_uri;opTheme-opTheme_uri   \n",
       "21  opThemeParent-opThemeParent_uri;opThemeChild-o...   \n",
       "0   expression-expression_uri;manifestation-manife...   \n",
       "0   corporateBody-corporateBody_uri;publicationDoc...   \n",
       "\n",
       "                                     OPTION  \\\n",
       "0                           WHOISWHO Person   \n",
       "1        WHOISWHO directoryOrg second level   \n",
       "2          OP Themes and publication author   \n",
       "3    Eurovoc domains, thesauri and concepts   \n",
       "4             Eurovoc concept and aligments   \n",
       "5                                 NUTS Tree   \n",
       "6                                Taxonomies   \n",
       "7                   Taxonomy Level Children   \n",
       "8                  Digital Europa Thesaurus   \n",
       "9            Eurovoc concept and work types   \n",
       "10                       DET Children Level   \n",
       "11             DET Level to Eurovoc Concept   \n",
       "12       Languages by country and continent   \n",
       "13   Continents countries and organisations   \n",
       "14                   Timeline organisations   \n",
       "15          WHOISWHO EURUN Suborganizations   \n",
       "16                WHOISWHO Suborganizations   \n",
       "17                      WHOISWHO Membership   \n",
       "18                 WHOISWHO Membership Type   \n",
       "19                  WHOISWHO Wikipedia page   \n",
       "20  PUBLICATIONS - Publications by OP Theme   \n",
       "21                       OP Themes children   \n",
       "0               Manifestation by Expression   \n",
       "0             Publications by CorporateBody   \n",
       "\n",
       "                                          OPTION_TEXT      TYPE  \\\n",
       "0                                     WHOISWHO Person      TREE   \n",
       "1                  WHOISWHO directoryOrg second level      TREE   \n",
       "2                    OP Themes and publication author      TREE   \n",
       "3             Eurovoc concepts by thesauri and domain      TREE   \n",
       "4             Eurovoc concepts and external aligments      TREE   \n",
       "5                                           NUTS Tree      TREE   \n",
       "6                                          Taxonomies      TREE   \n",
       "7                             Taxonomy Level Children      TREE   \n",
       "8                            Digital Europa Thesaurus      TREE   \n",
       "9                  Eurovoc concepts and works by type      TREE   \n",
       "10                                 DET Children Level      TREE   \n",
       "11                       DET Level to Eurovoc Concept      TREE   \n",
       "12                 Languages by country and continent      TREE   \n",
       "13  Continents countries and organisations those c...      TREE   \n",
       "14                             Timeline organisations  TIMELINE   \n",
       "15                    WHOISWHO EURUN Suborganizations      TREE   \n",
       "16                          WHOISWHO Suborganizations      TREE   \n",
       "17                                WHOISWHO Membership      TREE   \n",
       "18                           WHOISWHO Membership Type      TREE   \n",
       "19                            WHOISWHO Wikipedia page   WEBPAGE   \n",
       "20            PUBLICATIONS - Publications by OP Theme      TREE   \n",
       "21                                 OP Themes children      TREE   \n",
       "0                         Manifestation by Expression      TREE   \n",
       "0                       Publications by CorporateBody      TREE   \n",
       "\n",
       "                                              CLASSES  \\\n",
       "0                 membership-Membership;person-Person   \n",
       "1   directoryOrg-Directory Organization;directoryO...   \n",
       "2        opTheme-OP Theme;corporateBody-corporateBody   \n",
       "3   eurovoc-Eurovoc;eurovocDomain-Eurovoc Domain;e...   \n",
       "4    eurovocConcept-Eurovoc Concept;aligment-Aligment   \n",
       "5   nuts-NUTS Classification;nutsLevel0-NUTS Level...   \n",
       "6   taxonomy-Taxonomies Classification;taxonomyTyp...   \n",
       "7   taxonomyLevel1-Taxonomy Level;taxonomyLevel2-T...   \n",
       "8     det-DET;detLevel1-DET Level;detLevel2-DET Level   \n",
       "9   eurovocConcept-Eurovoc Concept;workType-Work T...   \n",
       "10            detLevel2-DET Level;detLevel3-DET Level   \n",
       "11  detLevel1-DET Level;eurovocConcept-Eurovoc Con...   \n",
       "12  continent-Continents;continentName-Continent;c...   \n",
       "13  continent-Continents;continentName-Continent;c...   \n",
       "14                                   org-Organisation   \n",
       "15   eurun-European Union;corporateBody-corporateBody   \n",
       "16  corporateBody-corporateBody;directoryOrg-Direc...   \n",
       "17  directoryOrg-Directory Organization;membership...   \n",
       "18           membership-Membership Type;person-Person   \n",
       "19                          article-Wikipedia Article   \n",
       "20   opThemeMain-Publications Themes;opTheme-OP Theme   \n",
       "21       opThemeParent-OP Theme;opThemeChild-OP Theme   \n",
       "0   expression-Publication Document;manifestation-...   \n",
       "0   corporateBody-corporateBody;publicationDocumen...   \n",
       "\n",
       "                 PARAMETERS  \\\n",
       "0                       NaN   \n",
       "1                       NaN   \n",
       "2                       NaN   \n",
       "3                       NaN   \n",
       "4                       NaN   \n",
       "5                       NaN   \n",
       "6                       NaN   \n",
       "7                       NaN   \n",
       "8                       NaN   \n",
       "9                       NaN   \n",
       "10                      NaN   \n",
       "11                      NaN   \n",
       "12                      NaN   \n",
       "13                      NaN   \n",
       "14                      NaN   \n",
       "15                      NaN   \n",
       "16                      NaN   \n",
       "17                      NaN   \n",
       "18  membership_directoryOrg   \n",
       "19                person_id   \n",
       "20                      NaN   \n",
       "21                      NaN   \n",
       "0                             \n",
       "0     corporateBody_opTheme   \n",
       "\n",
       "                                              FILTERS  \\\n",
       "0                                                 NaN   \n",
       "1                                                 NaN   \n",
       "2                                                 NaN   \n",
       "3                                                 NaN   \n",
       "4                                                 NaN   \n",
       "5                                                 NaN   \n",
       "6                                                 NaN   \n",
       "7                                                 NaN   \n",
       "8                                                 NaN   \n",
       "9                                                 NaN   \n",
       "10                                                NaN   \n",
       "11                                                NaN   \n",
       "12                                                NaN   \n",
       "13                                                NaN   \n",
       "14                                                NaN   \n",
       "15  corporateBody_country-dropdown;corporateBody_l...   \n",
       "16                                                NaN   \n",
       "17                                                NaN   \n",
       "18                                                NaN   \n",
       "19                                                NaN   \n",
       "20                                                NaN   \n",
       "21                                                NaN   \n",
       "0                                                       \n",
       "0                                                       \n",
       "\n",
       "                                              TOOLTIP           FUNCTION  \n",
       "0                                                 NaN                NaN  \n",
       "1                                                 NaN                NaN  \n",
       "2                                                 NaN                NaN  \n",
       "3                                                 NaN                NaN  \n",
       "4                                                 NaN                NaN  \n",
       "5                                                 NaN                NaN  \n",
       "6                                                 NaN                NaN  \n",
       "7                                                 NaN                NaN  \n",
       "8                                                 NaN                NaN  \n",
       "9                                                 NaN                NaN  \n",
       "10                                                NaN                NaN  \n",
       "11                                                NaN                NaN  \n",
       "12                                                NaN                NaN  \n",
       "13                                                NaN                NaN  \n",
       "14                                                NaN                NaN  \n",
       "15  corporateBody_country-Country;corporateBody_lo...                NaN  \n",
       "16                                                NaN                NaN  \n",
       "17                                                NaN                NaN  \n",
       "18                                                NaN                NaN  \n",
       "19                                                NaN  showWikipediaPage  \n",
       "20                                                NaN                NaN  \n",
       "21                                                NaN                NaN  \n",
       "0               manifestation_type-Manifestation Type                     \n",
       "0                                                                         "
      ]
     },
     "execution_count": 73,
     "metadata": {},
     "output_type": "execute_result"
    }
   ],
   "source": [
    "df"
   ]
  },
  {
   "cell_type": "markdown",
   "metadata": {},
   "source": [
    "### PUBLICATIONS - OP Theme and Eurovoc concept (NOT IN FILE)"
   ]
  },
  {
   "cell_type": "code",
   "execution_count": 91,
   "metadata": {},
   "outputs": [],
   "source": [
    "#df=df[df[\"OPTION\"]!=\"Eurovoc Concepts by OP Themes\"]"
   ]
  },
  {
   "cell_type": "code",
   "execution_count": 74,
   "metadata": {},
   "outputs": [],
   "source": [
    "url=\"https://publications.europa.eu/webapi/rdf/sparql\""
   ]
  },
  {
   "cell_type": "code",
   "execution_count": 75,
   "metadata": {},
   "outputs": [],
   "source": [
    "className=\"OP Theme\""
   ]
  },
  {
   "cell_type": "code",
   "execution_count": 76,
   "metadata": {},
   "outputs": [],
   "source": [
    "hierarchy=\"opTheme-eurovocConcept\""
   ]
  },
  {
   "cell_type": "code",
   "execution_count": 77,
   "metadata": {},
   "outputs": [],
   "source": [
    "classes=\"opTheme-OP Theme;eurovocConcept-Eurovoc Concept\""
   ]
  },
  {
   "cell_type": "code",
   "execution_count": 78,
   "metadata": {},
   "outputs": [],
   "source": [
    "properties=\"opTheme-opTheme_uri;eurovocConcept-eurovocConcept_uri\""
   ]
  },
  {
   "cell_type": "code",
   "execution_count": 79,
   "metadata": {},
   "outputs": [],
   "source": [
    "option=\"Eurovoc Concepts by OP Themes\""
   ]
  },
  {
   "cell_type": "code",
   "execution_count": 80,
   "metadata": {},
   "outputs": [],
   "source": [
    "option_text=\"Eurovoc Concepts by OP Themes\""
   ]
  },
  {
   "cell_type": "code",
   "execution_count": 81,
   "metadata": {},
   "outputs": [],
   "source": [
    "query=\"\"\"\n",
    "    PREFIX xsd: <http://www.w3.org/2001/XMLSchema#> \n",
    "    PREFIX skos: <http://www.w3.org/2004/02/skos/core#>\n",
    "    PREFIX cdm: <http://publications.europa.eu/ontology/cdm#>\n",
    "            SELECT DISTINCT ?opTheme ?opTheme_uri ?eurovocConcept ?eurovocConcept_uri\n",
    "            where {{?publicationDocument_uri cdm:publication_general_is_about_concept_op_theme ?opTheme_uri;\n",
    "                       cdm:work_is_about_concept_eurovoc ?eurovocConcept_uri.\n",
    "                    ?opTheme_uri skos:prefLabel ?opTheme.\n",
    "                    ?eurovocConcept_uri skos:prefLabel ?eurovocConcept.\n",
    "                    } \n",
    "                   filter(?opTheme_uri=<PARAMETER>)\n",
    "                   FILTER(langMatches(lang(?eurovocConcept), \"en\")).\n",
    "                   FILTER(langMatches(lang(?opTheme), \"en\")).\n",
    "                   }ORDER BY ?opTheme ?eurovocConcept\n",
    "    \"\"\""
   ]
  },
  {
   "cell_type": "code",
   "execution_count": 82,
   "metadata": {},
   "outputs": [],
   "source": [
    "rowType=\"TREE\""
   ]
  },
  {
   "cell_type": "code",
   "execution_count": 83,
   "metadata": {},
   "outputs": [],
   "source": [
    "parameters=\"\""
   ]
  },
  {
   "cell_type": "code",
   "execution_count": 84,
   "metadata": {},
   "outputs": [],
   "source": [
    "tooltip=\"\""
   ]
  },
  {
   "cell_type": "code",
   "execution_count": 85,
   "metadata": {},
   "outputs": [],
   "source": [
    "filters=\"\""
   ]
  },
  {
   "cell_type": "code",
   "execution_count": 86,
   "metadata": {},
   "outputs": [],
   "source": [
    "function=\"\""
   ]
  },
  {
   "cell_type": "code",
   "execution_count": 87,
   "metadata": {},
   "outputs": [],
   "source": [
    "record={'CLASS':className, 'URL':url, 'QUERY':query, 'HIERARCHY':hierarchy, 'PROPERTIES':properties,\n",
    "        'OPTION':option,'OPTION_TEXT':option_text,'TYPE':rowType, 'CLASSES':classes, 'PARAMETERS':parameters, 'FILTERS':filters, 'TOOLTIP':tooltip,\n",
    "       'FUNCTION':function}"
   ]
  },
  {
   "cell_type": "code",
   "execution_count": 88,
   "metadata": {},
   "outputs": [],
   "source": [
    "df_record=pd.DataFrame([record])"
   ]
  },
  {
   "cell_type": "code",
   "execution_count": 89,
   "metadata": {},
   "outputs": [],
   "source": [
    "df=pd.concat([df,df_record])"
   ]
  },
  {
   "cell_type": "markdown",
   "metadata": {},
   "source": [
    "### PUBLICATIONS - Publications by Eurovoc concept (NOT IN FILE)"
   ]
  },
  {
   "cell_type": "code",
   "execution_count": 179,
   "metadata": {},
   "outputs": [],
   "source": [
    "#df=df[df[\"OPTION\"]!=\"PUBLICATIONS - Eurovoc Concepts by OP Themes\"]"
   ]
  },
  {
   "cell_type": "code",
   "execution_count": 66,
   "metadata": {},
   "outputs": [],
   "source": [
    "url=\"https://publications.europa.eu/webapi/rdf/sparql\""
   ]
  },
  {
   "cell_type": "code",
   "execution_count": 67,
   "metadata": {},
   "outputs": [],
   "source": [
    "className=\"Eurovoc Concept\""
   ]
  },
  {
   "cell_type": "code",
   "execution_count": 68,
   "metadata": {},
   "outputs": [],
   "source": [
    "hierarchy=\"eurovocConcept\""
   ]
  },
  {
   "cell_type": "code",
   "execution_count": 69,
   "metadata": {},
   "outputs": [],
   "source": [
    "classes=\"opTheme-OP Theme;eurovocConcept-Eurovoc Concept\""
   ]
  },
  {
   "cell_type": "code",
   "execution_count": 70,
   "metadata": {},
   "outputs": [],
   "source": [
    "properties=\"opTheme-opTheme_uri;eurovocConcept-eurovocConcept_uri\""
   ]
  },
  {
   "cell_type": "code",
   "execution_count": 71,
   "metadata": {},
   "outputs": [],
   "source": [
    "option=\"PUBLICATIONS - Eurovoc Concepts by OP Themes\""
   ]
  },
  {
   "cell_type": "code",
   "execution_count": 72,
   "metadata": {},
   "outputs": [],
   "source": [
    "option_text=\"PUBLICATIONS - Eurovoc Concepts by OP Themes\""
   ]
  },
  {
   "cell_type": "code",
   "execution_count": 74,
   "metadata": {},
   "outputs": [],
   "source": [
    "query=\"\"\"\n",
    "    PREFIX xsd: <http://www.w3.org/2001/XMLSchema#> \n",
    "    PREFIX skos: <http://www.w3.org/2004/02/skos/core#>\n",
    "    PREFIX cdm: <http://publications.europa.eu/ontology/cdm#>\n",
    "            SELECT DISTINCT ?opTheme ?opTheme_uri ?eurovocConcept ?eurovocConcept_uri\n",
    "            where {{?publicationDocument_uri cdm:publication_general_is_about_concept_op_theme ?opTheme_uri;\n",
    "                       cdm:work_is_about_concept_eurovoc ?eurovocConcept_uri.\n",
    "                    ?opTheme_uri skos:prefLabel ?opTheme.\n",
    "                    ?eurovocConcept_uri skos:prefLabel ?eurovocConcept.\n",
    "                    } \n",
    "                   filter(?opTheme_uri=<PARAMETER>)\n",
    "                   FILTER(langMatches(lang(?eurovocConcept), \"en\")).\n",
    "                   FILTER(langMatches(lang(?opTheme), \"en\")).\n",
    "                   }ORDER BY ?opTheme ?eurovocConcept\n",
    "    \"\"\""
   ]
  },
  {
   "cell_type": "code",
   "execution_count": 75,
   "metadata": {},
   "outputs": [],
   "source": [
    "rowType=\"TREE\""
   ]
  },
  {
   "cell_type": "code",
   "execution_count": 83,
   "metadata": {},
   "outputs": [],
   "source": [
    "parameters=\"\""
   ]
  },
  {
   "cell_type": "code",
   "execution_count": 84,
   "metadata": {},
   "outputs": [],
   "source": [
    "tooltip=\"\""
   ]
  },
  {
   "cell_type": "code",
   "execution_count": 85,
   "metadata": {},
   "outputs": [],
   "source": [
    "filters=\"\""
   ]
  },
  {
   "cell_type": "code",
   "execution_count": 86,
   "metadata": {},
   "outputs": [],
   "source": [
    "function=\"\""
   ]
  },
  {
   "cell_type": "code",
   "execution_count": 87,
   "metadata": {},
   "outputs": [],
   "source": [
    "record={'CLASS':className, 'URL':url, 'QUERY':query, 'HIERARCHY':hierarchy, 'PROPERTIES':properties,\n",
    "        'OPTION':option,'OPTION_TEXT':option_text,'TYPE':rowType, 'CLASSES':classes, 'PARAMETERS':parameters, 'FILTERS':filters, 'TOOLTIP':tooltip,\n",
    "       'FUNCTION':function}"
   ]
  },
  {
   "cell_type": "code",
   "execution_count": 77,
   "metadata": {},
   "outputs": [],
   "source": [
    "df_record=pd.DataFrame([record])"
   ]
  },
  {
   "cell_type": "code",
   "execution_count": 78,
   "metadata": {},
   "outputs": [],
   "source": [
    "df=pd.concat([df,df_record])"
   ]
  },
  {
   "cell_type": "code",
   "execution_count": 72,
   "metadata": {},
   "outputs": [
    {
     "data": {
      "text/html": [
       "<div>\n",
       "<style scoped>\n",
       "    .dataframe tbody tr th:only-of-type {\n",
       "        vertical-align: middle;\n",
       "    }\n",
       "\n",
       "    .dataframe tbody tr th {\n",
       "        vertical-align: top;\n",
       "    }\n",
       "\n",
       "    .dataframe thead th {\n",
       "        text-align: right;\n",
       "    }\n",
       "</style>\n",
       "<table border=\"1\" class=\"dataframe\">\n",
       "  <thead>\n",
       "    <tr style=\"text-align: right;\">\n",
       "      <th></th>\n",
       "      <th>CLASS</th>\n",
       "      <th>URL</th>\n",
       "      <th>QUERY</th>\n",
       "      <th>HIERARCHY</th>\n",
       "      <th>PROPERTIES</th>\n",
       "      <th>OPTION</th>\n",
       "      <th>OPTION_TEXT</th>\n",
       "      <th>TYPE</th>\n",
       "      <th>CLASSES</th>\n",
       "      <th>PARAMETERS</th>\n",
       "      <th>FILTERS</th>\n",
       "      <th>TOOLTIP</th>\n",
       "      <th>FUNCTION</th>\n",
       "    </tr>\n",
       "  </thead>\n",
       "  <tbody>\n",
       "    <tr>\n",
       "      <th>0</th>\n",
       "      <td>Membership</td>\n",
       "      <td>https://publications.europa.eu/webapi/rdf/sparql</td>\n",
       "      <td>\\n    PREFIX xsd: &lt;http://www.w3.org/2001/XMLS...</td>\n",
       "      <td>membership-person</td>\n",
       "      <td>person-person_uri;person-person_gender;person-...</td>\n",
       "      <td>WHOISWHO Person</td>\n",
       "      <td>WHOISWHO Person</td>\n",
       "      <td>TREE</td>\n",
       "      <td>membership-Membership;person-Person</td>\n",
       "      <td>NaN</td>\n",
       "      <td>NaN</td>\n",
       "      <td>NaN</td>\n",
       "      <td>NaN</td>\n",
       "    </tr>\n",
       "    <tr>\n",
       "      <th>1</th>\n",
       "      <td>Directory Organization</td>\n",
       "      <td>https://publications.europa.eu/webapi/rdf/sparql</td>\n",
       "      <td>\\nPREFIX xsd: &lt;http://www.w3.org/2001/XMLSchem...</td>\n",
       "      <td>directoryOrg-directoryOrg2</td>\n",
       "      <td>directoryOrg2-directoryOrg2_uri;directoryOrg2-...</td>\n",
       "      <td>WHOISWHO directoryOrg second level</td>\n",
       "      <td>WHOISWHO directoryOrg second level</td>\n",
       "      <td>TREE</td>\n",
       "      <td>directoryOrg-Directory Organization;directoryO...</td>\n",
       "      <td>NaN</td>\n",
       "      <td>NaN</td>\n",
       "      <td>NaN</td>\n",
       "      <td>NaN</td>\n",
       "    </tr>\n",
       "    <tr>\n",
       "      <th>2</th>\n",
       "      <td>OP Theme</td>\n",
       "      <td>https://publications.europa.eu/webapi/rdf/sparql</td>\n",
       "      <td>\\n        PREFIX xsd: &lt;http://www.w3.org/2001/...</td>\n",
       "      <td>opTheme-corporateBody</td>\n",
       "      <td>opTheme-opTheme_uri;corporateBody-corporateBod...</td>\n",
       "      <td>OP Themes and publication author</td>\n",
       "      <td>OP Themes and publication author</td>\n",
       "      <td>TREE</td>\n",
       "      <td>opTheme-OP Theme;corporateBody-corporateBody</td>\n",
       "      <td>NaN</td>\n",
       "      <td>NaN</td>\n",
       "      <td>NaN</td>\n",
       "      <td>NaN</td>\n",
       "    </tr>\n",
       "    <tr>\n",
       "      <th>3</th>\n",
       "      <td>eurovoc</td>\n",
       "      <td>https://publications.europa.eu/webapi/rdf/sparql</td>\n",
       "      <td>PREFIX xsd: &lt;http://www.w3.org/2001/XMLSchema#...</td>\n",
       "      <td>eurovoc-eurovocDomain-eurovocThesauri-eurovocC...</td>\n",
       "      <td>eurovoc-eurovoc_uri;eurovocDomain-eurovocDomai...</td>\n",
       "      <td>Eurovoc domains, thesauri and concepts</td>\n",
       "      <td>Eurovoc concepts by thesauri and domain</td>\n",
       "      <td>TREE</td>\n",
       "      <td>eurovoc-Eurovoc;eurovocDomain-Eurovoc Domain;e...</td>\n",
       "      <td>NaN</td>\n",
       "      <td>NaN</td>\n",
       "      <td>NaN</td>\n",
       "      <td>NaN</td>\n",
       "    </tr>\n",
       "    <tr>\n",
       "      <th>4</th>\n",
       "      <td>Eurovoc Concept</td>\n",
       "      <td>https://publications.europa.eu/webapi/rdf/sparql</td>\n",
       "      <td>PREFIX rdfs: &lt;http://www.w3.org/2000/01/rdf-sc...</td>\n",
       "      <td>eurovocConcept-aligment</td>\n",
       "      <td>eurovocConcept-eurovocConcept_uri</td>\n",
       "      <td>Eurovoc concept and aligments</td>\n",
       "      <td>Eurovoc concepts and external aligments</td>\n",
       "      <td>TREE</td>\n",
       "      <td>eurovocConcept-Eurovoc Concept;aligment-Aligment</td>\n",
       "      <td>NaN</td>\n",
       "      <td>NaN</td>\n",
       "      <td>NaN</td>\n",
       "      <td>NaN</td>\n",
       "    </tr>\n",
       "    <tr>\n",
       "      <th>5</th>\n",
       "      <td>nuts</td>\n",
       "      <td>https://publications.europa.eu/webapi/rdf/sparql</td>\n",
       "      <td>PREFIX xsd: &lt;http://www.w3.org/2001/XMLSchema#...</td>\n",
       "      <td>nuts-nutsLevel0-nutsLevel1-nutsLevel2-nutsLevel3</td>\n",
       "      <td>nutsLevel0-nutsLevel0_uri;nutsLevel1-nutsLevel...</td>\n",
       "      <td>NUTS Tree</td>\n",
       "      <td>NUTS Tree</td>\n",
       "      <td>TREE</td>\n",
       "      <td>nuts-NUTS Classification;nutsLevel0-NUTS Level...</td>\n",
       "      <td>NaN</td>\n",
       "      <td>NaN</td>\n",
       "      <td>NaN</td>\n",
       "      <td>NaN</td>\n",
       "    </tr>\n",
       "    <tr>\n",
       "      <th>6</th>\n",
       "      <td>taxonomy</td>\n",
       "      <td>https://publications.europa.eu/webapi/rdf/sparql</td>\n",
       "      <td>PREFIX skos: &lt;http://www.w3.org/2004/02/skos/c...</td>\n",
       "      <td>taxonomy-taxonomyType-taxonomyLevel1</td>\n",
       "      <td>taxonomy-taxonomy_def;taxonomyType-taxonomyTyp...</td>\n",
       "      <td>Taxonomies</td>\n",
       "      <td>Taxonomies</td>\n",
       "      <td>TREE</td>\n",
       "      <td>taxonomy-Taxonomies Classification;taxonomyTyp...</td>\n",
       "      <td>NaN</td>\n",
       "      <td>NaN</td>\n",
       "      <td>NaN</td>\n",
       "      <td>NaN</td>\n",
       "    </tr>\n",
       "    <tr>\n",
       "      <th>7</th>\n",
       "      <td>Taxonomy Level</td>\n",
       "      <td>https://publications.europa.eu/webapi/rdf/sparql</td>\n",
       "      <td>PREFIX xsd: &lt;http://www.w3.org/2001/XMLSchema#...</td>\n",
       "      <td>taxonomyLevel1-taxonomyLevel2</td>\n",
       "      <td>taxonomyLevel1-taxonomyLevel1_uri;taxonomyLeve...</td>\n",
       "      <td>Taxonomy Level Children</td>\n",
       "      <td>Taxonomy Level Children</td>\n",
       "      <td>TREE</td>\n",
       "      <td>taxonomyLevel1-Taxonomy Level;taxonomyLevel2-T...</td>\n",
       "      <td>NaN</td>\n",
       "      <td>NaN</td>\n",
       "      <td>NaN</td>\n",
       "      <td>NaN</td>\n",
       "    </tr>\n",
       "    <tr>\n",
       "      <th>8</th>\n",
       "      <td>det</td>\n",
       "      <td>https://publications.europa.eu/webapi/rdf/sparql</td>\n",
       "      <td>PREFIX skos: &lt;http://www.w3.org/2004/02/skos/c...</td>\n",
       "      <td>det-detLevel1-detLevel2</td>\n",
       "      <td>det-det_uri;detLevel1-detLevel1_uri;detLevel2-...</td>\n",
       "      <td>Digital Europa Thesaurus</td>\n",
       "      <td>Digital Europa Thesaurus</td>\n",
       "      <td>TREE</td>\n",
       "      <td>det-DET;detLevel1-DET Level;detLevel2-DET Level</td>\n",
       "      <td>NaN</td>\n",
       "      <td>NaN</td>\n",
       "      <td>NaN</td>\n",
       "      <td>NaN</td>\n",
       "    </tr>\n",
       "    <tr>\n",
       "      <th>9</th>\n",
       "      <td>Eurovoc Concept</td>\n",
       "      <td>https://publications.europa.eu/webapi/rdf/sparql</td>\n",
       "      <td>PREFIX xsd: &lt;http://www.w3.org/2001/XMLSchema#...</td>\n",
       "      <td>eurovocConcept-workType-work</td>\n",
       "      <td>eurovocConcept-eurovocConcept_uri;workType-wor...</td>\n",
       "      <td>Eurovoc concept and work types</td>\n",
       "      <td>Eurovoc concepts and works by type</td>\n",
       "      <td>TREE</td>\n",
       "      <td>eurovocConcept-Eurovoc Concept;workType-Work T...</td>\n",
       "      <td>NaN</td>\n",
       "      <td>NaN</td>\n",
       "      <td>NaN</td>\n",
       "      <td>NaN</td>\n",
       "    </tr>\n",
       "    <tr>\n",
       "      <th>10</th>\n",
       "      <td>DET Level</td>\n",
       "      <td>https://publications.europa.eu/webapi/rdf/sparql</td>\n",
       "      <td>PREFIX xsd: &lt;http://www.w3.org/2001/XMLSchema#...</td>\n",
       "      <td>detLevel2-detLevel3</td>\n",
       "      <td>detLevel2-detLevel2_uri;detLevel3-detLevel3_uri</td>\n",
       "      <td>DET Children Level</td>\n",
       "      <td>DET Children Level</td>\n",
       "      <td>TREE</td>\n",
       "      <td>detLevel2-DET Level;detLevel3-DET Level</td>\n",
       "      <td>NaN</td>\n",
       "      <td>NaN</td>\n",
       "      <td>NaN</td>\n",
       "      <td>NaN</td>\n",
       "    </tr>\n",
       "    <tr>\n",
       "      <th>11</th>\n",
       "      <td>DET Level</td>\n",
       "      <td>https://publications.europa.eu/webapi/rdf/sparql</td>\n",
       "      <td>\\n    PREFIX xsd: &lt;http://www.w3.org/2001/XMLS...</td>\n",
       "      <td>detLevel1-eurovocConcept</td>\n",
       "      <td>detLevel1-detLevel1_uri;eurovocConcept-eurovoc...</td>\n",
       "      <td>DET Level to Eurovoc Concept</td>\n",
       "      <td>DET Level to Eurovoc Concept</td>\n",
       "      <td>TREE</td>\n",
       "      <td>detLevel1-DET Level;eurovocConcept-Eurovoc Con...</td>\n",
       "      <td>NaN</td>\n",
       "      <td>NaN</td>\n",
       "      <td>NaN</td>\n",
       "      <td>NaN</td>\n",
       "    </tr>\n",
       "    <tr>\n",
       "      <th>12</th>\n",
       "      <td>Continents</td>\n",
       "      <td>https://publications.europa.eu/webapi/rdf/sparql</td>\n",
       "      <td>\\n    PREFIX xsd: &lt;http://www.w3.org/2001/XMLS...</td>\n",
       "      <td>continent-continentName-country-language</td>\n",
       "      <td>continent-continent_uri;continentName-continen...</td>\n",
       "      <td>Languages by country and continent</td>\n",
       "      <td>Languages by country and continent</td>\n",
       "      <td>TREE</td>\n",
       "      <td>continent-Continents;continentName-Continent;c...</td>\n",
       "      <td>NaN</td>\n",
       "      <td>NaN</td>\n",
       "      <td>NaN</td>\n",
       "      <td>NaN</td>\n",
       "    </tr>\n",
       "    <tr>\n",
       "      <th>13</th>\n",
       "      <td>Continents</td>\n",
       "      <td>https://publications.europa.eu/webapi/rdf/sparql</td>\n",
       "      <td>PREFIX xsd: &lt;http://www.w3.org/2001/XMLSchema#...</td>\n",
       "      <td>continent-continentName-country-org</td>\n",
       "      <td>continent-continent_uri;continentName-continen...</td>\n",
       "      <td>Continents countries and organisations</td>\n",
       "      <td>Continents countries and organisations those c...</td>\n",
       "      <td>TREE</td>\n",
       "      <td>continent-Continents;continentName-Continent;c...</td>\n",
       "      <td>NaN</td>\n",
       "      <td>NaN</td>\n",
       "      <td>NaN</td>\n",
       "      <td>NaN</td>\n",
       "    </tr>\n",
       "    <tr>\n",
       "      <th>14</th>\n",
       "      <td>org</td>\n",
       "      <td>https://publications.europa.eu/webapi/rdf/sparql</td>\n",
       "      <td>PREFIX skos: &lt;http://www.w3.org/2004/02/skos/c...</td>\n",
       "      <td>org</td>\n",
       "      <td>org-org_desc;org-org_code;org-org_startDate;or...</td>\n",
       "      <td>Timeline organisations</td>\n",
       "      <td>Timeline organisations</td>\n",
       "      <td>TIMELINE</td>\n",
       "      <td>org-Organisation</td>\n",
       "      <td>NaN</td>\n",
       "      <td>NaN</td>\n",
       "      <td>NaN</td>\n",
       "      <td>NaN</td>\n",
       "    </tr>\n",
       "    <tr>\n",
       "      <th>15</th>\n",
       "      <td>eurun</td>\n",
       "      <td>https://publications.europa.eu/webapi/rdf/sparql</td>\n",
       "      <td>\\n    PREFIX xsd: &lt;http://www.w3.org/2001/XMLS...</td>\n",
       "      <td>eurun-corporateBody</td>\n",
       "      <td>eurun-eurun_uri;eurun-eurun_image;corporateBod...</td>\n",
       "      <td>WHOISWHO EURUN Suborganizations</td>\n",
       "      <td>WHOISWHO EURUN Suborganizations</td>\n",
       "      <td>TREE</td>\n",
       "      <td>eurun-European Union;corporateBody-corporateBody</td>\n",
       "      <td>NaN</td>\n",
       "      <td>corporateBody_country-dropdown;corporateBody_l...</td>\n",
       "      <td>corporateBody_country-Country;corporateBody_lo...</td>\n",
       "      <td>NaN</td>\n",
       "    </tr>\n",
       "    <tr>\n",
       "      <th>16</th>\n",
       "      <td>corporateBody</td>\n",
       "      <td>https://publications.europa.eu/webapi/rdf/sparql</td>\n",
       "      <td>\\nPREFIX xsd: &lt;http://www.w3.org/2001/XMLSchem...</td>\n",
       "      <td>corporateBody-directoryOrg</td>\n",
       "      <td>directoryOrg-directoryOrg_uri;directoryOrg-dir...</td>\n",
       "      <td>WHOISWHO Suborganizations</td>\n",
       "      <td>WHOISWHO Suborganizations</td>\n",
       "      <td>TREE</td>\n",
       "      <td>corporateBody-corporateBody;directoryOrg-Direc...</td>\n",
       "      <td>NaN</td>\n",
       "      <td>NaN</td>\n",
       "      <td>NaN</td>\n",
       "      <td>NaN</td>\n",
       "    </tr>\n",
       "    <tr>\n",
       "      <th>17</th>\n",
       "      <td>Directory Organization</td>\n",
       "      <td>https://publications.europa.eu/webapi/rdf/sparql</td>\n",
       "      <td>\\nPREFIX xsd: &lt;http://www.w3.org/2001/XMLSchem...</td>\n",
       "      <td>directoryOrg-membership</td>\n",
       "      <td>membership-membership_directoryOrg</td>\n",
       "      <td>WHOISWHO Membership</td>\n",
       "      <td>WHOISWHO Membership</td>\n",
       "      <td>TREE</td>\n",
       "      <td>directoryOrg-Directory Organization;membership...</td>\n",
       "      <td>NaN</td>\n",
       "      <td>NaN</td>\n",
       "      <td>NaN</td>\n",
       "      <td>NaN</td>\n",
       "    </tr>\n",
       "    <tr>\n",
       "      <th>18</th>\n",
       "      <td>Membership Type</td>\n",
       "      <td>https://publications.europa.eu/webapi/rdf/sparql</td>\n",
       "      <td>\\nPREFIX xsd: &lt;http://www.w3.org/2001/XMLSchem...</td>\n",
       "      <td>membership-person</td>\n",
       "      <td>membership-membership_uri;membership-membershi...</td>\n",
       "      <td>WHOISWHO Membership Type</td>\n",
       "      <td>WHOISWHO Membership Type</td>\n",
       "      <td>TREE</td>\n",
       "      <td>membership-Membership Type;person-Person</td>\n",
       "      <td>membership_directoryOrg</td>\n",
       "      <td>NaN</td>\n",
       "      <td>NaN</td>\n",
       "      <td>NaN</td>\n",
       "    </tr>\n",
       "    <tr>\n",
       "      <th>19</th>\n",
       "      <td>Person</td>\n",
       "      <td>https://query.wikidata.org/sparql</td>\n",
       "      <td>\\n    PREFIX xsd: &lt;http://www.w3.org/2001/XMLS...</td>\n",
       "      <td>person-article</td>\n",
       "      <td>article</td>\n",
       "      <td>WHOISWHO Wikipedia page</td>\n",
       "      <td>WHOISWHO Wikipedia page</td>\n",
       "      <td>WEBPAGE</td>\n",
       "      <td>article-Wikipedia Article</td>\n",
       "      <td>person_id</td>\n",
       "      <td>NaN</td>\n",
       "      <td>NaN</td>\n",
       "      <td>showWikipediaPage</td>\n",
       "    </tr>\n",
       "    <tr>\n",
       "      <th>20</th>\n",
       "      <td>opThemeMain</td>\n",
       "      <td>https://publications.europa.eu/webapi/rdf/sparql</td>\n",
       "      <td>\\n    PREFIX xsd: &lt;http://www.w3.org/2001/XMLS...</td>\n",
       "      <td>opThemeMain-opTheme</td>\n",
       "      <td>opThemeMain-opThemeMain_uri;opTheme-opTheme_uri</td>\n",
       "      <td>PUBLICATIONS - Publications by OP Theme</td>\n",
       "      <td>PUBLICATIONS - Publications by OP Theme</td>\n",
       "      <td>TREE</td>\n",
       "      <td>opThemeMain-Publications Themes;opTheme-OP Theme</td>\n",
       "      <td>NaN</td>\n",
       "      <td>NaN</td>\n",
       "      <td>NaN</td>\n",
       "      <td>NaN</td>\n",
       "    </tr>\n",
       "    <tr>\n",
       "      <th>21</th>\n",
       "      <td>OP Theme</td>\n",
       "      <td>https://publications.europa.eu/webapi/rdf/sparql</td>\n",
       "      <td>\\n        PREFIX xsd: &lt;http://www.w3.org/2001/...</td>\n",
       "      <td>opThemeParent-opThemeChild</td>\n",
       "      <td>opThemeParent-opThemeParent_uri;opThemeChild-o...</td>\n",
       "      <td>OP Themes children</td>\n",
       "      <td>OP Themes children</td>\n",
       "      <td>TREE</td>\n",
       "      <td>opThemeParent-OP Theme;opThemeChild-OP Theme</td>\n",
       "      <td>NaN</td>\n",
       "      <td>NaN</td>\n",
       "      <td>NaN</td>\n",
       "      <td>NaN</td>\n",
       "    </tr>\n",
       "    <tr>\n",
       "      <th>0</th>\n",
       "      <td>Publication Document</td>\n",
       "      <td>https://publications.europa.eu/webapi/rdf/sparql</td>\n",
       "      <td>\\nPREFIX xsd: &lt;http://www.w3.org/2001/XMLSchem...</td>\n",
       "      <td>expression-manifestation</td>\n",
       "      <td>expression-expression_uri;manifestation-manife...</td>\n",
       "      <td>Manifestation by Expression</td>\n",
       "      <td>Manifestation by Expression</td>\n",
       "      <td>TREE</td>\n",
       "      <td>expression-Publication Document;manifestation-...</td>\n",
       "      <td></td>\n",
       "      <td></td>\n",
       "      <td>manifestation_type-Manifestation Type</td>\n",
       "      <td></td>\n",
       "    </tr>\n",
       "    <tr>\n",
       "      <th>0</th>\n",
       "      <td>corporateBody</td>\n",
       "      <td>https://publications.europa.eu/webapi/rdf/sparql</td>\n",
       "      <td>\\nPREFIX xsd: &lt;http://www.w3.org/2001/XMLSchem...</td>\n",
       "      <td>corporateBody-publicationDocument</td>\n",
       "      <td>corporateBody-corporateBody_uri;publicationDoc...</td>\n",
       "      <td>Publications by CorporateBody</td>\n",
       "      <td>Publications by CorporateBody</td>\n",
       "      <td>TREE</td>\n",
       "      <td>corporateBody-corporateBody;publicationDocumen...</td>\n",
       "      <td>corporateBody_opTheme</td>\n",
       "      <td></td>\n",
       "      <td></td>\n",
       "      <td></td>\n",
       "    </tr>\n",
       "  </tbody>\n",
       "</table>\n",
       "</div>"
      ],
      "text/plain": [
       "                     CLASS                                               URL  \\\n",
       "0               Membership  https://publications.europa.eu/webapi/rdf/sparql   \n",
       "1   Directory Organization  https://publications.europa.eu/webapi/rdf/sparql   \n",
       "2                 OP Theme  https://publications.europa.eu/webapi/rdf/sparql   \n",
       "3                  eurovoc  https://publications.europa.eu/webapi/rdf/sparql   \n",
       "4          Eurovoc Concept  https://publications.europa.eu/webapi/rdf/sparql   \n",
       "5                     nuts  https://publications.europa.eu/webapi/rdf/sparql   \n",
       "6                 taxonomy  https://publications.europa.eu/webapi/rdf/sparql   \n",
       "7           Taxonomy Level  https://publications.europa.eu/webapi/rdf/sparql   \n",
       "8                      det  https://publications.europa.eu/webapi/rdf/sparql   \n",
       "9          Eurovoc Concept  https://publications.europa.eu/webapi/rdf/sparql   \n",
       "10               DET Level  https://publications.europa.eu/webapi/rdf/sparql   \n",
       "11               DET Level  https://publications.europa.eu/webapi/rdf/sparql   \n",
       "12              Continents  https://publications.europa.eu/webapi/rdf/sparql   \n",
       "13              Continents  https://publications.europa.eu/webapi/rdf/sparql   \n",
       "14                     org  https://publications.europa.eu/webapi/rdf/sparql   \n",
       "15                   eurun  https://publications.europa.eu/webapi/rdf/sparql   \n",
       "16           corporateBody  https://publications.europa.eu/webapi/rdf/sparql   \n",
       "17  Directory Organization  https://publications.europa.eu/webapi/rdf/sparql   \n",
       "18         Membership Type  https://publications.europa.eu/webapi/rdf/sparql   \n",
       "19                  Person                 https://query.wikidata.org/sparql   \n",
       "20             opThemeMain  https://publications.europa.eu/webapi/rdf/sparql   \n",
       "21                OP Theme  https://publications.europa.eu/webapi/rdf/sparql   \n",
       "0     Publication Document  https://publications.europa.eu/webapi/rdf/sparql   \n",
       "0            corporateBody  https://publications.europa.eu/webapi/rdf/sparql   \n",
       "\n",
       "                                                QUERY  \\\n",
       "0   \\n    PREFIX xsd: <http://www.w3.org/2001/XMLS...   \n",
       "1   \\nPREFIX xsd: <http://www.w3.org/2001/XMLSchem...   \n",
       "2   \\n        PREFIX xsd: <http://www.w3.org/2001/...   \n",
       "3   PREFIX xsd: <http://www.w3.org/2001/XMLSchema#...   \n",
       "4   PREFIX rdfs: <http://www.w3.org/2000/01/rdf-sc...   \n",
       "5   PREFIX xsd: <http://www.w3.org/2001/XMLSchema#...   \n",
       "6   PREFIX skos: <http://www.w3.org/2004/02/skos/c...   \n",
       "7   PREFIX xsd: <http://www.w3.org/2001/XMLSchema#...   \n",
       "8   PREFIX skos: <http://www.w3.org/2004/02/skos/c...   \n",
       "9   PREFIX xsd: <http://www.w3.org/2001/XMLSchema#...   \n",
       "10  PREFIX xsd: <http://www.w3.org/2001/XMLSchema#...   \n",
       "11  \\n    PREFIX xsd: <http://www.w3.org/2001/XMLS...   \n",
       "12  \\n    PREFIX xsd: <http://www.w3.org/2001/XMLS...   \n",
       "13  PREFIX xsd: <http://www.w3.org/2001/XMLSchema#...   \n",
       "14  PREFIX skos: <http://www.w3.org/2004/02/skos/c...   \n",
       "15  \\n    PREFIX xsd: <http://www.w3.org/2001/XMLS...   \n",
       "16  \\nPREFIX xsd: <http://www.w3.org/2001/XMLSchem...   \n",
       "17  \\nPREFIX xsd: <http://www.w3.org/2001/XMLSchem...   \n",
       "18  \\nPREFIX xsd: <http://www.w3.org/2001/XMLSchem...   \n",
       "19  \\n    PREFIX xsd: <http://www.w3.org/2001/XMLS...   \n",
       "20  \\n    PREFIX xsd: <http://www.w3.org/2001/XMLS...   \n",
       "21  \\n        PREFIX xsd: <http://www.w3.org/2001/...   \n",
       "0   \\nPREFIX xsd: <http://www.w3.org/2001/XMLSchem...   \n",
       "0   \\nPREFIX xsd: <http://www.w3.org/2001/XMLSchem...   \n",
       "\n",
       "                                            HIERARCHY  \\\n",
       "0                                   membership-person   \n",
       "1                          directoryOrg-directoryOrg2   \n",
       "2                               opTheme-corporateBody   \n",
       "3   eurovoc-eurovocDomain-eurovocThesauri-eurovocC...   \n",
       "4                             eurovocConcept-aligment   \n",
       "5    nuts-nutsLevel0-nutsLevel1-nutsLevel2-nutsLevel3   \n",
       "6                taxonomy-taxonomyType-taxonomyLevel1   \n",
       "7                       taxonomyLevel1-taxonomyLevel2   \n",
       "8                             det-detLevel1-detLevel2   \n",
       "9                        eurovocConcept-workType-work   \n",
       "10                                detLevel2-detLevel3   \n",
       "11                           detLevel1-eurovocConcept   \n",
       "12           continent-continentName-country-language   \n",
       "13                continent-continentName-country-org   \n",
       "14                                                org   \n",
       "15                                eurun-corporateBody   \n",
       "16                         corporateBody-directoryOrg   \n",
       "17                            directoryOrg-membership   \n",
       "18                                  membership-person   \n",
       "19                                     person-article   \n",
       "20                                opThemeMain-opTheme   \n",
       "21                         opThemeParent-opThemeChild   \n",
       "0                            expression-manifestation   \n",
       "0                   corporateBody-publicationDocument   \n",
       "\n",
       "                                           PROPERTIES  \\\n",
       "0   person-person_uri;person-person_gender;person-...   \n",
       "1   directoryOrg2-directoryOrg2_uri;directoryOrg2-...   \n",
       "2   opTheme-opTheme_uri;corporateBody-corporateBod...   \n",
       "3   eurovoc-eurovoc_uri;eurovocDomain-eurovocDomai...   \n",
       "4                   eurovocConcept-eurovocConcept_uri   \n",
       "5   nutsLevel0-nutsLevel0_uri;nutsLevel1-nutsLevel...   \n",
       "6   taxonomy-taxonomy_def;taxonomyType-taxonomyTyp...   \n",
       "7   taxonomyLevel1-taxonomyLevel1_uri;taxonomyLeve...   \n",
       "8   det-det_uri;detLevel1-detLevel1_uri;detLevel2-...   \n",
       "9   eurovocConcept-eurovocConcept_uri;workType-wor...   \n",
       "10    detLevel2-detLevel2_uri;detLevel3-detLevel3_uri   \n",
       "11  detLevel1-detLevel1_uri;eurovocConcept-eurovoc...   \n",
       "12  continent-continent_uri;continentName-continen...   \n",
       "13  continent-continent_uri;continentName-continen...   \n",
       "14  org-org_desc;org-org_code;org-org_startDate;or...   \n",
       "15  eurun-eurun_uri;eurun-eurun_image;corporateBod...   \n",
       "16  directoryOrg-directoryOrg_uri;directoryOrg-dir...   \n",
       "17                 membership-membership_directoryOrg   \n",
       "18  membership-membership_uri;membership-membershi...   \n",
       "19                                            article   \n",
       "20    opThemeMain-opThemeMain_uri;opTheme-opTheme_uri   \n",
       "21  opThemeParent-opThemeParent_uri;opThemeChild-o...   \n",
       "0   expression-expression_uri;manifestation-manife...   \n",
       "0   corporateBody-corporateBody_uri;publicationDoc...   \n",
       "\n",
       "                                     OPTION  \\\n",
       "0                           WHOISWHO Person   \n",
       "1        WHOISWHO directoryOrg second level   \n",
       "2          OP Themes and publication author   \n",
       "3    Eurovoc domains, thesauri and concepts   \n",
       "4             Eurovoc concept and aligments   \n",
       "5                                 NUTS Tree   \n",
       "6                                Taxonomies   \n",
       "7                   Taxonomy Level Children   \n",
       "8                  Digital Europa Thesaurus   \n",
       "9            Eurovoc concept and work types   \n",
       "10                       DET Children Level   \n",
       "11             DET Level to Eurovoc Concept   \n",
       "12       Languages by country and continent   \n",
       "13   Continents countries and organisations   \n",
       "14                   Timeline organisations   \n",
       "15          WHOISWHO EURUN Suborganizations   \n",
       "16                WHOISWHO Suborganizations   \n",
       "17                      WHOISWHO Membership   \n",
       "18                 WHOISWHO Membership Type   \n",
       "19                  WHOISWHO Wikipedia page   \n",
       "20  PUBLICATIONS - Publications by OP Theme   \n",
       "21                       OP Themes children   \n",
       "0               Manifestation by Expression   \n",
       "0             Publications by CorporateBody   \n",
       "\n",
       "                                          OPTION_TEXT      TYPE  \\\n",
       "0                                     WHOISWHO Person      TREE   \n",
       "1                  WHOISWHO directoryOrg second level      TREE   \n",
       "2                    OP Themes and publication author      TREE   \n",
       "3             Eurovoc concepts by thesauri and domain      TREE   \n",
       "4             Eurovoc concepts and external aligments      TREE   \n",
       "5                                           NUTS Tree      TREE   \n",
       "6                                          Taxonomies      TREE   \n",
       "7                             Taxonomy Level Children      TREE   \n",
       "8                            Digital Europa Thesaurus      TREE   \n",
       "9                  Eurovoc concepts and works by type      TREE   \n",
       "10                                 DET Children Level      TREE   \n",
       "11                       DET Level to Eurovoc Concept      TREE   \n",
       "12                 Languages by country and continent      TREE   \n",
       "13  Continents countries and organisations those c...      TREE   \n",
       "14                             Timeline organisations  TIMELINE   \n",
       "15                    WHOISWHO EURUN Suborganizations      TREE   \n",
       "16                          WHOISWHO Suborganizations      TREE   \n",
       "17                                WHOISWHO Membership      TREE   \n",
       "18                           WHOISWHO Membership Type      TREE   \n",
       "19                            WHOISWHO Wikipedia page   WEBPAGE   \n",
       "20            PUBLICATIONS - Publications by OP Theme      TREE   \n",
       "21                                 OP Themes children      TREE   \n",
       "0                         Manifestation by Expression      TREE   \n",
       "0                       Publications by CorporateBody      TREE   \n",
       "\n",
       "                                              CLASSES  \\\n",
       "0                 membership-Membership;person-Person   \n",
       "1   directoryOrg-Directory Organization;directoryO...   \n",
       "2        opTheme-OP Theme;corporateBody-corporateBody   \n",
       "3   eurovoc-Eurovoc;eurovocDomain-Eurovoc Domain;e...   \n",
       "4    eurovocConcept-Eurovoc Concept;aligment-Aligment   \n",
       "5   nuts-NUTS Classification;nutsLevel0-NUTS Level...   \n",
       "6   taxonomy-Taxonomies Classification;taxonomyTyp...   \n",
       "7   taxonomyLevel1-Taxonomy Level;taxonomyLevel2-T...   \n",
       "8     det-DET;detLevel1-DET Level;detLevel2-DET Level   \n",
       "9   eurovocConcept-Eurovoc Concept;workType-Work T...   \n",
       "10            detLevel2-DET Level;detLevel3-DET Level   \n",
       "11  detLevel1-DET Level;eurovocConcept-Eurovoc Con...   \n",
       "12  continent-Continents;continentName-Continent;c...   \n",
       "13  continent-Continents;continentName-Continent;c...   \n",
       "14                                   org-Organisation   \n",
       "15   eurun-European Union;corporateBody-corporateBody   \n",
       "16  corporateBody-corporateBody;directoryOrg-Direc...   \n",
       "17  directoryOrg-Directory Organization;membership...   \n",
       "18           membership-Membership Type;person-Person   \n",
       "19                          article-Wikipedia Article   \n",
       "20   opThemeMain-Publications Themes;opTheme-OP Theme   \n",
       "21       opThemeParent-OP Theme;opThemeChild-OP Theme   \n",
       "0   expression-Publication Document;manifestation-...   \n",
       "0   corporateBody-corporateBody;publicationDocumen...   \n",
       "\n",
       "                 PARAMETERS  \\\n",
       "0                       NaN   \n",
       "1                       NaN   \n",
       "2                       NaN   \n",
       "3                       NaN   \n",
       "4                       NaN   \n",
       "5                       NaN   \n",
       "6                       NaN   \n",
       "7                       NaN   \n",
       "8                       NaN   \n",
       "9                       NaN   \n",
       "10                      NaN   \n",
       "11                      NaN   \n",
       "12                      NaN   \n",
       "13                      NaN   \n",
       "14                      NaN   \n",
       "15                      NaN   \n",
       "16                      NaN   \n",
       "17                      NaN   \n",
       "18  membership_directoryOrg   \n",
       "19                person_id   \n",
       "20                      NaN   \n",
       "21                      NaN   \n",
       "0                             \n",
       "0     corporateBody_opTheme   \n",
       "\n",
       "                                              FILTERS  \\\n",
       "0                                                 NaN   \n",
       "1                                                 NaN   \n",
       "2                                                 NaN   \n",
       "3                                                 NaN   \n",
       "4                                                 NaN   \n",
       "5                                                 NaN   \n",
       "6                                                 NaN   \n",
       "7                                                 NaN   \n",
       "8                                                 NaN   \n",
       "9                                                 NaN   \n",
       "10                                                NaN   \n",
       "11                                                NaN   \n",
       "12                                                NaN   \n",
       "13                                                NaN   \n",
       "14                                                NaN   \n",
       "15  corporateBody_country-dropdown;corporateBody_l...   \n",
       "16                                                NaN   \n",
       "17                                                NaN   \n",
       "18                                                NaN   \n",
       "19                                                NaN   \n",
       "20                                                NaN   \n",
       "21                                                NaN   \n",
       "0                                                       \n",
       "0                                                       \n",
       "\n",
       "                                              TOOLTIP           FUNCTION  \n",
       "0                                                 NaN                NaN  \n",
       "1                                                 NaN                NaN  \n",
       "2                                                 NaN                NaN  \n",
       "3                                                 NaN                NaN  \n",
       "4                                                 NaN                NaN  \n",
       "5                                                 NaN                NaN  \n",
       "6                                                 NaN                NaN  \n",
       "7                                                 NaN                NaN  \n",
       "8                                                 NaN                NaN  \n",
       "9                                                 NaN                NaN  \n",
       "10                                                NaN                NaN  \n",
       "11                                                NaN                NaN  \n",
       "12                                                NaN                NaN  \n",
       "13                                                NaN                NaN  \n",
       "14                                                NaN                NaN  \n",
       "15  corporateBody_country-Country;corporateBody_lo...                NaN  \n",
       "16                                                NaN                NaN  \n",
       "17                                                NaN                NaN  \n",
       "18                                                NaN                NaN  \n",
       "19                                                NaN  showWikipediaPage  \n",
       "20                                                NaN                NaN  \n",
       "21                                                NaN                NaN  \n",
       "0               manifestation_type-Manifestation Type                     \n",
       "0                                                                         "
      ]
     },
     "execution_count": 72,
     "metadata": {},
     "output_type": "execute_result"
    }
   ],
   "source": [
    "df"
   ]
  },
  {
   "cell_type": "code",
   "execution_count": 10,
   "metadata": {},
   "outputs": [],
   "source": [
    "df.to_csv(\"../config_vinalod/config_basicMode.txt\", sep='\\t',index=False,encoding=\"utf-8\")"
   ]
  },
  {
   "cell_type": "code",
   "execution_count": 107,
   "metadata": {},
   "outputs": [],
   "source": [
    "df=pd.concat([df[20:-3],df[:20],df.tail(3)])"
   ]
  },
  {
   "cell_type": "code",
   "execution_count": 101,
   "metadata": {},
   "outputs": [
    {
     "data": {
      "text/html": [
       "<div>\n",
       "<style scoped>\n",
       "    .dataframe tbody tr th:only-of-type {\n",
       "        vertical-align: middle;\n",
       "    }\n",
       "\n",
       "    .dataframe tbody tr th {\n",
       "        vertical-align: top;\n",
       "    }\n",
       "\n",
       "    .dataframe thead th {\n",
       "        text-align: right;\n",
       "    }\n",
       "</style>\n",
       "<table border=\"1\" class=\"dataframe\">\n",
       "  <thead>\n",
       "    <tr style=\"text-align: right;\">\n",
       "      <th></th>\n",
       "      <th>CLASS</th>\n",
       "      <th>URL</th>\n",
       "      <th>QUERY</th>\n",
       "      <th>HIERARCHY</th>\n",
       "      <th>PROPERTIES</th>\n",
       "      <th>OPTION</th>\n",
       "      <th>OPTION_TEXT</th>\n",
       "      <th>TYPE</th>\n",
       "      <th>CLASSES</th>\n",
       "      <th>PARAMETERS</th>\n",
       "      <th>FILTERS</th>\n",
       "      <th>TOOLTIP</th>\n",
       "      <th>FUNCTION</th>\n",
       "    </tr>\n",
       "  </thead>\n",
       "  <tbody>\n",
       "    <tr>\n",
       "      <th>0</th>\n",
       "      <td>Membership</td>\n",
       "      <td>https://publications.europa.eu/webapi/rdf/sparql</td>\n",
       "      <td>\\n    PREFIX xsd: &lt;http://www.w3.org/2001/XMLS...</td>\n",
       "      <td>membership-person</td>\n",
       "      <td>person-person_uri;person-person_gender;person-...</td>\n",
       "      <td>WHOISWHO Person</td>\n",
       "      <td>WHOISWHO Person</td>\n",
       "      <td>TREE</td>\n",
       "      <td>membership-Membership;person-Person</td>\n",
       "      <td>NaN</td>\n",
       "      <td>NaN</td>\n",
       "      <td>NaN</td>\n",
       "      <td>NaN</td>\n",
       "    </tr>\n",
       "    <tr>\n",
       "      <th>1</th>\n",
       "      <td>Directory Organization</td>\n",
       "      <td>https://publications.europa.eu/webapi/rdf/sparql</td>\n",
       "      <td>\\nPREFIX xsd: &lt;http://www.w3.org/2001/XMLSchem...</td>\n",
       "      <td>directoryOrg-directoryOrg2</td>\n",
       "      <td>directoryOrg2-directoryOrg2_uri;directoryOrg2-...</td>\n",
       "      <td>WHOISWHO directoryOrg second level</td>\n",
       "      <td>WHOISWHO directoryOrg second level</td>\n",
       "      <td>TREE</td>\n",
       "      <td>directoryOrg-Directory Organization;directoryO...</td>\n",
       "      <td>NaN</td>\n",
       "      <td>NaN</td>\n",
       "      <td>NaN</td>\n",
       "      <td>NaN</td>\n",
       "    </tr>\n",
       "    <tr>\n",
       "      <th>2</th>\n",
       "      <td>OP Theme</td>\n",
       "      <td>https://publications.europa.eu/webapi/rdf/sparql</td>\n",
       "      <td>\\n        PREFIX xsd: &lt;http://www.w3.org/2001/...</td>\n",
       "      <td>opTheme-corporateBody</td>\n",
       "      <td>opTheme-opTheme_uri;corporateBody-corporateBod...</td>\n",
       "      <td>OP Themes and publication author</td>\n",
       "      <td>OP Themes and publication author</td>\n",
       "      <td>TREE</td>\n",
       "      <td>opTheme-OP Theme;corporateBody-corporateBody</td>\n",
       "      <td>NaN</td>\n",
       "      <td>NaN</td>\n",
       "      <td>NaN</td>\n",
       "      <td>NaN</td>\n",
       "    </tr>\n",
       "    <tr>\n",
       "      <th>3</th>\n",
       "      <td>eurovoc</td>\n",
       "      <td>https://publications.europa.eu/webapi/rdf/sparql</td>\n",
       "      <td>PREFIX xsd: &lt;http://www.w3.org/2001/XMLSchema#...</td>\n",
       "      <td>eurovoc-eurovocDomain-eurovocThesauri-eurovocC...</td>\n",
       "      <td>eurovoc-eurovoc_uri;eurovocDomain-eurovocDomai...</td>\n",
       "      <td>Eurovoc domains, thesauri and concepts</td>\n",
       "      <td>Eurovoc concepts by thesauri and domain</td>\n",
       "      <td>TREE</td>\n",
       "      <td>eurovoc-Eurovoc;eurovocDomain-Eurovoc Domain;e...</td>\n",
       "      <td>NaN</td>\n",
       "      <td>NaN</td>\n",
       "      <td>NaN</td>\n",
       "      <td>NaN</td>\n",
       "    </tr>\n",
       "    <tr>\n",
       "      <th>4</th>\n",
       "      <td>Eurovoc Concept</td>\n",
       "      <td>https://publications.europa.eu/webapi/rdf/sparql</td>\n",
       "      <td>PREFIX rdfs: &lt;http://www.w3.org/2000/01/rdf-sc...</td>\n",
       "      <td>eurovocConcept-aligment</td>\n",
       "      <td>eurovocConcept-eurovocConcept_uri</td>\n",
       "      <td>Eurovoc concept and aligments</td>\n",
       "      <td>Eurovoc concepts and external aligments</td>\n",
       "      <td>TREE</td>\n",
       "      <td>eurovocConcept-Eurovoc Concept;aligment-Aligment</td>\n",
       "      <td>NaN</td>\n",
       "      <td>NaN</td>\n",
       "      <td>NaN</td>\n",
       "      <td>NaN</td>\n",
       "    </tr>\n",
       "    <tr>\n",
       "      <th>5</th>\n",
       "      <td>nuts</td>\n",
       "      <td>https://publications.europa.eu/webapi/rdf/sparql</td>\n",
       "      <td>PREFIX xsd: &lt;http://www.w3.org/2001/XMLSchema#...</td>\n",
       "      <td>nuts-nutsLevel0-nutsLevel1-nutsLevel2-nutsLevel3</td>\n",
       "      <td>nutsLevel0-nutsLevel0_uri;nutsLevel1-nutsLevel...</td>\n",
       "      <td>NUTS Tree</td>\n",
       "      <td>NUTS Tree</td>\n",
       "      <td>TREE</td>\n",
       "      <td>nuts-NUTS Classification;nutsLevel0-NUTS Level...</td>\n",
       "      <td>NaN</td>\n",
       "      <td>NaN</td>\n",
       "      <td>NaN</td>\n",
       "      <td>NaN</td>\n",
       "    </tr>\n",
       "    <tr>\n",
       "      <th>6</th>\n",
       "      <td>taxonomy</td>\n",
       "      <td>https://publications.europa.eu/webapi/rdf/sparql</td>\n",
       "      <td>PREFIX skos: &lt;http://www.w3.org/2004/02/skos/c...</td>\n",
       "      <td>taxonomy-taxonomyType-taxonomyLevel1</td>\n",
       "      <td>taxonomy-taxonomy_def;taxonomyType-taxonomyTyp...</td>\n",
       "      <td>Taxonomies</td>\n",
       "      <td>Taxonomies</td>\n",
       "      <td>TREE</td>\n",
       "      <td>taxonomy-Taxonomies Classification;taxonomyTyp...</td>\n",
       "      <td>NaN</td>\n",
       "      <td>NaN</td>\n",
       "      <td>NaN</td>\n",
       "      <td>NaN</td>\n",
       "    </tr>\n",
       "    <tr>\n",
       "      <th>7</th>\n",
       "      <td>Taxonomy Level</td>\n",
       "      <td>https://publications.europa.eu/webapi/rdf/sparql</td>\n",
       "      <td>PREFIX xsd: &lt;http://www.w3.org/2001/XMLSchema#...</td>\n",
       "      <td>taxonomyLevel1-taxonomyLevel2</td>\n",
       "      <td>taxonomyLevel1-taxonomyLevel1_uri;taxonomyLeve...</td>\n",
       "      <td>Taxonomy Level Children</td>\n",
       "      <td>Taxonomy Level Children</td>\n",
       "      <td>TREE</td>\n",
       "      <td>taxonomyLevel1-Taxonomy Level;taxonomyLevel2-T...</td>\n",
       "      <td>NaN</td>\n",
       "      <td>NaN</td>\n",
       "      <td>NaN</td>\n",
       "      <td>NaN</td>\n",
       "    </tr>\n",
       "    <tr>\n",
       "      <th>8</th>\n",
       "      <td>det</td>\n",
       "      <td>https://publications.europa.eu/webapi/rdf/sparql</td>\n",
       "      <td>PREFIX skos: &lt;http://www.w3.org/2004/02/skos/c...</td>\n",
       "      <td>det-detLevel1-detLevel2</td>\n",
       "      <td>det-det_uri;detLevel1-detLevel1_uri;detLevel2-...</td>\n",
       "      <td>Digital Europa Thesaurus</td>\n",
       "      <td>Digital Europa Thesaurus</td>\n",
       "      <td>TREE</td>\n",
       "      <td>det-DET;detLevel1-DET Level;detLevel2-DET Level</td>\n",
       "      <td>NaN</td>\n",
       "      <td>NaN</td>\n",
       "      <td>NaN</td>\n",
       "      <td>NaN</td>\n",
       "    </tr>\n",
       "    <tr>\n",
       "      <th>9</th>\n",
       "      <td>Eurovoc Concept</td>\n",
       "      <td>https://publications.europa.eu/webapi/rdf/sparql</td>\n",
       "      <td>PREFIX xsd: &lt;http://www.w3.org/2001/XMLSchema#...</td>\n",
       "      <td>eurovocConcept-workType-work</td>\n",
       "      <td>eurovocConcept-eurovocConcept_uri;workType-wor...</td>\n",
       "      <td>Eurovoc concept and work types</td>\n",
       "      <td>Eurovoc concepts and works by type</td>\n",
       "      <td>TREE</td>\n",
       "      <td>eurovocConcept-Eurovoc Concept;workType-Work T...</td>\n",
       "      <td>NaN</td>\n",
       "      <td>NaN</td>\n",
       "      <td>NaN</td>\n",
       "      <td>NaN</td>\n",
       "    </tr>\n",
       "    <tr>\n",
       "      <th>10</th>\n",
       "      <td>DET Level</td>\n",
       "      <td>https://publications.europa.eu/webapi/rdf/sparql</td>\n",
       "      <td>PREFIX xsd: &lt;http://www.w3.org/2001/XMLSchema#...</td>\n",
       "      <td>detLevel2-detLevel3</td>\n",
       "      <td>detLevel2-detLevel2_uri;detLevel3-detLevel3_uri</td>\n",
       "      <td>DET Children Level</td>\n",
       "      <td>DET Children Level</td>\n",
       "      <td>TREE</td>\n",
       "      <td>detLevel2-DET Level;detLevel3-DET Level</td>\n",
       "      <td>NaN</td>\n",
       "      <td>NaN</td>\n",
       "      <td>NaN</td>\n",
       "      <td>NaN</td>\n",
       "    </tr>\n",
       "    <tr>\n",
       "      <th>11</th>\n",
       "      <td>DET Level</td>\n",
       "      <td>https://publications.europa.eu/webapi/rdf/sparql</td>\n",
       "      <td>\\n    PREFIX xsd: &lt;http://www.w3.org/2001/XMLS...</td>\n",
       "      <td>detLevel1-eurovocConcept</td>\n",
       "      <td>detLevel1-detLevel1_uri;eurovocConcept-eurovoc...</td>\n",
       "      <td>DET Level to Eurovoc Concept</td>\n",
       "      <td>DET Level to Eurovoc Concept</td>\n",
       "      <td>TREE</td>\n",
       "      <td>detLevel1-DET Level;eurovocConcept-Eurovoc Con...</td>\n",
       "      <td>NaN</td>\n",
       "      <td>NaN</td>\n",
       "      <td>NaN</td>\n",
       "      <td>NaN</td>\n",
       "    </tr>\n",
       "    <tr>\n",
       "      <th>12</th>\n",
       "      <td>Continents</td>\n",
       "      <td>https://publications.europa.eu/webapi/rdf/sparql</td>\n",
       "      <td>\\n    PREFIX xsd: &lt;http://www.w3.org/2001/XMLS...</td>\n",
       "      <td>continent-continentName-country-language</td>\n",
       "      <td>continent-continent_uri;continentName-continen...</td>\n",
       "      <td>Languages by country and continent</td>\n",
       "      <td>Languages by country and continent</td>\n",
       "      <td>TREE</td>\n",
       "      <td>continent-Continents;continentName-Continent;c...</td>\n",
       "      <td>NaN</td>\n",
       "      <td>NaN</td>\n",
       "      <td>NaN</td>\n",
       "      <td>NaN</td>\n",
       "    </tr>\n",
       "    <tr>\n",
       "      <th>13</th>\n",
       "      <td>Continents</td>\n",
       "      <td>https://publications.europa.eu/webapi/rdf/sparql</td>\n",
       "      <td>PREFIX xsd: &lt;http://www.w3.org/2001/XMLSchema#...</td>\n",
       "      <td>continent-continentName-country-org</td>\n",
       "      <td>continent-continent_uri;continentName-continen...</td>\n",
       "      <td>Continents countries and organisations</td>\n",
       "      <td>Continents countries and organisations those c...</td>\n",
       "      <td>TREE</td>\n",
       "      <td>continent-Continents;continentName-Continent;c...</td>\n",
       "      <td>NaN</td>\n",
       "      <td>NaN</td>\n",
       "      <td>NaN</td>\n",
       "      <td>NaN</td>\n",
       "    </tr>\n",
       "    <tr>\n",
       "      <th>14</th>\n",
       "      <td>org</td>\n",
       "      <td>https://publications.europa.eu/webapi/rdf/sparql</td>\n",
       "      <td>PREFIX skos: &lt;http://www.w3.org/2004/02/skos/c...</td>\n",
       "      <td>org</td>\n",
       "      <td>org-org_desc;org-org_code;org-org_startDate;or...</td>\n",
       "      <td>Timeline organisations</td>\n",
       "      <td>Timeline organisations</td>\n",
       "      <td>TIMELINE</td>\n",
       "      <td>org-Organisation</td>\n",
       "      <td>NaN</td>\n",
       "      <td>NaN</td>\n",
       "      <td>NaN</td>\n",
       "      <td>NaN</td>\n",
       "    </tr>\n",
       "    <tr>\n",
       "      <th>15</th>\n",
       "      <td>eurun</td>\n",
       "      <td>https://publications.europa.eu/webapi/rdf/sparql</td>\n",
       "      <td>\\n    PREFIX xsd: &lt;http://www.w3.org/2001/XMLS...</td>\n",
       "      <td>eurun-corporateBody</td>\n",
       "      <td>eurun-eurun_uri;eurun-eurun_image;corporateBod...</td>\n",
       "      <td>WHOISWHO EURUN Suborganizations</td>\n",
       "      <td>WHOISWHO EURUN Suborganizations</td>\n",
       "      <td>TREE</td>\n",
       "      <td>eurun-European Union;corporateBody-corporateBody</td>\n",
       "      <td>NaN</td>\n",
       "      <td>corporateBody_country-dropdown;corporateBody_l...</td>\n",
       "      <td>corporateBody_country-Country;corporateBody_lo...</td>\n",
       "      <td>NaN</td>\n",
       "    </tr>\n",
       "    <tr>\n",
       "      <th>16</th>\n",
       "      <td>corporateBody</td>\n",
       "      <td>https://publications.europa.eu/webapi/rdf/sparql</td>\n",
       "      <td>\\nPREFIX xsd: &lt;http://www.w3.org/2001/XMLSchem...</td>\n",
       "      <td>corporateBody-directoryOrg</td>\n",
       "      <td>directoryOrg-directoryOrg_uri;directoryOrg-dir...</td>\n",
       "      <td>WHOISWHO Suborganizations</td>\n",
       "      <td>WHOISWHO Suborganizations</td>\n",
       "      <td>TREE</td>\n",
       "      <td>corporateBody-corporateBody;directoryOrg-Direc...</td>\n",
       "      <td>NaN</td>\n",
       "      <td>NaN</td>\n",
       "      <td>NaN</td>\n",
       "      <td>NaN</td>\n",
       "    </tr>\n",
       "    <tr>\n",
       "      <th>17</th>\n",
       "      <td>Directory Organization</td>\n",
       "      <td>https://publications.europa.eu/webapi/rdf/sparql</td>\n",
       "      <td>\\nPREFIX xsd: &lt;http://www.w3.org/2001/XMLSchem...</td>\n",
       "      <td>directoryOrg-membership</td>\n",
       "      <td>membership-membership_directoryOrg</td>\n",
       "      <td>WHOISWHO Membership</td>\n",
       "      <td>WHOISWHO Membership</td>\n",
       "      <td>TREE</td>\n",
       "      <td>directoryOrg-Directory Organization;membership...</td>\n",
       "      <td>NaN</td>\n",
       "      <td>NaN</td>\n",
       "      <td>NaN</td>\n",
       "      <td>NaN</td>\n",
       "    </tr>\n",
       "    <tr>\n",
       "      <th>18</th>\n",
       "      <td>Membership Type</td>\n",
       "      <td>https://publications.europa.eu/webapi/rdf/sparql</td>\n",
       "      <td>\\nPREFIX xsd: &lt;http://www.w3.org/2001/XMLSchem...</td>\n",
       "      <td>membership-person</td>\n",
       "      <td>membership-membership_uri;membership-membershi...</td>\n",
       "      <td>WHOISWHO Membership Type</td>\n",
       "      <td>WHOISWHO Membership Type</td>\n",
       "      <td>TREE</td>\n",
       "      <td>membership-Membership Type;person-Person</td>\n",
       "      <td>membership_directoryOrg</td>\n",
       "      <td>NaN</td>\n",
       "      <td>NaN</td>\n",
       "      <td>NaN</td>\n",
       "    </tr>\n",
       "    <tr>\n",
       "      <th>19</th>\n",
       "      <td>Person</td>\n",
       "      <td>https://query.wikidata.org/sparql</td>\n",
       "      <td>\\n    PREFIX xsd: &lt;http://www.w3.org/2001/XMLS...</td>\n",
       "      <td>person-article</td>\n",
       "      <td>article</td>\n",
       "      <td>WHOISWHO Wikipedia page</td>\n",
       "      <td>WHOISWHO Wikipedia page</td>\n",
       "      <td>WEBPAGE</td>\n",
       "      <td>article-Wikipedia Article</td>\n",
       "      <td>person_id</td>\n",
       "      <td>NaN</td>\n",
       "      <td>NaN</td>\n",
       "      <td>showWikipediaPage</td>\n",
       "    </tr>\n",
       "  </tbody>\n",
       "</table>\n",
       "</div>"
      ],
      "text/plain": [
       "                     CLASS                                               URL  \\\n",
       "0               Membership  https://publications.europa.eu/webapi/rdf/sparql   \n",
       "1   Directory Organization  https://publications.europa.eu/webapi/rdf/sparql   \n",
       "2                 OP Theme  https://publications.europa.eu/webapi/rdf/sparql   \n",
       "3                  eurovoc  https://publications.europa.eu/webapi/rdf/sparql   \n",
       "4          Eurovoc Concept  https://publications.europa.eu/webapi/rdf/sparql   \n",
       "5                     nuts  https://publications.europa.eu/webapi/rdf/sparql   \n",
       "6                 taxonomy  https://publications.europa.eu/webapi/rdf/sparql   \n",
       "7           Taxonomy Level  https://publications.europa.eu/webapi/rdf/sparql   \n",
       "8                      det  https://publications.europa.eu/webapi/rdf/sparql   \n",
       "9          Eurovoc Concept  https://publications.europa.eu/webapi/rdf/sparql   \n",
       "10               DET Level  https://publications.europa.eu/webapi/rdf/sparql   \n",
       "11               DET Level  https://publications.europa.eu/webapi/rdf/sparql   \n",
       "12              Continents  https://publications.europa.eu/webapi/rdf/sparql   \n",
       "13              Continents  https://publications.europa.eu/webapi/rdf/sparql   \n",
       "14                     org  https://publications.europa.eu/webapi/rdf/sparql   \n",
       "15                   eurun  https://publications.europa.eu/webapi/rdf/sparql   \n",
       "16           corporateBody  https://publications.europa.eu/webapi/rdf/sparql   \n",
       "17  Directory Organization  https://publications.europa.eu/webapi/rdf/sparql   \n",
       "18         Membership Type  https://publications.europa.eu/webapi/rdf/sparql   \n",
       "19                  Person                 https://query.wikidata.org/sparql   \n",
       "\n",
       "                                                QUERY  \\\n",
       "0   \\n    PREFIX xsd: <http://www.w3.org/2001/XMLS...   \n",
       "1   \\nPREFIX xsd: <http://www.w3.org/2001/XMLSchem...   \n",
       "2   \\n        PREFIX xsd: <http://www.w3.org/2001/...   \n",
       "3   PREFIX xsd: <http://www.w3.org/2001/XMLSchema#...   \n",
       "4   PREFIX rdfs: <http://www.w3.org/2000/01/rdf-sc...   \n",
       "5   PREFIX xsd: <http://www.w3.org/2001/XMLSchema#...   \n",
       "6   PREFIX skos: <http://www.w3.org/2004/02/skos/c...   \n",
       "7   PREFIX xsd: <http://www.w3.org/2001/XMLSchema#...   \n",
       "8   PREFIX skos: <http://www.w3.org/2004/02/skos/c...   \n",
       "9   PREFIX xsd: <http://www.w3.org/2001/XMLSchema#...   \n",
       "10  PREFIX xsd: <http://www.w3.org/2001/XMLSchema#...   \n",
       "11  \\n    PREFIX xsd: <http://www.w3.org/2001/XMLS...   \n",
       "12  \\n    PREFIX xsd: <http://www.w3.org/2001/XMLS...   \n",
       "13  PREFIX xsd: <http://www.w3.org/2001/XMLSchema#...   \n",
       "14  PREFIX skos: <http://www.w3.org/2004/02/skos/c...   \n",
       "15  \\n    PREFIX xsd: <http://www.w3.org/2001/XMLS...   \n",
       "16  \\nPREFIX xsd: <http://www.w3.org/2001/XMLSchem...   \n",
       "17  \\nPREFIX xsd: <http://www.w3.org/2001/XMLSchem...   \n",
       "18  \\nPREFIX xsd: <http://www.w3.org/2001/XMLSchem...   \n",
       "19  \\n    PREFIX xsd: <http://www.w3.org/2001/XMLS...   \n",
       "\n",
       "                                            HIERARCHY  \\\n",
       "0                                   membership-person   \n",
       "1                          directoryOrg-directoryOrg2   \n",
       "2                               opTheme-corporateBody   \n",
       "3   eurovoc-eurovocDomain-eurovocThesauri-eurovocC...   \n",
       "4                             eurovocConcept-aligment   \n",
       "5    nuts-nutsLevel0-nutsLevel1-nutsLevel2-nutsLevel3   \n",
       "6                taxonomy-taxonomyType-taxonomyLevel1   \n",
       "7                       taxonomyLevel1-taxonomyLevel2   \n",
       "8                             det-detLevel1-detLevel2   \n",
       "9                        eurovocConcept-workType-work   \n",
       "10                                detLevel2-detLevel3   \n",
       "11                           detLevel1-eurovocConcept   \n",
       "12           continent-continentName-country-language   \n",
       "13                continent-continentName-country-org   \n",
       "14                                                org   \n",
       "15                                eurun-corporateBody   \n",
       "16                         corporateBody-directoryOrg   \n",
       "17                            directoryOrg-membership   \n",
       "18                                  membership-person   \n",
       "19                                     person-article   \n",
       "\n",
       "                                           PROPERTIES  \\\n",
       "0   person-person_uri;person-person_gender;person-...   \n",
       "1   directoryOrg2-directoryOrg2_uri;directoryOrg2-...   \n",
       "2   opTheme-opTheme_uri;corporateBody-corporateBod...   \n",
       "3   eurovoc-eurovoc_uri;eurovocDomain-eurovocDomai...   \n",
       "4                   eurovocConcept-eurovocConcept_uri   \n",
       "5   nutsLevel0-nutsLevel0_uri;nutsLevel1-nutsLevel...   \n",
       "6   taxonomy-taxonomy_def;taxonomyType-taxonomyTyp...   \n",
       "7   taxonomyLevel1-taxonomyLevel1_uri;taxonomyLeve...   \n",
       "8   det-det_uri;detLevel1-detLevel1_uri;detLevel2-...   \n",
       "9   eurovocConcept-eurovocConcept_uri;workType-wor...   \n",
       "10    detLevel2-detLevel2_uri;detLevel3-detLevel3_uri   \n",
       "11  detLevel1-detLevel1_uri;eurovocConcept-eurovoc...   \n",
       "12  continent-continent_uri;continentName-continen...   \n",
       "13  continent-continent_uri;continentName-continen...   \n",
       "14  org-org_desc;org-org_code;org-org_startDate;or...   \n",
       "15  eurun-eurun_uri;eurun-eurun_image;corporateBod...   \n",
       "16  directoryOrg-directoryOrg_uri;directoryOrg-dir...   \n",
       "17                 membership-membership_directoryOrg   \n",
       "18  membership-membership_uri;membership-membershi...   \n",
       "19                                            article   \n",
       "\n",
       "                                    OPTION  \\\n",
       "0                          WHOISWHO Person   \n",
       "1       WHOISWHO directoryOrg second level   \n",
       "2         OP Themes and publication author   \n",
       "3   Eurovoc domains, thesauri and concepts   \n",
       "4            Eurovoc concept and aligments   \n",
       "5                                NUTS Tree   \n",
       "6                               Taxonomies   \n",
       "7                  Taxonomy Level Children   \n",
       "8                 Digital Europa Thesaurus   \n",
       "9           Eurovoc concept and work types   \n",
       "10                      DET Children Level   \n",
       "11            DET Level to Eurovoc Concept   \n",
       "12      Languages by country and continent   \n",
       "13  Continents countries and organisations   \n",
       "14                  Timeline organisations   \n",
       "15         WHOISWHO EURUN Suborganizations   \n",
       "16               WHOISWHO Suborganizations   \n",
       "17                     WHOISWHO Membership   \n",
       "18                WHOISWHO Membership Type   \n",
       "19                 WHOISWHO Wikipedia page   \n",
       "\n",
       "                                          OPTION_TEXT      TYPE  \\\n",
       "0                                     WHOISWHO Person      TREE   \n",
       "1                  WHOISWHO directoryOrg second level      TREE   \n",
       "2                    OP Themes and publication author      TREE   \n",
       "3             Eurovoc concepts by thesauri and domain      TREE   \n",
       "4             Eurovoc concepts and external aligments      TREE   \n",
       "5                                           NUTS Tree      TREE   \n",
       "6                                          Taxonomies      TREE   \n",
       "7                             Taxonomy Level Children      TREE   \n",
       "8                            Digital Europa Thesaurus      TREE   \n",
       "9                  Eurovoc concepts and works by type      TREE   \n",
       "10                                 DET Children Level      TREE   \n",
       "11                       DET Level to Eurovoc Concept      TREE   \n",
       "12                 Languages by country and continent      TREE   \n",
       "13  Continents countries and organisations those c...      TREE   \n",
       "14                             Timeline organisations  TIMELINE   \n",
       "15                    WHOISWHO EURUN Suborganizations      TREE   \n",
       "16                          WHOISWHO Suborganizations      TREE   \n",
       "17                                WHOISWHO Membership      TREE   \n",
       "18                           WHOISWHO Membership Type      TREE   \n",
       "19                            WHOISWHO Wikipedia page   WEBPAGE   \n",
       "\n",
       "                                              CLASSES  \\\n",
       "0                 membership-Membership;person-Person   \n",
       "1   directoryOrg-Directory Organization;directoryO...   \n",
       "2        opTheme-OP Theme;corporateBody-corporateBody   \n",
       "3   eurovoc-Eurovoc;eurovocDomain-Eurovoc Domain;e...   \n",
       "4    eurovocConcept-Eurovoc Concept;aligment-Aligment   \n",
       "5   nuts-NUTS Classification;nutsLevel0-NUTS Level...   \n",
       "6   taxonomy-Taxonomies Classification;taxonomyTyp...   \n",
       "7   taxonomyLevel1-Taxonomy Level;taxonomyLevel2-T...   \n",
       "8     det-DET;detLevel1-DET Level;detLevel2-DET Level   \n",
       "9   eurovocConcept-Eurovoc Concept;workType-Work T...   \n",
       "10            detLevel2-DET Level;detLevel3-DET Level   \n",
       "11  detLevel1-DET Level;eurovocConcept-Eurovoc Con...   \n",
       "12  continent-Continents;continentName-Continent;c...   \n",
       "13  continent-Continents;continentName-Continent;c...   \n",
       "14                                   org-Organisation   \n",
       "15   eurun-European Union;corporateBody-corporateBody   \n",
       "16  corporateBody-corporateBody;directoryOrg-Direc...   \n",
       "17  directoryOrg-Directory Organization;membership...   \n",
       "18           membership-Membership Type;person-Person   \n",
       "19                          article-Wikipedia Article   \n",
       "\n",
       "                 PARAMETERS  \\\n",
       "0                       NaN   \n",
       "1                       NaN   \n",
       "2                       NaN   \n",
       "3                       NaN   \n",
       "4                       NaN   \n",
       "5                       NaN   \n",
       "6                       NaN   \n",
       "7                       NaN   \n",
       "8                       NaN   \n",
       "9                       NaN   \n",
       "10                      NaN   \n",
       "11                      NaN   \n",
       "12                      NaN   \n",
       "13                      NaN   \n",
       "14                      NaN   \n",
       "15                      NaN   \n",
       "16                      NaN   \n",
       "17                      NaN   \n",
       "18  membership_directoryOrg   \n",
       "19                person_id   \n",
       "\n",
       "                                              FILTERS  \\\n",
       "0                                                 NaN   \n",
       "1                                                 NaN   \n",
       "2                                                 NaN   \n",
       "3                                                 NaN   \n",
       "4                                                 NaN   \n",
       "5                                                 NaN   \n",
       "6                                                 NaN   \n",
       "7                                                 NaN   \n",
       "8                                                 NaN   \n",
       "9                                                 NaN   \n",
       "10                                                NaN   \n",
       "11                                                NaN   \n",
       "12                                                NaN   \n",
       "13                                                NaN   \n",
       "14                                                NaN   \n",
       "15  corporateBody_country-dropdown;corporateBody_l...   \n",
       "16                                                NaN   \n",
       "17                                                NaN   \n",
       "18                                                NaN   \n",
       "19                                                NaN   \n",
       "\n",
       "                                              TOOLTIP           FUNCTION  \n",
       "0                                                 NaN                NaN  \n",
       "1                                                 NaN                NaN  \n",
       "2                                                 NaN                NaN  \n",
       "3                                                 NaN                NaN  \n",
       "4                                                 NaN                NaN  \n",
       "5                                                 NaN                NaN  \n",
       "6                                                 NaN                NaN  \n",
       "7                                                 NaN                NaN  \n",
       "8                                                 NaN                NaN  \n",
       "9                                                 NaN                NaN  \n",
       "10                                                NaN                NaN  \n",
       "11                                                NaN                NaN  \n",
       "12                                                NaN                NaN  \n",
       "13                                                NaN                NaN  \n",
       "14                                                NaN                NaN  \n",
       "15  corporateBody_country-Country;corporateBody_lo...                NaN  \n",
       "16                                                NaN                NaN  \n",
       "17                                                NaN                NaN  \n",
       "18                                                NaN                NaN  \n",
       "19                                                NaN  showWikipediaPage  "
      ]
     },
     "execution_count": 101,
     "metadata": {},
     "output_type": "execute_result"
    }
   ],
   "source": [
    "df[:20]"
   ]
  },
  {
   "cell_type": "code",
   "execution_count": 97,
   "metadata": {},
   "outputs": [
    {
     "data": {
      "text/html": [
       "<div>\n",
       "<style scoped>\n",
       "    .dataframe tbody tr th:only-of-type {\n",
       "        vertical-align: middle;\n",
       "    }\n",
       "\n",
       "    .dataframe tbody tr th {\n",
       "        vertical-align: top;\n",
       "    }\n",
       "\n",
       "    .dataframe thead th {\n",
       "        text-align: right;\n",
       "    }\n",
       "</style>\n",
       "<table border=\"1\" class=\"dataframe\">\n",
       "  <thead>\n",
       "    <tr style=\"text-align: right;\">\n",
       "      <th></th>\n",
       "      <th>CLASS</th>\n",
       "      <th>URL</th>\n",
       "      <th>QUERY</th>\n",
       "      <th>HIERARCHY</th>\n",
       "      <th>PROPERTIES</th>\n",
       "      <th>OPTION</th>\n",
       "      <th>OPTION_TEXT</th>\n",
       "      <th>TYPE</th>\n",
       "      <th>CLASSES</th>\n",
       "      <th>PARAMETERS</th>\n",
       "      <th>FILTERS</th>\n",
       "      <th>TOOLTIP</th>\n",
       "      <th>FUNCTION</th>\n",
       "    </tr>\n",
       "  </thead>\n",
       "  <tbody>\n",
       "    <tr>\n",
       "      <th>20</th>\n",
       "      <td>opThemeMain</td>\n",
       "      <td>https://publications.europa.eu/webapi/rdf/sparql</td>\n",
       "      <td>\\n    PREFIX xsd: &lt;http://www.w3.org/2001/XMLS...</td>\n",
       "      <td>opThemeMain-opTheme</td>\n",
       "      <td>opThemeMain-opThemeMain_uri;opTheme-opTheme_uri</td>\n",
       "      <td>PUBLICATIONS - Publications by OP Theme</td>\n",
       "      <td>PUBLICATIONS - Publications by OP Theme</td>\n",
       "      <td>TREE</td>\n",
       "      <td>opThemeMain-Publications Themes;opTheme-OP Theme</td>\n",
       "      <td>NaN</td>\n",
       "      <td>NaN</td>\n",
       "      <td>NaN</td>\n",
       "      <td>NaN</td>\n",
       "    </tr>\n",
       "  </tbody>\n",
       "</table>\n",
       "</div>"
      ],
      "text/plain": [
       "          CLASS                                               URL  \\\n",
       "20  opThemeMain  https://publications.europa.eu/webapi/rdf/sparql   \n",
       "\n",
       "                                                QUERY            HIERARCHY  \\\n",
       "20  \\n    PREFIX xsd: <http://www.w3.org/2001/XMLS...  opThemeMain-opTheme   \n",
       "\n",
       "                                         PROPERTIES  \\\n",
       "20  opThemeMain-opThemeMain_uri;opTheme-opTheme_uri   \n",
       "\n",
       "                                     OPTION  \\\n",
       "20  PUBLICATIONS - Publications by OP Theme   \n",
       "\n",
       "                                OPTION_TEXT  TYPE  \\\n",
       "20  PUBLICATIONS - Publications by OP Theme  TREE   \n",
       "\n",
       "                                             CLASSES PARAMETERS FILTERS  \\\n",
       "20  opThemeMain-Publications Themes;opTheme-OP Theme        NaN     NaN   \n",
       "\n",
       "   TOOLTIP FUNCTION  \n",
       "20     NaN      NaN  "
      ]
     },
     "execution_count": 97,
     "metadata": {},
     "output_type": "execute_result"
    }
   ],
   "source": [
    "df[20:-3]"
   ]
  },
  {
   "cell_type": "code",
   "execution_count": 103,
   "metadata": {},
   "outputs": [
    {
     "data": {
      "text/html": [
       "<div>\n",
       "<style scoped>\n",
       "    .dataframe tbody tr th:only-of-type {\n",
       "        vertical-align: middle;\n",
       "    }\n",
       "\n",
       "    .dataframe tbody tr th {\n",
       "        vertical-align: top;\n",
       "    }\n",
       "\n",
       "    .dataframe thead th {\n",
       "        text-align: right;\n",
       "    }\n",
       "</style>\n",
       "<table border=\"1\" class=\"dataframe\">\n",
       "  <thead>\n",
       "    <tr style=\"text-align: right;\">\n",
       "      <th></th>\n",
       "      <th>CLASS</th>\n",
       "      <th>URL</th>\n",
       "      <th>QUERY</th>\n",
       "      <th>HIERARCHY</th>\n",
       "      <th>PROPERTIES</th>\n",
       "      <th>OPTION</th>\n",
       "      <th>OPTION_TEXT</th>\n",
       "      <th>TYPE</th>\n",
       "      <th>CLASSES</th>\n",
       "      <th>PARAMETERS</th>\n",
       "      <th>FILTERS</th>\n",
       "      <th>TOOLTIP</th>\n",
       "      <th>FUNCTION</th>\n",
       "    </tr>\n",
       "  </thead>\n",
       "  <tbody>\n",
       "    <tr>\n",
       "      <th>21</th>\n",
       "      <td>OP Theme</td>\n",
       "      <td>https://publications.europa.eu/webapi/rdf/sparql</td>\n",
       "      <td>\\n        PREFIX xsd: &lt;http://www.w3.org/2001/...</td>\n",
       "      <td>opThemeParent-opThemeChild</td>\n",
       "      <td>opThemeParent-opThemeParent_uri;opThemeChild-o...</td>\n",
       "      <td>OP Themes children</td>\n",
       "      <td>OP Themes children</td>\n",
       "      <td>TREE</td>\n",
       "      <td>opThemeParent-OP Theme;opThemeChild-OP Theme</td>\n",
       "      <td>NaN</td>\n",
       "      <td>NaN</td>\n",
       "      <td>NaN</td>\n",
       "      <td>NaN</td>\n",
       "    </tr>\n",
       "    <tr>\n",
       "      <th>0</th>\n",
       "      <td>Publication Document</td>\n",
       "      <td>https://publications.europa.eu/webapi/rdf/sparql</td>\n",
       "      <td>\\nPREFIX xsd: &lt;http://www.w3.org/2001/XMLSchem...</td>\n",
       "      <td>expression-manifestation</td>\n",
       "      <td>expression-expression_uri;manifestation-manife...</td>\n",
       "      <td>Manifestation by Expression</td>\n",
       "      <td>Manifestation by Expression</td>\n",
       "      <td>TREE</td>\n",
       "      <td>expression-Publication Document;manifestation-...</td>\n",
       "      <td></td>\n",
       "      <td></td>\n",
       "      <td>manifestation_type-Manifestation Type</td>\n",
       "      <td></td>\n",
       "    </tr>\n",
       "    <tr>\n",
       "      <th>0</th>\n",
       "      <td>corporateBody</td>\n",
       "      <td>https://publications.europa.eu/webapi/rdf/sparql</td>\n",
       "      <td>\\nPREFIX xsd: &lt;http://www.w3.org/2001/XMLSchem...</td>\n",
       "      <td>corporateBody-publicationDocument</td>\n",
       "      <td>corporateBody-corporateBody_uri;publicationDoc...</td>\n",
       "      <td>Publications by CorporateBody</td>\n",
       "      <td>Publications by CorporateBody</td>\n",
       "      <td>TREE</td>\n",
       "      <td>corporateBody-corporateBody;publicationDocumen...</td>\n",
       "      <td>corporateBody_opTheme</td>\n",
       "      <td></td>\n",
       "      <td></td>\n",
       "      <td></td>\n",
       "    </tr>\n",
       "  </tbody>\n",
       "</table>\n",
       "</div>"
      ],
      "text/plain": [
       "                   CLASS                                               URL  \\\n",
       "21              OP Theme  https://publications.europa.eu/webapi/rdf/sparql   \n",
       "0   Publication Document  https://publications.europa.eu/webapi/rdf/sparql   \n",
       "0          corporateBody  https://publications.europa.eu/webapi/rdf/sparql   \n",
       "\n",
       "                                                QUERY  \\\n",
       "21  \\n        PREFIX xsd: <http://www.w3.org/2001/...   \n",
       "0   \\nPREFIX xsd: <http://www.w3.org/2001/XMLSchem...   \n",
       "0   \\nPREFIX xsd: <http://www.w3.org/2001/XMLSchem...   \n",
       "\n",
       "                            HIERARCHY  \\\n",
       "21         opThemeParent-opThemeChild   \n",
       "0            expression-manifestation   \n",
       "0   corporateBody-publicationDocument   \n",
       "\n",
       "                                           PROPERTIES  \\\n",
       "21  opThemeParent-opThemeParent_uri;opThemeChild-o...   \n",
       "0   expression-expression_uri;manifestation-manife...   \n",
       "0   corporateBody-corporateBody_uri;publicationDoc...   \n",
       "\n",
       "                           OPTION                    OPTION_TEXT  TYPE  \\\n",
       "21             OP Themes children             OP Themes children  TREE   \n",
       "0     Manifestation by Expression    Manifestation by Expression  TREE   \n",
       "0   Publications by CorporateBody  Publications by CorporateBody  TREE   \n",
       "\n",
       "                                              CLASSES             PARAMETERS  \\\n",
       "21       opThemeParent-OP Theme;opThemeChild-OP Theme                    NaN   \n",
       "0   expression-Publication Document;manifestation-...                          \n",
       "0   corporateBody-corporateBody;publicationDocumen...  corporateBody_opTheme   \n",
       "\n",
       "   FILTERS                                TOOLTIP FUNCTION  \n",
       "21     NaN                                    NaN      NaN  \n",
       "0           manifestation_type-Manifestation Type           \n",
       "0                                                           "
      ]
     },
     "execution_count": 103,
     "metadata": {},
     "output_type": "execute_result"
    }
   ],
   "source": [
    "df.tail(3)"
   ]
  },
  {
   "cell_type": "code",
   "execution_count": 43,
   "metadata": {},
   "outputs": [],
   "source": [
    "#df=df[df[\"OPTION\"]!=\"WHOISWHO Wikipedia page\"]"
   ]
  },
  {
   "cell_type": "markdown",
   "metadata": {},
   "source": [
    "## Expert Mode"
   ]
  },
  {
   "cell_type": "code",
   "execution_count": 24,
   "metadata": {},
   "outputs": [],
   "source": [
    "filename=\"../networkGraph2/txt/config_expertMode.txt\""
   ]
  },
  {
   "cell_type": "code",
   "execution_count": 25,
   "metadata": {},
   "outputs": [],
   "source": [
    "df_ex=pd.read_csv(filename, sep='\\t')"
   ]
  },
  {
   "cell_type": "code",
   "execution_count": 26,
   "metadata": {},
   "outputs": [
    {
     "data": {
      "text/html": [
       "<div>\n",
       "<style scoped>\n",
       "    .dataframe tbody tr th:only-of-type {\n",
       "        vertical-align: middle;\n",
       "    }\n",
       "\n",
       "    .dataframe tbody tr th {\n",
       "        vertical-align: top;\n",
       "    }\n",
       "\n",
       "    .dataframe thead th {\n",
       "        text-align: right;\n",
       "    }\n",
       "</style>\n",
       "<table border=\"1\" class=\"dataframe\">\n",
       "  <thead>\n",
       "    <tr style=\"text-align: right;\">\n",
       "      <th></th>\n",
       "      <th>URI</th>\n",
       "      <th>ENDPOINT</th>\n",
       "    </tr>\n",
       "  </thead>\n",
       "  <tbody>\n",
       "    <tr>\n",
       "      <th>0</th>\n",
       "      <td>http://publications.europa.eu/resource/authori...</td>\n",
       "      <td>https://publications.europa.eu/webapi/rdf/sparql</td>\n",
       "    </tr>\n",
       "    <tr>\n",
       "      <th>1</th>\n",
       "      <td>http://publications.europa.eu/resource/authori...</td>\n",
       "      <td>https://publications.europa.eu/webapi/rdf/sparql</td>\n",
       "    </tr>\n",
       "    <tr>\n",
       "      <th>2</th>\n",
       "      <td>http://publications.europa.eu/resource/authori...</td>\n",
       "      <td>https://publications.europa.eu/webapi/rdf/sparql</td>\n",
       "    </tr>\n",
       "    <tr>\n",
       "      <th>3</th>\n",
       "      <td>http://data.europa.eu/88u/dataset/covid-19-cor...</td>\n",
       "      <td>https://data.europa.eu/euodp/sparqlep</td>\n",
       "    </tr>\n",
       "  </tbody>\n",
       "</table>\n",
       "</div>"
      ],
      "text/plain": [
       "                                                 URI  \\\n",
       "0  http://publications.europa.eu/resource/authori...   \n",
       "1  http://publications.europa.eu/resource/authori...   \n",
       "2  http://publications.europa.eu/resource/authori...   \n",
       "3  http://data.europa.eu/88u/dataset/covid-19-cor...   \n",
       "\n",
       "                                           ENDPOINT  \n",
       "0  https://publications.europa.eu/webapi/rdf/sparql  \n",
       "1  https://publications.europa.eu/webapi/rdf/sparql  \n",
       "2  https://publications.europa.eu/webapi/rdf/sparql  \n",
       "3             https://data.europa.eu/euodp/sparqlep  "
      ]
     },
     "execution_count": 26,
     "metadata": {},
     "output_type": "execute_result"
    }
   ],
   "source": [
    "df_ex"
   ]
  },
  {
   "cell_type": "code",
   "execution_count": null,
   "metadata": {},
   "outputs": [],
   "source": []
  }
 ],
 "metadata": {
  "kernelspec": {
   "display_name": "Python 3",
   "language": "python",
   "name": "python3"
  },
  "language_info": {
   "codemirror_mode": {
    "name": "ipython",
    "version": 3
   },
   "file_extension": ".py",
   "mimetype": "text/x-python",
   "name": "python",
   "nbconvert_exporter": "python",
   "pygments_lexer": "ipython3",
   "version": "3.7.3"
  }
 },
 "nbformat": 4,
 "nbformat_minor": 4
}
